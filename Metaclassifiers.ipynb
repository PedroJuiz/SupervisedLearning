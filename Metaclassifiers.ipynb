{
  "cells": [
    {
      "cell_type": "markdown",
      "metadata": {
        "id": "view-in-github",
        "colab_type": "text"
      },
      "source": [
        "<a href=\"https://colab.research.google.com/github/PedroJuiz/SupervisedLearning/blob/main/Metaclassifiers.ipynb\" target=\"_parent\"><img src=\"https://colab.research.google.com/assets/colab-badge.svg\" alt=\"Open In Colab\"/></a>"
      ]
    },
    {
      "cell_type": "code",
      "execution_count": null,
      "metadata": {
        "export_id": 34649,
        "export_uuid": "acf0f82f-d639-48c0-8a6c-a68ad01932cc",
        "hard_timeout_in_seconds": "660",
        "hide_title_bar": "True",
        "initial_code": "# Descomenta esta linea para instalar los paquetes\n!pip install -q scikit-learn==0.24.2",
        "meta_block_is_hidden": "False",
        "meta_input_format": 0,
        "meta_is_hidden": "False",
        "meta_output_format": 2,
        "sequence": "10",
        "soft_timeout_in_seconds": "600",
        "title": "",
        "uuid": "acf0f82f-d639-48c0-8a6c-a68ad01932cc",
        "id": "DNTA6UMTPc3O"
      },
      "outputs": [],
      "source": [
        "# Descomenta esta linea para instalar los paquetes\n",
        "!pip install -q scikit-learn==0.24.2"
      ]
    },
    {
      "cell_type": "markdown",
      "metadata": {
        "export_id": 34608,
        "export_uuid": "e50a66b9-33ff-49a8-8477-619aa77c6e9e",
        "hard_timeout_in_seconds": "660",
        "hide_title_bar": "True",
        "initial_code": "<center>\n<img src='mioti_logo.jpeg' width='200px'>\n<p style=\"font-size: 18px\"><b>Machine learning 3</b><br/>Diego García Morate - diegogm@faculty.mioti.es</p>\n</center>\n<br/>\n\n# Challenge S3: Jugando con metaclasificadores",
        "meta_block_is_hidden": "False",
        "meta_input_format": 1,
        "meta_is_hidden": "True",
        "meta_output_format": 2,
        "sequence": "30",
        "soft_timeout_in_seconds": "600",
        "title": "",
        "uuid": "e50a66b9-33ff-49a8-8477-619aa77c6e9e",
        "id": "5FeaswwyPc3Q"
      },
      "source": [
        "<center>\n",
        "<img src='mioti_logo.jpeg' width='200px'>\n",
        "<p style=\"font-size: 18px\"><b>Machine learning 3</b><br/>Diego García Morate - diegogm@faculty.mioti.es</p>\n",
        "</center>\n",
        "<br/>\n",
        "\n",
        "# Challenge S3: Jugando con metaclasificadores"
      ]
    },
    {
      "cell_type": "markdown",
      "metadata": {
        "export_id": 34609,
        "export_uuid": "875c0e39-4d66-42e4-ba6a-06eaa0964cf7",
        "hard_timeout_in_seconds": "660",
        "hide_title_bar": "True",
        "initial_code": "# Objetivos\n\nEl objetivo de este challenge es entrenar varios metaclasificadores intentando predecir el rendimiento académico de varios alumnos en base a variables de su entorno.\n\n## Prerrequisitos\n\nPara hacer funcionar este worksheet deberás tener instalados los paquetes:\n\n* `numpy`\n* `pandas`\n* `scikit-learn`\n* `scipy`",
        "meta_block_is_hidden": "False",
        "meta_input_format": 1,
        "meta_is_hidden": "True",
        "meta_output_format": 2,
        "sequence": "40",
        "soft_timeout_in_seconds": "600",
        "title": "",
        "uuid": "875c0e39-4d66-42e4-ba6a-06eaa0964cf7",
        "id": "bka7mG8tPc3R"
      },
      "source": [
        "# Objetivos\n",
        "\n",
        "El objetivo de este challenge es entrenar varios metaclasificadores intentando predecir el rendimiento académico de varios alumnos en base a variables de su entorno.\n",
        "\n",
        "## Prerrequisitos\n",
        "\n",
        "Para hacer funcionar este worksheet deberás tener instalados los paquetes:\n",
        "\n",
        "* `numpy`\n",
        "* `pandas`\n",
        "* `scikit-learn`\n",
        "* `scipy`"
      ]
    },
    {
      "cell_type": "markdown",
      "metadata": {
        "export_id": 34610,
        "export_uuid": "b9fba0bc-a411-4f8c-b4de-be779f9da069",
        "hard_timeout_in_seconds": "660",
        "hide_title_bar": "True",
        "initial_code": "## Configuración del entorno",
        "meta_block_is_hidden": "False",
        "meta_input_format": 1,
        "meta_is_hidden": "True",
        "meta_output_format": 2,
        "sequence": "50",
        "soft_timeout_in_seconds": "600",
        "title": "",
        "uuid": "b9fba0bc-a411-4f8c-b4de-be779f9da069",
        "id": "Ed5qwtWKPc3R"
      },
      "source": [
        "## Configuración del entorno"
      ]
    },
    {
      "cell_type": "code",
      "execution_count": null,
      "metadata": {
        "export_id": 34611,
        "export_uuid": "2d61682b-1c42-4126-ab39-db602ff45a44",
        "hard_timeout_in_seconds": "660",
        "hide_title_bar": "True",
        "initial_code": "%matplotlib inline\n\nimport warnings\nwarnings.filterwarnings(\"ignore\")\n\nimport numpy as np\nimport pandas as pd\nimport matplotlib.pyplot as plt\nfrom math import sqrt, exp, pi\nimport sklearn\n\nimport random\n\nfrom sklearn.metrics import confusion_matrix\nfrom sklearn.model_selection import cross_val_score\nfrom sklearn.model_selection import train_test_split\n\nfrom sklearn import svm\nfrom sklearn.neural_network import MLPClassifier",
        "meta_block_is_hidden": "False",
        "meta_input_format": 0,
        "meta_is_hidden": "False",
        "meta_output_format": 2,
        "sequence": "60",
        "soft_timeout_in_seconds": "600",
        "title": "",
        "uuid": "2d61682b-1c42-4126-ab39-db602ff45a44",
        "id": "xulNq0YBPc3S"
      },
      "outputs": [],
      "source": [
        "%matplotlib inline\n",
        "\n",
        "import warnings\n",
        "warnings.filterwarnings(\"ignore\")\n",
        "\n",
        "import numpy as np\n",
        "import pandas as pd\n",
        "import matplotlib.pyplot as plt\n",
        "from math import sqrt, exp, pi\n",
        "import sklearn\n",
        "\n",
        "import random\n",
        "\n",
        "from sklearn.metrics import confusion_matrix\n",
        "from sklearn.model_selection import cross_val_score\n",
        "from sklearn.model_selection import train_test_split\n",
        "\n",
        "from sklearn import svm\n",
        "from sklearn.neural_network import MLPClassifier\n",
        "\n",
        "from sklearn.ensemble import VotingClassifier\n",
        "from sklearn.ensemble import StackingClassifier\n",
        "from sklearn.ensemble import BaggingClassifier\n",
        "from sklearn.ensemble import AdaBoostClassifier"
      ]
    },
    {
      "cell_type": "markdown",
      "metadata": {
        "export_id": 34612,
        "export_uuid": "d939e239-abda-41ea-bfda-2b1d6722707b",
        "hard_timeout_in_seconds": "660",
        "hide_title_bar": "True",
        "initial_code": "# Dataset\n\nEn este challenge vamos a trabajar con un dataset publicado en rel repositorio de la UCI que se llama `Student Performance`. Este dataset relaciona el rendimiento académico de alumnos portugueses de secundaria con un conjunto de variables de entorno. Lo puedes encontrar en: https://archive.ics.uci.edu/ml/datasets/Student+Performance\n\n\nA continuación se muestra la descripción del dataset: \n\n\n<p class=\"small-heading\"><b>Data Set Information:</b></p>\n<p class=\"normal\">This data approach student achievement in secondary education of two Portuguese schools. The data attributes include student grades, demographic, social and school related features) and it was collected by using school reports and questionnaires. Two datasets are provided regarding the performance in two distinct subjects: Mathematics (mat) and Portuguese language (por). In [Cortez and Silva, 2008], the two datasets were modeled under binary/five-level classification and regression tasks. Important note: the target attribute G3 has a strong correlation with attributes G2 and G1. This occurs because G3 is the final year grade (issued at the 3rd period), while G1 and G2 correspond to the 1st and 2nd period grades. It is more difficult to predict G3 without G2 and G1, but such prediction is much more useful (see paper source for more details).</p>\n\n<br />\n\n<p class=\"small-heading\"><b>Attribute Information:</b></p>\n<p class=\"normal\"># Attributes for both student-mat.csv (Math course) and student-por.csv (Portuguese language course) datasets:\n<br>1 school - student's school (binary: 'GP' - Gabriel Pereira or 'MS' - Mousinho da Silveira)\n<br>2 sex - student's sex (binary: 'F' - female or 'M' - male)\n<br>3 age - student's age (numeric: from 15 to 22)\n<br>4 address - student's home address type (binary: 'U' - urban or 'R' - rural)\n<br>5 famsize - family size (binary: 'LE3' - less or equal to 3 or 'GT3' - greater than 3)\n<br>6 Pstatus - parent's cohabitation status (binary: 'T' - living together or 'A' - apart)\n<br>7 Medu - mother's education (numeric: 0 - none,  1 - primary education (4th grade), 2 â€“ 5th to 9th grade, 3 â€“ secondary education or 4 â€“ higher education)\n<br>8 Fedu - father's education (numeric: 0 - none,  1 - primary education (4th grade), 2 â€“ 5th to 9th grade, 3 â€“ secondary education or 4 â€“ higher education)\n<br>9 Mjob - mother's job (nominal: 'teacher', 'health' care related, civil 'services' (e.g. administrative or police), 'at_home' or 'other')\n<br>10 Fjob - father's job (nominal: 'teacher', 'health' care related, civil 'services' (e.g. administrative or police), 'at_home' or 'other')\n<br>11 reason - reason to choose this school (nominal: close to 'home', school 'reputation', 'course' preference or 'other')\n<br>12 guardian - student's guardian (nominal: 'mother', 'father' or 'other')\n<br>13 traveltime - home to school travel time (numeric: 1 - <15 min., 2 - 15 to 30 min., 3 - 30 min. to 1 hour, or 4 - >1 hour)\n<br>14 studytime - weekly study time (numeric: 1 - <2 hours, 2 - 2 to 5 hours, 3 - 5 to 10 hours, or 4 - >10 hours)\n<br>15 failures - number of past class failures (numeric: n if 1<=n<3, else 4)\n<br>16 schoolsup - extra educational support (binary: yes or no)\n<br>17 famsup - family educational support (binary: yes or no)\n<br>18 paid - extra paid classes within the course subject (Math or Portuguese) (binary: yes or no)\n<br>19 activities - extra-curricular activities (binary: yes or no)\n<br>20 nursery - attended nursery school (binary: yes or no)\n<br>21 higher - wants to take higher education (binary: yes or no)\n<br>22 internet - Internet access at home (binary: yes or no)\n<br>23 romantic - with a romantic relationship (binary: yes or no)\n<br>24 famrel - quality of family relationships (numeric: from 1 - very bad to 5 - excellent)\n<br>25 freetime - free time after school (numeric: from 1 - very low to 5 - very high)\n<br>26 goout - going out with friends (numeric: from 1 - very low to 5 - very high)\n<br>27 Dalc - workday alcohol consumption (numeric: from 1 - very low to 5 - very high)\n<br>28 Walc - weekend alcohol consumption (numeric: from 1 - very low to 5 - very high)\n<br>29 health - current health status (numeric: from 1 - very bad to 5 - very good)\n<br>30 absences - number of school absences (numeric: from 0 to 93)\n<br>\n<br># these grades are related with the course subject, Math or Portuguese:\n<br>31 G1 - first period grade (numeric: from 0 to 20)\n<br>31 G2 - second period grade (numeric: from 0 to 20)\n<br>32 G3 - final grade (numeric: from 0 to 20, output target)</p>\n    ",
        "meta_block_is_hidden": "False",
        "meta_input_format": 1,
        "meta_is_hidden": "True",
        "meta_output_format": 2,
        "sequence": "70",
        "soft_timeout_in_seconds": "600",
        "title": "",
        "uuid": "d939e239-abda-41ea-bfda-2b1d6722707b",
        "id": "WB4e2Q6SPc3S"
      },
      "source": [
        "# Dataset\n",
        "\n",
        "En este challenge vamos a trabajar con un dataset publicado en rel repositorio de la UCI que se llama `Student Performance`. Este dataset relaciona el rendimiento académico de alumnos portugueses de secundaria con un conjunto de variables de entorno. Lo puedes encontrar en: https://archive.ics.uci.edu/ml/datasets/Student+Performance\n",
        "\n",
        "\n",
        "A continuación se muestra la descripción del dataset:\n",
        "\n",
        "\n",
        "<p class=\"small-heading\"><b>Data Set Information:</b></p>\n",
        "<p class=\"normal\">This data approach student achievement in secondary education of two Portuguese schools. The data attributes include student grades, demographic, social and school related features) and it was collected by using school reports and questionnaires. Two datasets are provided regarding the performance in two distinct subjects: Mathematics (mat) and Portuguese language (por). In [Cortez and Silva, 2008], the two datasets were modeled under binary/five-level classification and regression tasks. Important note: the target attribute G3 has a strong correlation with attributes G2 and G1. This occurs because G3 is the final year grade (issued at the 3rd period), while G1 and G2 correspond to the 1st and 2nd period grades. It is more difficult to predict G3 without G2 and G1, but such prediction is much more useful (see paper source for more details).</p>\n",
        "\n",
        "<br />\n",
        "\n",
        "<p class=\"small-heading\"><b>Attribute Information:</b></p>\n",
        "<p class=\"normal\"># Attributes for both student-mat.csv (Math course) and student-por.csv (Portuguese language course) datasets:\n",
        "<br>1 school - student's school (binary: 'GP' - Gabriel Pereira or 'MS' - Mousinho da Silveira)\n",
        "<br>2 sex - student's sex (binary: 'F' - female or 'M' - male)\n",
        "<br>3 age - student's age (numeric: from 15 to 22)\n",
        "<br>4 address - student's home address type (binary: 'U' - urban or 'R' - rural)\n",
        "<br>5 famsize - family size (binary: 'LE3' - less or equal to 3 or 'GT3' - greater than 3)\n",
        "<br>6 Pstatus - parent's cohabitation status (binary: 'T' - living together or 'A' - apart)\n",
        "<br>7 Medu - mother's education (numeric: 0 - none,  1 - primary education (4th grade), 2 â€“ 5th to 9th grade, 3 â€“ secondary education or 4 â€“ higher education)\n",
        "<br>8 Fedu - father's education (numeric: 0 - none,  1 - primary education (4th grade), 2 â€“ 5th to 9th grade, 3 â€“ secondary education or 4 â€“ higher education)\n",
        "<br>9 Mjob - mother's job (nominal: 'teacher', 'health' care related, civil 'services' (e.g. administrative or police), 'at_home' or 'other')\n",
        "<br>10 Fjob - father's job (nominal: 'teacher', 'health' care related, civil 'services' (e.g. administrative or police), 'at_home' or 'other')\n",
        "<br>11 reason - reason to choose this school (nominal: close to 'home', school 'reputation', 'course' preference or 'other')\n",
        "<br>12 guardian - student's guardian (nominal: 'mother', 'father' or 'other')\n",
        "<br>13 traveltime - home to school travel time (numeric: 1 - <15 min., 2 - 15 to 30 min., 3 - 30 min. to 1 hour, or 4 - >1 hour)\n",
        "<br>14 studytime - weekly study time (numeric: 1 - <2 hours, 2 - 2 to 5 hours, 3 - 5 to 10 hours, or 4 - >10 hours)\n",
        "<br>15 failures - number of past class failures (numeric: n if 1<=n<3, else 4)\n",
        "<br>16 schoolsup - extra educational support (binary: yes or no)\n",
        "<br>17 famsup - family educational support (binary: yes or no)\n",
        "<br>18 paid - extra paid classes within the course subject (Math or Portuguese) (binary: yes or no)\n",
        "<br>19 activities - extra-curricular activities (binary: yes or no)\n",
        "<br>20 nursery - attended nursery school (binary: yes or no)\n",
        "<br>21 higher - wants to take higher education (binary: yes or no)\n",
        "<br>22 internet - Internet access at home (binary: yes or no)\n",
        "<br>23 romantic - with a romantic relationship (binary: yes or no)\n",
        "<br>24 famrel - quality of family relationships (numeric: from 1 - very bad to 5 - excellent)\n",
        "<br>25 freetime - free time after school (numeric: from 1 - very low to 5 - very high)\n",
        "<br>26 goout - going out with friends (numeric: from 1 - very low to 5 - very high)\n",
        "<br>27 Dalc - workday alcohol consumption (numeric: from 1 - very low to 5 - very high)\n",
        "<br>28 Walc - weekend alcohol consumption (numeric: from 1 - very low to 5 - very high)\n",
        "<br>29 health - current health status (numeric: from 1 - very bad to 5 - very good)\n",
        "<br>30 absences - number of school absences (numeric: from 0 to 93)\n",
        "<br>\n",
        "<br># these grades are related with the course subject, Math or Portuguese:\n",
        "<br>31 G1 - first period grade (numeric: from 0 to 20)\n",
        "<br>31 G2 - second period grade (numeric: from 0 to 20)\n",
        "<br>32 G3 - final grade (numeric: from 0 to 20, output target)</p>\n",
        "    "
      ]
    },
    {
      "cell_type": "markdown",
      "metadata": {
        "export_id": 34613,
        "export_uuid": "90862f1b-227c-40d4-b16c-f933e9ef6c8a",
        "hard_timeout_in_seconds": "660",
        "hide_title_bar": "True",
        "initial_code": "# Preprocessing\n\nEmpezaremos, como siempre, realizando todo el preprocesamiento necesario.\n\nLo primero que haremos es cargar el dataset y tratamiento todas las columnas no numéricas:",
        "meta_block_is_hidden": "False",
        "meta_input_format": 1,
        "meta_is_hidden": "True",
        "meta_output_format": 2,
        "sequence": "80",
        "soft_timeout_in_seconds": "600",
        "title": "",
        "uuid": "90862f1b-227c-40d4-b16c-f933e9ef6c8a",
        "id": "m30sR9xVPc3T"
      },
      "source": [
        "# Preprocessing\n",
        "\n",
        "Empezaremos, como siempre, realizando todo el preprocesamiento necesario.\n",
        "\n",
        "Lo primero que haremos es cargar el dataset y tratamiento todas las columnas no numéricas:"
      ]
    },
    {
      "cell_type": "code",
      "execution_count": null,
      "metadata": {
        "export_id": 34614,
        "export_uuid": "6dbe70db-c5ca-48fa-80f9-038bceda97e0",
        "hard_timeout_in_seconds": "660",
        "hide_title_bar": "True",
        "initial_code": "df = pd.read_csv('student-por.csv', sep=';')",
        "meta_block_is_hidden": "False",
        "meta_input_format": 0,
        "meta_is_hidden": "False",
        "meta_output_format": 2,
        "sequence": "90",
        "soft_timeout_in_seconds": "600",
        "title": "",
        "uuid": "6dbe70db-c5ca-48fa-80f9-038bceda97e0",
        "id": "EZpFw1gVPc3T"
      },
      "outputs": [],
      "source": [
        "df = pd.read_csv('student-por.csv', sep=';')"
      ]
    },
    {
      "cell_type": "code",
      "execution_count": null,
      "metadata": {
        "export_id": 34615,
        "export_uuid": "7044a48f-377c-4e74-9cd1-0abe71680fc2",
        "hard_timeout_in_seconds": "660",
        "hide_title_bar": "True",
        "initial_code": "df.info()",
        "meta_block_is_hidden": "False",
        "meta_input_format": 0,
        "meta_is_hidden": "False",
        "meta_output_format": 2,
        "sequence": "100",
        "soft_timeout_in_seconds": "600",
        "title": "",
        "uuid": "7044a48f-377c-4e74-9cd1-0abe71680fc2",
        "id": "HJq3xSVCPc3U",
        "outputId": "7becaf9c-0a05-4842-de0e-6aed4a06df4b"
      },
      "outputs": [
        {
          "name": "stdout",
          "output_type": "stream",
          "text": [
            "<class 'pandas.core.frame.DataFrame'>\n",
            "RangeIndex: 649 entries, 0 to 648\n",
            "Data columns (total 33 columns):\n",
            " #   Column      Non-Null Count  Dtype \n",
            "---  ------      --------------  ----- \n",
            " 0   school      649 non-null    object\n",
            " 1   sex         649 non-null    object\n",
            " 2   age         649 non-null    int64 \n",
            " 3   address     649 non-null    object\n",
            " 4   famsize     649 non-null    object\n",
            " 5   Pstatus     649 non-null    object\n",
            " 6   Medu        649 non-null    int64 \n",
            " 7   Fedu        649 non-null    int64 \n",
            " 8   Mjob        649 non-null    object\n",
            " 9   Fjob        649 non-null    object\n",
            " 10  reason      649 non-null    object\n",
            " 11  guardian    649 non-null    object\n",
            " 12  traveltime  649 non-null    int64 \n",
            " 13  studytime   649 non-null    int64 \n",
            " 14  failures    649 non-null    int64 \n",
            " 15  schoolsup   649 non-null    object\n",
            " 16  famsup      649 non-null    object\n",
            " 17  paid        649 non-null    object\n",
            " 18  activities  649 non-null    object\n",
            " 19  nursery     649 non-null    object\n",
            " 20  higher      649 non-null    object\n",
            " 21  internet    649 non-null    object\n",
            " 22  romantic    649 non-null    object\n",
            " 23  famrel      649 non-null    int64 \n",
            " 24  freetime    649 non-null    int64 \n",
            " 25  goout       649 non-null    int64 \n",
            " 26  Dalc        649 non-null    int64 \n",
            " 27  Walc        649 non-null    int64 \n",
            " 28  health      649 non-null    int64 \n",
            " 29  absences    649 non-null    int64 \n",
            " 30  G1          649 non-null    int64 \n",
            " 31  G2          649 non-null    int64 \n",
            " 32  G3          649 non-null    int64 \n",
            "dtypes: int64(16), object(17)\n",
            "memory usage: 167.4+ KB\n"
          ]
        }
      ],
      "source": [
        "df.info()"
      ]
    },
    {
      "cell_type": "code",
      "execution_count": null,
      "metadata": {
        "export_id": 34616,
        "export_uuid": "0ceb2316-0852-4781-bafa-fdcfea2ea1bf",
        "hard_timeout_in_seconds": "660",
        "hide_title_bar": "True",
        "initial_code": "df.head()",
        "meta_block_is_hidden": "False",
        "meta_input_format": 0,
        "meta_is_hidden": "False",
        "meta_output_format": 2,
        "sequence": "110",
        "soft_timeout_in_seconds": "600",
        "title": "",
        "uuid": "0ceb2316-0852-4781-bafa-fdcfea2ea1bf",
        "id": "mRxAhRYYPc3V",
        "outputId": "60088f71-b49b-40bb-9807-7016c1d5ac59"
      },
      "outputs": [
        {
          "data": {
            "text/html": [
              "<div>\n",
              "<style scoped>\n",
              "    .dataframe tbody tr th:only-of-type {\n",
              "        vertical-align: middle;\n",
              "    }\n",
              "\n",
              "    .dataframe tbody tr th {\n",
              "        vertical-align: top;\n",
              "    }\n",
              "\n",
              "    .dataframe thead th {\n",
              "        text-align: right;\n",
              "    }\n",
              "</style>\n",
              "<table border=\"1\" class=\"dataframe\">\n",
              "  <thead>\n",
              "    <tr style=\"text-align: right;\">\n",
              "      <th></th>\n",
              "      <th>school</th>\n",
              "      <th>sex</th>\n",
              "      <th>age</th>\n",
              "      <th>address</th>\n",
              "      <th>famsize</th>\n",
              "      <th>Pstatus</th>\n",
              "      <th>Medu</th>\n",
              "      <th>Fedu</th>\n",
              "      <th>Mjob</th>\n",
              "      <th>Fjob</th>\n",
              "      <th>...</th>\n",
              "      <th>famrel</th>\n",
              "      <th>freetime</th>\n",
              "      <th>goout</th>\n",
              "      <th>Dalc</th>\n",
              "      <th>Walc</th>\n",
              "      <th>health</th>\n",
              "      <th>absences</th>\n",
              "      <th>G1</th>\n",
              "      <th>G2</th>\n",
              "      <th>G3</th>\n",
              "    </tr>\n",
              "  </thead>\n",
              "  <tbody>\n",
              "    <tr>\n",
              "      <th>0</th>\n",
              "      <td>GP</td>\n",
              "      <td>F</td>\n",
              "      <td>18</td>\n",
              "      <td>U</td>\n",
              "      <td>GT3</td>\n",
              "      <td>A</td>\n",
              "      <td>4</td>\n",
              "      <td>4</td>\n",
              "      <td>at_home</td>\n",
              "      <td>teacher</td>\n",
              "      <td>...</td>\n",
              "      <td>4</td>\n",
              "      <td>3</td>\n",
              "      <td>4</td>\n",
              "      <td>1</td>\n",
              "      <td>1</td>\n",
              "      <td>3</td>\n",
              "      <td>4</td>\n",
              "      <td>0</td>\n",
              "      <td>11</td>\n",
              "      <td>11</td>\n",
              "    </tr>\n",
              "    <tr>\n",
              "      <th>1</th>\n",
              "      <td>GP</td>\n",
              "      <td>F</td>\n",
              "      <td>17</td>\n",
              "      <td>U</td>\n",
              "      <td>GT3</td>\n",
              "      <td>T</td>\n",
              "      <td>1</td>\n",
              "      <td>1</td>\n",
              "      <td>at_home</td>\n",
              "      <td>other</td>\n",
              "      <td>...</td>\n",
              "      <td>5</td>\n",
              "      <td>3</td>\n",
              "      <td>3</td>\n",
              "      <td>1</td>\n",
              "      <td>1</td>\n",
              "      <td>3</td>\n",
              "      <td>2</td>\n",
              "      <td>9</td>\n",
              "      <td>11</td>\n",
              "      <td>11</td>\n",
              "    </tr>\n",
              "    <tr>\n",
              "      <th>2</th>\n",
              "      <td>GP</td>\n",
              "      <td>F</td>\n",
              "      <td>15</td>\n",
              "      <td>U</td>\n",
              "      <td>LE3</td>\n",
              "      <td>T</td>\n",
              "      <td>1</td>\n",
              "      <td>1</td>\n",
              "      <td>at_home</td>\n",
              "      <td>other</td>\n",
              "      <td>...</td>\n",
              "      <td>4</td>\n",
              "      <td>3</td>\n",
              "      <td>2</td>\n",
              "      <td>2</td>\n",
              "      <td>3</td>\n",
              "      <td>3</td>\n",
              "      <td>6</td>\n",
              "      <td>12</td>\n",
              "      <td>13</td>\n",
              "      <td>12</td>\n",
              "    </tr>\n",
              "    <tr>\n",
              "      <th>3</th>\n",
              "      <td>GP</td>\n",
              "      <td>F</td>\n",
              "      <td>15</td>\n",
              "      <td>U</td>\n",
              "      <td>GT3</td>\n",
              "      <td>T</td>\n",
              "      <td>4</td>\n",
              "      <td>2</td>\n",
              "      <td>health</td>\n",
              "      <td>services</td>\n",
              "      <td>...</td>\n",
              "      <td>3</td>\n",
              "      <td>2</td>\n",
              "      <td>2</td>\n",
              "      <td>1</td>\n",
              "      <td>1</td>\n",
              "      <td>5</td>\n",
              "      <td>0</td>\n",
              "      <td>14</td>\n",
              "      <td>14</td>\n",
              "      <td>14</td>\n",
              "    </tr>\n",
              "    <tr>\n",
              "      <th>4</th>\n",
              "      <td>GP</td>\n",
              "      <td>F</td>\n",
              "      <td>16</td>\n",
              "      <td>U</td>\n",
              "      <td>GT3</td>\n",
              "      <td>T</td>\n",
              "      <td>3</td>\n",
              "      <td>3</td>\n",
              "      <td>other</td>\n",
              "      <td>other</td>\n",
              "      <td>...</td>\n",
              "      <td>4</td>\n",
              "      <td>3</td>\n",
              "      <td>2</td>\n",
              "      <td>1</td>\n",
              "      <td>2</td>\n",
              "      <td>5</td>\n",
              "      <td>0</td>\n",
              "      <td>11</td>\n",
              "      <td>13</td>\n",
              "      <td>13</td>\n",
              "    </tr>\n",
              "  </tbody>\n",
              "</table>\n",
              "<p>5 rows × 33 columns</p>\n",
              "</div>"
            ],
            "text/plain": [
              "  school sex  age address famsize Pstatus  Medu  Fedu     Mjob      Fjob  ...  \\\n",
              "0     GP   F   18       U     GT3       A     4     4  at_home   teacher  ...   \n",
              "1     GP   F   17       U     GT3       T     1     1  at_home     other  ...   \n",
              "2     GP   F   15       U     LE3       T     1     1  at_home     other  ...   \n",
              "3     GP   F   15       U     GT3       T     4     2   health  services  ...   \n",
              "4     GP   F   16       U     GT3       T     3     3    other     other  ...   \n",
              "\n",
              "  famrel freetime  goout  Dalc  Walc health absences  G1  G2  G3  \n",
              "0      4        3      4     1     1      3        4   0  11  11  \n",
              "1      5        3      3     1     1      3        2   9  11  11  \n",
              "2      4        3      2     2     3      3        6  12  13  12  \n",
              "3      3        2      2     1     1      5        0  14  14  14  \n",
              "4      4        3      2     1     2      5        0  11  13  13  \n",
              "\n",
              "[5 rows x 33 columns]"
            ]
          },
          "execution_count": 4,
          "metadata": {},
          "output_type": "execute_result"
        }
      ],
      "source": [
        "df.head()"
      ]
    },
    {
      "cell_type": "markdown",
      "metadata": {
        "export_id": 34617,
        "export_uuid": "bcb783ab-d20b-4714-98e0-f5e13e8330ec",
        "hard_timeout_in_seconds": "660",
        "hide_title_bar": "True",
        "initial_code": "Como podemos ver existen multitud de columnas que son enumerados. En general, para poder entrenar modelos con este tipo de datos tendremos que convertir estos valores en valores numéricos, para ello nos vamos a construir una función que nos ayude en esta tarea:",
        "meta_block_is_hidden": "False",
        "meta_input_format": 1,
        "meta_is_hidden": "True",
        "meta_output_format": 2,
        "sequence": "120",
        "soft_timeout_in_seconds": "600",
        "title": "",
        "uuid": "bcb783ab-d20b-4714-98e0-f5e13e8330ec",
        "id": "7cS1JymnPc3V"
      },
      "source": [
        "Como podemos ver existen multitud de columnas que son enumerados. En general, para poder entrenar modelos con este tipo de datos tendremos que convertir estos valores en valores numéricos, para ello nos vamos a construir una función que nos ayude en esta tarea:"
      ]
    },
    {
      "cell_type": "code",
      "execution_count": null,
      "metadata": {
        "export_id": 34618,
        "export_uuid": "b71a9a47-2e61-4ad9-ba47-89440fbc0ce3",
        "hard_timeout_in_seconds": "660",
        "hide_title_bar": "True",
        "initial_code": "def preprocess_column(df, column_name):\n    if 'int' in str(df[column_name].dtype):\n        return df\n        \n    values = df[column_name].unique()\n    if len(values) == 2:\n        # 2 valores, no hay dudas: mapping binario\n        df[column_name] = df[column_name].map({values[0]: 0, values[1]: 1})\n    elif len(values) == 3:\n        # 3 valores: Variables dummy\n        df = pd.get_dummies(df, columns=[column_name])\n    else:\n        # 4 o más: mapping numérico. \n        mapping = {}\n        index = 0\n        for value in values:\n            mapping[value] = index\n            index += 1        \n        \n        df[column_name] = df[column_name].map(mapping)\n        \n    return df",
        "meta_block_is_hidden": "False",
        "meta_input_format": 0,
        "meta_is_hidden": "False",
        "meta_output_format": 2,
        "sequence": "130",
        "soft_timeout_in_seconds": "600",
        "title": "",
        "uuid": "b71a9a47-2e61-4ad9-ba47-89440fbc0ce3",
        "id": "64MfO7phPc3V"
      },
      "outputs": [],
      "source": [
        "def preprocess_column(df, column_name):\n",
        "    if 'int' in str(df[column_name].dtype):\n",
        "        return df\n",
        "\n",
        "    values = df[column_name].unique()\n",
        "    if len(values) == 2:\n",
        "        # 2 valores, no hay dudas: mapping binario\n",
        "        df[column_name] = df[column_name].map({values[0]: 0, values[1]: 1})\n",
        "    elif len(values) == 3:\n",
        "        # 3 valores: Variables dummy\n",
        "        df = pd.get_dummies(df, columns=[column_name])\n",
        "    else:\n",
        "        # 4 o más: mapping numérico.\n",
        "        mapping = {}\n",
        "        index = 0\n",
        "        for value in values:\n",
        "            mapping[value] = index\n",
        "            index += 1\n",
        "\n",
        "        df[column_name] = df[column_name].map(mapping)\n",
        "\n",
        "    return df"
      ]
    },
    {
      "cell_type": "code",
      "execution_count": null,
      "metadata": {
        "export_id": 34619,
        "export_uuid": "8c831387-139f-44b8-896a-fb01163b9ab9",
        "hard_timeout_in_seconds": "660",
        "hide_title_bar": "True",
        "initial_code": "for column in df.columns:\n    df = preprocess_column(df, column)",
        "meta_block_is_hidden": "False",
        "meta_input_format": 0,
        "meta_is_hidden": "False",
        "meta_output_format": 2,
        "sequence": "140",
        "soft_timeout_in_seconds": "600",
        "title": "",
        "uuid": "8c831387-139f-44b8-896a-fb01163b9ab9",
        "id": "_Ea6e0vAPc3V"
      },
      "outputs": [],
      "source": [
        "for column in df.columns:\n",
        "    df = preprocess_column(df, column)"
      ]
    },
    {
      "cell_type": "code",
      "execution_count": null,
      "metadata": {
        "export_id": 34620,
        "export_uuid": "d08b16a2-e058-4345-b5fa-19bdd9fabd76",
        "hard_timeout_in_seconds": "660",
        "hide_title_bar": "True",
        "initial_code": "df.head()",
        "meta_block_is_hidden": "False",
        "meta_input_format": 0,
        "meta_is_hidden": "False",
        "meta_output_format": 2,
        "sequence": "150",
        "soft_timeout_in_seconds": "600",
        "title": "",
        "uuid": "d08b16a2-e058-4345-b5fa-19bdd9fabd76",
        "id": "O-P8QVh2Pc3V",
        "outputId": "ae41b776-389f-4b52-d4f3-0b2405bf6dae"
      },
      "outputs": [
        {
          "data": {
            "text/html": [
              "<div>\n",
              "<style scoped>\n",
              "    .dataframe tbody tr th:only-of-type {\n",
              "        vertical-align: middle;\n",
              "    }\n",
              "\n",
              "    .dataframe tbody tr th {\n",
              "        vertical-align: top;\n",
              "    }\n",
              "\n",
              "    .dataframe thead th {\n",
              "        text-align: right;\n",
              "    }\n",
              "</style>\n",
              "<table border=\"1\" class=\"dataframe\">\n",
              "  <thead>\n",
              "    <tr style=\"text-align: right;\">\n",
              "      <th></th>\n",
              "      <th>school</th>\n",
              "      <th>sex</th>\n",
              "      <th>age</th>\n",
              "      <th>address</th>\n",
              "      <th>famsize</th>\n",
              "      <th>Pstatus</th>\n",
              "      <th>Medu</th>\n",
              "      <th>Fedu</th>\n",
              "      <th>Mjob</th>\n",
              "      <th>Fjob</th>\n",
              "      <th>...</th>\n",
              "      <th>Dalc</th>\n",
              "      <th>Walc</th>\n",
              "      <th>health</th>\n",
              "      <th>absences</th>\n",
              "      <th>G1</th>\n",
              "      <th>G2</th>\n",
              "      <th>G3</th>\n",
              "      <th>guardian_father</th>\n",
              "      <th>guardian_mother</th>\n",
              "      <th>guardian_other</th>\n",
              "    </tr>\n",
              "  </thead>\n",
              "  <tbody>\n",
              "    <tr>\n",
              "      <th>0</th>\n",
              "      <td>0</td>\n",
              "      <td>0</td>\n",
              "      <td>18</td>\n",
              "      <td>0</td>\n",
              "      <td>0</td>\n",
              "      <td>0</td>\n",
              "      <td>4</td>\n",
              "      <td>4</td>\n",
              "      <td>0</td>\n",
              "      <td>0</td>\n",
              "      <td>...</td>\n",
              "      <td>1</td>\n",
              "      <td>1</td>\n",
              "      <td>3</td>\n",
              "      <td>4</td>\n",
              "      <td>0</td>\n",
              "      <td>11</td>\n",
              "      <td>11</td>\n",
              "      <td>0</td>\n",
              "      <td>1</td>\n",
              "      <td>0</td>\n",
              "    </tr>\n",
              "    <tr>\n",
              "      <th>1</th>\n",
              "      <td>0</td>\n",
              "      <td>0</td>\n",
              "      <td>17</td>\n",
              "      <td>0</td>\n",
              "      <td>0</td>\n",
              "      <td>1</td>\n",
              "      <td>1</td>\n",
              "      <td>1</td>\n",
              "      <td>0</td>\n",
              "      <td>1</td>\n",
              "      <td>...</td>\n",
              "      <td>1</td>\n",
              "      <td>1</td>\n",
              "      <td>3</td>\n",
              "      <td>2</td>\n",
              "      <td>9</td>\n",
              "      <td>11</td>\n",
              "      <td>11</td>\n",
              "      <td>1</td>\n",
              "      <td>0</td>\n",
              "      <td>0</td>\n",
              "    </tr>\n",
              "    <tr>\n",
              "      <th>2</th>\n",
              "      <td>0</td>\n",
              "      <td>0</td>\n",
              "      <td>15</td>\n",
              "      <td>0</td>\n",
              "      <td>1</td>\n",
              "      <td>1</td>\n",
              "      <td>1</td>\n",
              "      <td>1</td>\n",
              "      <td>0</td>\n",
              "      <td>1</td>\n",
              "      <td>...</td>\n",
              "      <td>2</td>\n",
              "      <td>3</td>\n",
              "      <td>3</td>\n",
              "      <td>6</td>\n",
              "      <td>12</td>\n",
              "      <td>13</td>\n",
              "      <td>12</td>\n",
              "      <td>0</td>\n",
              "      <td>1</td>\n",
              "      <td>0</td>\n",
              "    </tr>\n",
              "    <tr>\n",
              "      <th>3</th>\n",
              "      <td>0</td>\n",
              "      <td>0</td>\n",
              "      <td>15</td>\n",
              "      <td>0</td>\n",
              "      <td>0</td>\n",
              "      <td>1</td>\n",
              "      <td>4</td>\n",
              "      <td>2</td>\n",
              "      <td>1</td>\n",
              "      <td>2</td>\n",
              "      <td>...</td>\n",
              "      <td>1</td>\n",
              "      <td>1</td>\n",
              "      <td>5</td>\n",
              "      <td>0</td>\n",
              "      <td>14</td>\n",
              "      <td>14</td>\n",
              "      <td>14</td>\n",
              "      <td>0</td>\n",
              "      <td>1</td>\n",
              "      <td>0</td>\n",
              "    </tr>\n",
              "    <tr>\n",
              "      <th>4</th>\n",
              "      <td>0</td>\n",
              "      <td>0</td>\n",
              "      <td>16</td>\n",
              "      <td>0</td>\n",
              "      <td>0</td>\n",
              "      <td>1</td>\n",
              "      <td>3</td>\n",
              "      <td>3</td>\n",
              "      <td>2</td>\n",
              "      <td>1</td>\n",
              "      <td>...</td>\n",
              "      <td>1</td>\n",
              "      <td>2</td>\n",
              "      <td>5</td>\n",
              "      <td>0</td>\n",
              "      <td>11</td>\n",
              "      <td>13</td>\n",
              "      <td>13</td>\n",
              "      <td>1</td>\n",
              "      <td>0</td>\n",
              "      <td>0</td>\n",
              "    </tr>\n",
              "  </tbody>\n",
              "</table>\n",
              "<p>5 rows × 35 columns</p>\n",
              "</div>"
            ],
            "text/plain": [
              "   school  sex  age  address  famsize  Pstatus  Medu  Fedu  Mjob  Fjob  ...  \\\n",
              "0       0    0   18        0        0        0     4     4     0     0  ...   \n",
              "1       0    0   17        0        0        1     1     1     0     1  ...   \n",
              "2       0    0   15        0        1        1     1     1     0     1  ...   \n",
              "3       0    0   15        0        0        1     4     2     1     2  ...   \n",
              "4       0    0   16        0        0        1     3     3     2     1  ...   \n",
              "\n",
              "   Dalc  Walc  health  absences  G1  G2  G3  guardian_father  guardian_mother  \\\n",
              "0     1     1       3         4   0  11  11                0                1   \n",
              "1     1     1       3         2   9  11  11                1                0   \n",
              "2     2     3       3         6  12  13  12                0                1   \n",
              "3     1     1       5         0  14  14  14                0                1   \n",
              "4     1     2       5         0  11  13  13                1                0   \n",
              "\n",
              "   guardian_other  \n",
              "0               0  \n",
              "1               0  \n",
              "2               0  \n",
              "3               0  \n",
              "4               0  \n",
              "\n",
              "[5 rows x 35 columns]"
            ]
          },
          "execution_count": 7,
          "metadata": {},
          "output_type": "execute_result"
        }
      ],
      "source": [
        "df.head()"
      ]
    },
    {
      "cell_type": "code",
      "execution_count": null,
      "metadata": {
        "export_id": 34621,
        "export_uuid": "41a65f71-2518-4709-a175-a0ad54c58e51",
        "hard_timeout_in_seconds": "660",
        "hide_title_bar": "True",
        "initial_code": "df.info()",
        "meta_block_is_hidden": "False",
        "meta_input_format": 0,
        "meta_is_hidden": "False",
        "meta_output_format": 2,
        "sequence": "160",
        "soft_timeout_in_seconds": "600",
        "title": "",
        "uuid": "41a65f71-2518-4709-a175-a0ad54c58e51",
        "id": "tD0zyTluPc3V",
        "outputId": "d44a61c4-c00f-4344-932b-2a8cebff25a0"
      },
      "outputs": [
        {
          "name": "stdout",
          "output_type": "stream",
          "text": [
            "<class 'pandas.core.frame.DataFrame'>\n",
            "RangeIndex: 649 entries, 0 to 648\n",
            "Data columns (total 35 columns):\n",
            " #   Column           Non-Null Count  Dtype\n",
            "---  ------           --------------  -----\n",
            " 0   school           649 non-null    int64\n",
            " 1   sex              649 non-null    int64\n",
            " 2   age              649 non-null    int64\n",
            " 3   address          649 non-null    int64\n",
            " 4   famsize          649 non-null    int64\n",
            " 5   Pstatus          649 non-null    int64\n",
            " 6   Medu             649 non-null    int64\n",
            " 7   Fedu             649 non-null    int64\n",
            " 8   Mjob             649 non-null    int64\n",
            " 9   Fjob             649 non-null    int64\n",
            " 10  reason           649 non-null    int64\n",
            " 11  traveltime       649 non-null    int64\n",
            " 12  studytime        649 non-null    int64\n",
            " 13  failures         649 non-null    int64\n",
            " 14  schoolsup        649 non-null    int64\n",
            " 15  famsup           649 non-null    int64\n",
            " 16  paid             649 non-null    int64\n",
            " 17  activities       649 non-null    int64\n",
            " 18  nursery          649 non-null    int64\n",
            " 19  higher           649 non-null    int64\n",
            " 20  internet         649 non-null    int64\n",
            " 21  romantic         649 non-null    int64\n",
            " 22  famrel           649 non-null    int64\n",
            " 23  freetime         649 non-null    int64\n",
            " 24  goout            649 non-null    int64\n",
            " 25  Dalc             649 non-null    int64\n",
            " 26  Walc             649 non-null    int64\n",
            " 27  health           649 non-null    int64\n",
            " 28  absences         649 non-null    int64\n",
            " 29  G1               649 non-null    int64\n",
            " 30  G2               649 non-null    int64\n",
            " 31  G3               649 non-null    int64\n",
            " 32  guardian_father  649 non-null    uint8\n",
            " 33  guardian_mother  649 non-null    uint8\n",
            " 34  guardian_other   649 non-null    uint8\n",
            "dtypes: int64(32), uint8(3)\n",
            "memory usage: 164.3 KB\n"
          ]
        }
      ],
      "source": [
        "df.info()"
      ]
    },
    {
      "cell_type": "markdown",
      "metadata": {
        "export_id": 34622,
        "export_uuid": "ff94c22a-67c7-43fa-be45-4dee0c6c5600",
        "hard_timeout_in_seconds": "660",
        "hide_title_bar": "True",
        "initial_code": "## Matriz de características (X)\n\nEliminaremos del dataframe todas las columnas objetivo:",
        "meta_block_is_hidden": "False",
        "meta_input_format": 1,
        "meta_is_hidden": "True",
        "meta_output_format": 2,
        "sequence": "170",
        "soft_timeout_in_seconds": "600",
        "title": "",
        "uuid": "ff94c22a-67c7-43fa-be45-4dee0c6c5600",
        "id": "V0_g-GOBPc3W"
      },
      "source": [
        "## Matriz de características (X)\n",
        "\n",
        "Eliminaremos del dataframe todas las columnas objetivo:"
      ]
    },
    {
      "cell_type": "code",
      "execution_count": null,
      "metadata": {
        "export_id": 34623,
        "export_uuid": "114c9ffd-9cf4-4779-b4f6-89c214b972b1",
        "hard_timeout_in_seconds": "660",
        "hide_title_bar": "True",
        "initial_code": "X = np.array(df[df.columns.difference(['G1', 'G2', 'G3'])])",
        "meta_block_is_hidden": "False",
        "meta_input_format": 0,
        "meta_is_hidden": "False",
        "meta_output_format": 2,
        "sequence": "180",
        "soft_timeout_in_seconds": "600",
        "title": "",
        "uuid": "114c9ffd-9cf4-4779-b4f6-89c214b972b1",
        "id": "Coit6dl7Pc3W"
      },
      "outputs": [],
      "source": [
        "X = np.array(df[df.columns.difference(['G1', 'G2', 'G3'])])"
      ]
    },
    {
      "cell_type": "code",
      "execution_count": null,
      "metadata": {
        "export_id": 34624,
        "export_uuid": "8d03fe2f-b41b-4891-8a9b-6cc94948f85c",
        "hard_timeout_in_seconds": "660",
        "hide_title_bar": "True",
        "initial_code": "X.shape",
        "meta_block_is_hidden": "False",
        "meta_input_format": 0,
        "meta_is_hidden": "False",
        "meta_output_format": 2,
        "sequence": "190",
        "soft_timeout_in_seconds": "600",
        "title": "",
        "uuid": "8d03fe2f-b41b-4891-8a9b-6cc94948f85c",
        "id": "OapbQgkjPc3W",
        "outputId": "29469fd1-9ecc-47e5-839c-1e5ae6a57360"
      },
      "outputs": [
        {
          "data": {
            "text/plain": [
              "(649, 32)"
            ]
          },
          "execution_count": 10,
          "metadata": {},
          "output_type": "execute_result"
        }
      ],
      "source": [
        "X.shape"
      ]
    },
    {
      "cell_type": "code",
      "execution_count": null,
      "metadata": {
        "export_id": 34625,
        "export_uuid": "7eecd5ae-bb9d-4d8a-a0bb-96df6d369f31",
        "hard_timeout_in_seconds": "660",
        "hide_title_bar": "True",
        "initial_code": "X",
        "meta_block_is_hidden": "False",
        "meta_input_format": 0,
        "meta_is_hidden": "False",
        "meta_output_format": 2,
        "sequence": "200",
        "soft_timeout_in_seconds": "600",
        "title": "",
        "uuid": "7eecd5ae-bb9d-4d8a-a0bb-96df6d369f31",
        "id": "WLFSLyhxPc3W",
        "outputId": "2f0d41d9-8a4b-4524-c21d-67fabd805721"
      },
      "outputs": [
        {
          "data": {
            "text/plain": [
              "array([[1, 4, 0, ..., 0, 2, 2],\n",
              "       [1, 1, 1, ..., 0, 2, 1],\n",
              "       [2, 1, 1, ..., 0, 2, 1],\n",
              "       ...,\n",
              "       [1, 1, 1, ..., 0, 2, 2],\n",
              "       [3, 1, 2, ..., 1, 1, 2],\n",
              "       [3, 2, 1, ..., 1, 1, 3]], dtype=int64)"
            ]
          },
          "execution_count": 11,
          "metadata": {},
          "output_type": "execute_result"
        }
      ],
      "source": [
        "X"
      ]
    },
    {
      "cell_type": "markdown",
      "metadata": {
        "export_id": 34626,
        "export_uuid": "64284122-7f92-4997-98be-d5e33701c282",
        "hard_timeout_in_seconds": "660",
        "hide_title_bar": "True",
        "initial_code": "Por último normalizaremos los datos:",
        "meta_block_is_hidden": "False",
        "meta_input_format": 1,
        "meta_is_hidden": "True",
        "meta_output_format": 2,
        "sequence": "210",
        "soft_timeout_in_seconds": "600",
        "title": "",
        "uuid": "64284122-7f92-4997-98be-d5e33701c282",
        "id": "4UaS7rMRPc3W"
      },
      "source": [
        "Por último normalizaremos los datos:"
      ]
    },
    {
      "cell_type": "code",
      "execution_count": null,
      "metadata": {
        "export_id": 34627,
        "export_uuid": "aef949ca-431e-46d0-bfc6-7c06e6dea444",
        "hard_timeout_in_seconds": "660",
        "hide_title_bar": "True",
        "initial_code": "from sklearn.preprocessing import normalize\n\nX = normalize(X)",
        "meta_block_is_hidden": "False",
        "meta_input_format": 0,
        "meta_is_hidden": "False",
        "meta_output_format": 2,
        "sequence": "220",
        "soft_timeout_in_seconds": "600",
        "title": "",
        "uuid": "aef949ca-431e-46d0-bfc6-7c06e6dea444",
        "id": "x2AMPeJhPc3W"
      },
      "outputs": [],
      "source": [
        "from sklearn.preprocessing import normalize\n",
        "\n",
        "X = normalize(X)"
      ]
    },
    {
      "cell_type": "code",
      "execution_count": null,
      "metadata": {
        "export_id": 34628,
        "export_uuid": "fe9cebae-e482-45d1-9557-b6f11664778b",
        "hard_timeout_in_seconds": "660",
        "hide_title_bar": "True",
        "initial_code": "X",
        "meta_block_is_hidden": "False",
        "meta_input_format": 0,
        "meta_is_hidden": "False",
        "meta_output_format": 2,
        "sequence": "230",
        "soft_timeout_in_seconds": "600",
        "title": "",
        "uuid": "fe9cebae-e482-45d1-9557-b6f11664778b",
        "id": "wP3PM9h_Pc3W",
        "outputId": "3369ff3c-3460-4b38-83a7-b385c26d6a86"
      },
      "outputs": [
        {
          "data": {
            "text/plain": [
              "array([[0.04805693, 0.19222773, 0.        , ..., 0.        , 0.09611387,\n",
              "        0.09611387],\n",
              "       [0.05263158, 0.05263158, 0.05263158, ..., 0.        , 0.10526316,\n",
              "        0.05263158],\n",
              "       [0.11094004, 0.05547002, 0.05547002, ..., 0.        , 0.11094004,\n",
              "        0.05547002],\n",
              "       ...,\n",
              "       [0.04938648, 0.04938648, 0.04938648, ..., 0.        , 0.09877296,\n",
              "        0.09877296],\n",
              "       [0.14383899, 0.04794633, 0.09589266, ..., 0.04794633, 0.04794633,\n",
              "        0.09589266],\n",
              "       [0.13912167, 0.09274778, 0.04637389, ..., 0.04637389, 0.04637389,\n",
              "        0.13912167]])"
            ]
          },
          "execution_count": 13,
          "metadata": {},
          "output_type": "execute_result"
        }
      ],
      "source": [
        "X"
      ]
    },
    {
      "cell_type": "markdown",
      "metadata": {
        "export_id": 34629,
        "export_uuid": "778ac6f2-d9d2-4819-bff6-9c2731380366",
        "hard_timeout_in_seconds": "660",
        "hide_title_bar": "True",
        "initial_code": "## Variable objetivo (y)\n\nUsaremos como variable objetivo la puntuación del primer periodo: `G1`.",
        "meta_block_is_hidden": "False",
        "meta_input_format": 1,
        "meta_is_hidden": "True",
        "meta_output_format": 2,
        "sequence": "240",
        "soft_timeout_in_seconds": "600",
        "title": "",
        "uuid": "778ac6f2-d9d2-4819-bff6-9c2731380366",
        "id": "BAwgERhKPc3X"
      },
      "source": [
        "## Variable objetivo (y)\n",
        "\n",
        "Usaremos como variable objetivo la puntuación del primer periodo: `G1`."
      ]
    },
    {
      "cell_type": "code",
      "execution_count": null,
      "metadata": {
        "export_id": 34630,
        "export_uuid": "a8558601-4053-43e5-9245-5e827e2db62f",
        "hard_timeout_in_seconds": "660",
        "hide_title_bar": "True",
        "initial_code": "y, bins = pd.cut(df.G1, 3, labels=[0, 1, 2], retbins=True)",
        "meta_block_is_hidden": "False",
        "meta_input_format": 0,
        "meta_is_hidden": "False",
        "meta_output_format": 2,
        "sequence": "250",
        "soft_timeout_in_seconds": "600",
        "title": "",
        "uuid": "a8558601-4053-43e5-9245-5e827e2db62f",
        "id": "VsZsBD3HPc3X"
      },
      "outputs": [],
      "source": [
        "y, bins = pd.cut(df.G1, 3, labels=[0, 1, 2], retbins=True)"
      ]
    },
    {
      "cell_type": "code",
      "execution_count": null,
      "metadata": {
        "export_id": 34631,
        "export_uuid": "2b16c7f5-99cb-4eeb-a1f1-e7de0f578dbb",
        "hard_timeout_in_seconds": "660",
        "hide_title_bar": "True",
        "initial_code": "y",
        "meta_block_is_hidden": "False",
        "meta_input_format": 0,
        "meta_is_hidden": "False",
        "meta_output_format": 2,
        "sequence": "260",
        "soft_timeout_in_seconds": "600",
        "title": "",
        "uuid": "2b16c7f5-99cb-4eeb-a1f1-e7de0f578dbb",
        "id": "rzoQffXRPc3X",
        "outputId": "b9010d05-758c-4460-e727-ba9b9d33aaa9"
      },
      "outputs": [
        {
          "data": {
            "text/plain": [
              "0      0\n",
              "1      1\n",
              "2      1\n",
              "3      2\n",
              "4      1\n",
              "      ..\n",
              "644    1\n",
              "645    2\n",
              "646    1\n",
              "647    1\n",
              "648    1\n",
              "Name: G1, Length: 649, dtype: category\n",
              "Categories (3, int64): [0 < 1 < 2]"
            ]
          },
          "execution_count": 15,
          "metadata": {},
          "output_type": "execute_result"
        }
      ],
      "source": [
        "y"
      ]
    },
    {
      "cell_type": "code",
      "execution_count": null,
      "metadata": {
        "export_id": 34632,
        "export_uuid": "d23dd15d-9f68-41b9-bfe9-017f432e2c6f",
        "hard_timeout_in_seconds": "660",
        "hide_title_bar": "True",
        "initial_code": "bins",
        "meta_block_is_hidden": "False",
        "meta_input_format": 0,
        "meta_is_hidden": "False",
        "meta_output_format": 2,
        "sequence": "270",
        "soft_timeout_in_seconds": "600",
        "title": "",
        "uuid": "d23dd15d-9f68-41b9-bfe9-017f432e2c6f",
        "id": "aNw-6lalPc3X",
        "outputId": "f8198dc4-703c-4ac7-adb7-635a0658dac7"
      },
      "outputs": [
        {
          "data": {
            "text/plain": [
              "array([-0.019     ,  6.33333333, 12.66666667, 19.        ])"
            ]
          },
          "execution_count": 16,
          "metadata": {},
          "output_type": "execute_result"
        }
      ],
      "source": [
        "bins"
      ]
    },
    {
      "cell_type": "code",
      "execution_count": null,
      "metadata": {
        "export_id": 34633,
        "export_uuid": "ca03d623-3494-47a9-b1c8-c24771b0094d",
        "hard_timeout_in_seconds": "660",
        "hide_title_bar": "True",
        "initial_code": "y.shape",
        "meta_block_is_hidden": "False",
        "meta_input_format": 0,
        "meta_is_hidden": "False",
        "meta_output_format": 2,
        "sequence": "280",
        "soft_timeout_in_seconds": "600",
        "title": "",
        "uuid": "ca03d623-3494-47a9-b1c8-c24771b0094d",
        "id": "qByc1fzCPc3X",
        "outputId": "f5c02c32-ff71-4931-dbe4-809db5a62408"
      },
      "outputs": [
        {
          "data": {
            "text/plain": [
              "(649,)"
            ]
          },
          "execution_count": 17,
          "metadata": {},
          "output_type": "execute_result"
        }
      ],
      "source": [
        "y.shape"
      ]
    },
    {
      "cell_type": "code",
      "execution_count": null,
      "metadata": {
        "export_id": 34634,
        "export_uuid": "28ed553f-ba7d-4a95-905a-c387ac1c45cc",
        "hard_timeout_in_seconds": "660",
        "hide_title_bar": "True",
        "initial_code": "y",
        "meta_block_is_hidden": "False",
        "meta_input_format": 0,
        "meta_is_hidden": "False",
        "meta_output_format": 2,
        "sequence": "290",
        "soft_timeout_in_seconds": "600",
        "title": "",
        "uuid": "28ed553f-ba7d-4a95-905a-c387ac1c45cc",
        "id": "QfaRFfdTPc3X",
        "outputId": "ed16fdf3-ec02-4a11-ff6f-02768074d2ad"
      },
      "outputs": [
        {
          "data": {
            "text/plain": [
              "0      0\n",
              "1      1\n",
              "2      1\n",
              "3      2\n",
              "4      1\n",
              "      ..\n",
              "644    1\n",
              "645    2\n",
              "646    1\n",
              "647    1\n",
              "648    1\n",
              "Name: G1, Length: 649, dtype: category\n",
              "Categories (3, int64): [0 < 1 < 2]"
            ]
          },
          "execution_count": 18,
          "metadata": {},
          "output_type": "execute_result"
        }
      ],
      "source": [
        "y"
      ]
    },
    {
      "cell_type": "markdown",
      "metadata": {
        "export_id": 34635,
        "export_uuid": "7df542ca-3cf6-4ce6-9dd9-9244c8ade6b8",
        "hard_timeout_in_seconds": "660",
        "hide_title_bar": "True",
        "initial_code": "Finalmente vamos a crear el conjunto de entrenamiento y el conjunto de test:",
        "meta_block_is_hidden": "False",
        "meta_input_format": 1,
        "meta_is_hidden": "True",
        "meta_output_format": 2,
        "sequence": "300",
        "soft_timeout_in_seconds": "600",
        "title": "",
        "uuid": "7df542ca-3cf6-4ce6-9dd9-9244c8ade6b8",
        "id": "L3G_lBMwPc3X"
      },
      "source": [
        "Finalmente vamos a crear el conjunto de entrenamiento y el conjunto de test:"
      ]
    },
    {
      "cell_type": "code",
      "execution_count": null,
      "metadata": {
        "export_id": 34636,
        "export_uuid": "a0a76fc0-9bdb-491d-bc19-783183248aba",
        "hard_timeout_in_seconds": "660",
        "hide_title_bar": "True",
        "initial_code": "y.shape",
        "meta_block_is_hidden": "False",
        "meta_input_format": 0,
        "meta_is_hidden": "False",
        "meta_output_format": 2,
        "sequence": "310",
        "soft_timeout_in_seconds": "600",
        "title": "",
        "uuid": "a0a76fc0-9bdb-491d-bc19-783183248aba",
        "id": "OakndLU0Pc3Y",
        "outputId": "8d7f41e2-f27d-418e-f79c-9a702304e790"
      },
      "outputs": [
        {
          "data": {
            "text/plain": [
              "(649,)"
            ]
          },
          "execution_count": 19,
          "metadata": {},
          "output_type": "execute_result"
        }
      ],
      "source": [
        "y.shape"
      ]
    },
    {
      "cell_type": "markdown",
      "metadata": {
        "export_id": 34637,
        "export_uuid": "e15f500c-2734-4492-a738-3f2db4b7f1ec",
        "hard_timeout_in_seconds": "660",
        "hide_title_bar": "True",
        "initial_code": "Con esto ya tenemos terminado nuestro preprocesamiento.",
        "meta_block_is_hidden": "False",
        "meta_input_format": 1,
        "meta_is_hidden": "True",
        "meta_output_format": 2,
        "sequence": "320",
        "soft_timeout_in_seconds": "600",
        "title": "",
        "uuid": "e15f500c-2734-4492-a738-3f2db4b7f1ec",
        "id": "-AAHS_6bPc3Y"
      },
      "source": [
        "Con esto ya tenemos terminado nuestro preprocesamiento."
      ]
    },
    {
      "cell_type": "markdown",
      "metadata": {
        "export_id": 34638,
        "export_uuid": "10e2d5b3-1094-4fde-afbb-f4a261b96448",
        "hard_timeout_in_seconds": "660",
        "hide_title_bar": "True",
        "initial_code": "# Clasificador simple\n\nEntrena un clasificador `svm` simple, con validación cruzada estratificada (5 folds) y evalúa su rendimiento en términos de accuracy calculando la media y varianza de los resultados.",
        "meta_block_is_hidden": "False",
        "meta_input_format": 1,
        "meta_is_hidden": "True",
        "meta_output_format": 2,
        "sequence": "330",
        "soft_timeout_in_seconds": "600",
        "title": "",
        "uuid": "10e2d5b3-1094-4fde-afbb-f4a261b96448",
        "id": "MKwFYaLxPc3Y"
      },
      "source": [
        "# Clasificador simple\n",
        "\n",
        "Entrena un clasificador `svm` simple, con validación cruzada estratificada (5 folds) y evalúa su rendimiento en términos de accuracy calculando la media y varianza de los resultados."
      ]
    },
    {
      "cell_type": "code",
      "execution_count": null,
      "metadata": {
        "export_id": 34639,
        "export_uuid": "01fb017b-6438-4a4f-a41e-a3f6923cef64",
        "hard_timeout_in_seconds": "660",
        "hide_title_bar": "True",
        "initial_code": "",
        "meta_block_is_hidden": "False",
        "meta_input_format": 0,
        "meta_is_hidden": "False",
        "meta_output_format": 2,
        "sequence": "340",
        "soft_timeout_in_seconds": "600",
        "title": "",
        "uuid": "01fb017b-6438-4a4f-a41e-a3f6923cef64",
        "id": "EBVwBM9MPc3Y",
        "outputId": "8e3a5abd-496c-4596-ce2d-e1ccdee89561"
      },
      "outputs": [
        {
          "name": "stdout",
          "output_type": "stream",
          "text": [
            "Avg: 0.6363625521765057\n",
            "Var: 0.00034036046280502645\n"
          ]
        }
      ],
      "source": [
        "results = cross_val_score(svm.SVC(random_state=42), X, y, scoring='accuracy', cv=5)\n",
        "print(f\"Avg: {np.mean(results)}\")\n",
        "print(f\"Var: {np.var(results)}\")"
      ]
    },
    {
      "cell_type": "code",
      "execution_count": null,
      "metadata": {
        "id": "egdkD3SlPc3Y",
        "outputId": "5bf9c06e-386b-45ea-8a69-c26e55e6cbb3"
      },
      "outputs": [
        {
          "data": {
            "text/plain": [
              "array([0.61538462, 0.62307692, 0.66923077, 0.63846154, 0.63565891])"
            ]
          },
          "execution_count": 21,
          "metadata": {},
          "output_type": "execute_result"
        }
      ],
      "source": [
        "results"
      ]
    },
    {
      "cell_type": "markdown",
      "metadata": {
        "id": "MlMFil4CPc3Y"
      },
      "source": [
        "El clasificador SVM obtuvo una precisión media del 63.64% en las 5 iteraciones de validación cruzada, lo que indica que clasificó correctamente el 63.64% de las instancias en promedio.\n",
        "\n",
        "La varianza de las puntuaciones de precisión es relativamente baja (aproximadamente 0.00034), lo que sugiere que el rendimiento del modelo es bastante consistente a lo largo de las diferentes iteraciones de la validación cruzada."
      ]
    },
    {
      "cell_type": "markdown",
      "metadata": {
        "export_id": 34640,
        "export_uuid": "7237c131-0901-41aa-ac2a-67b2524f6650",
        "hard_timeout_in_seconds": "660",
        "hide_title_bar": "True",
        "initial_code": "# Voting\n\nConstruye un metaclasificador usando `voting` con svm y redes neuronales (MLClassifier), evalúa los resultados en los mismo términos que antes. ¿Los resultados son mejores o peores? ¿es coherente el resultado?",
        "meta_block_is_hidden": "False",
        "meta_input_format": 1,
        "meta_is_hidden": "True",
        "meta_output_format": 2,
        "sequence": "350",
        "soft_timeout_in_seconds": "600",
        "title": "",
        "uuid": "7237c131-0901-41aa-ac2a-67b2524f6650",
        "id": "6UQZr_NIPc3Y"
      },
      "source": [
        "# Voting\n",
        "\n",
        "Construye un metaclasificador usando `voting` con svm y redes neuronales (MLClassifier), evalúa los resultados en los mismo términos que antes. ¿Los resultados son mejores o peores? ¿es coherente el resultado?"
      ]
    },
    {
      "cell_type": "code",
      "execution_count": null,
      "metadata": {
        "export_id": 34641,
        "export_uuid": "a03ddecd-4c19-48d5-9b6e-912fa594d8a9",
        "hard_timeout_in_seconds": "660",
        "hide_title_bar": "True",
        "initial_code": "",
        "meta_block_is_hidden": "False",
        "meta_input_format": 0,
        "meta_is_hidden": "False",
        "meta_output_format": 2,
        "sequence": "360",
        "soft_timeout_in_seconds": "600",
        "title": "",
        "uuid": "a03ddecd-4c19-48d5-9b6e-912fa594d8a9",
        "id": "ujw0CHxPPc3Y"
      },
      "outputs": [],
      "source": [
        "classifiers = [\n",
        "    ('svm', svm.SVC(random_state=42)),\n",
        "    ('nn', MLPClassifier(random_state=42))\n",
        "]\n",
        "\n",
        "metaclassifier = VotingClassifier(estimators = classifiers, voting = 'hard')"
      ]
    },
    {
      "cell_type": "code",
      "execution_count": null,
      "metadata": {
        "id": "W6Pp4f_DPc3Y"
      },
      "outputs": [],
      "source": [
        "results = cross_val_score(metaclassifier, X, y, scoring='accuracy', cv=5)"
      ]
    },
    {
      "cell_type": "code",
      "execution_count": null,
      "metadata": {
        "scrolled": true,
        "id": "0_JDukW1Pc3Y",
        "outputId": "1047ef68-63fa-4bb1-aa57-971f05a1a41d"
      },
      "outputs": [
        {
          "name": "stdout",
          "output_type": "stream",
          "text": [
            "Avg: 0.6409779367918903\n",
            "Var: 0.00023192506993314032\n"
          ]
        }
      ],
      "source": [
        "print(f\"Avg: {np.mean(results)}\")\n",
        "print(f\"Var: {np.var(results)}\")"
      ]
    },
    {
      "cell_type": "markdown",
      "metadata": {
        "id": "OcOs2JRxPc3Z"
      },
      "source": [
        "En base a las 2 métricas que se están evaluando, se puede decir que el metaclasificador usando voting funciona mejor que el clasificador simple previamente utilizado."
      ]
    },
    {
      "cell_type": "markdown",
      "metadata": {
        "export_id": 34642,
        "export_uuid": "ff09dac7-345f-47df-aeea-c5d037a77975",
        "hard_timeout_in_seconds": "660",
        "hide_title_bar": "True",
        "initial_code": "# Stacking\n\nEntrena un modelo stacked con capas de redes neuronales (MLPClassifier), entrenalo con 1,2,3,4 y 5 capas y evalua los resultados.",
        "meta_block_is_hidden": "False",
        "meta_input_format": 1,
        "meta_is_hidden": "True",
        "meta_output_format": 2,
        "sequence": "370",
        "soft_timeout_in_seconds": "600",
        "title": "",
        "uuid": "ff09dac7-345f-47df-aeea-c5d037a77975",
        "id": "JnRuyg8SPc3Z"
      },
      "source": [
        "# Stacking\n",
        "\n",
        "Entrena un modelo stacked con capas de redes neuronales (MLPClassifier), entrenalo con 1,2,3,4 y 5 capas y evalua los resultados."
      ]
    },
    {
      "cell_type": "code",
      "execution_count": null,
      "metadata": {
        "export_id": 34643,
        "export_uuid": "2936948a-73b6-45b4-bb13-506cbe37802a",
        "hard_timeout_in_seconds": "660",
        "hide_title_bar": "True",
        "initial_code": "",
        "meta_block_is_hidden": "False",
        "meta_input_format": 0,
        "meta_is_hidden": "False",
        "meta_output_format": 2,
        "sequence": "380",
        "soft_timeout_in_seconds": "600",
        "title": "",
        "uuid": "2936948a-73b6-45b4-bb13-506cbe37802a",
        "id": "ZenGx88uPc3Z"
      },
      "outputs": [],
      "source": [
        "def train_stacked_classifier(layers):\n",
        "    clasificadores = [\n",
        "        ('nn', MLPClassifier(hidden_layer_sizes=layers, random_state=42, max_iter=1000))\n",
        "    ]\n",
        "\n",
        "    metaclasificador_stacked = StackingClassifier(estimators=clasificadores)\n",
        "    results = cross_val_score(metaclasificador_stacked, X, y, scoring='accuracy', cv=5)\n",
        "\n",
        "    return np.mean(results), np.var(results)"
      ]
    },
    {
      "cell_type": "code",
      "execution_count": null,
      "metadata": {
        "id": "nCRmRAeuPc3Z",
        "outputId": "fbd44b21-4cdc-4cdf-834a-7ce03a75d4a8"
      },
      "outputs": [
        {
          "name": "stdout",
          "output_type": "stream",
          "text": [
            "Precisión con 1 capa(s) oculta(s): Media = 0.6271437090041742, Varianza = 0.0025750307307573195\n",
            "Precisión con 2 capa(s) oculta(s): Media = 0.6256410256410255, Varianza = 0.0028586456278763953\n",
            "Precisión con 3 capa(s) oculta(s): Media = 0.5886821705426357, Varianza = 0.000781351541729294\n",
            "Precisión con 4 capa(s) oculta(s): Media = 0.5979129397734049, Varianza = 0.00346130200271732\n",
            "Precisión con 5 capa(s) oculta(s): Media = 0.6209898628503279, Varianza = 0.002445201823826444\n",
            "\n",
            "Mejor modelo: 1 capa(s) oculta(s) con una precisión media de 0.6271437090041742\n"
          ]
        }
      ],
      "source": [
        "num_layers = [1, 2, 3, 4, 5]\n",
        "accuracy_scores = []\n",
        "\n",
        "for i in num_layers:\n",
        "    layers = tuple(100 for _ in range(i))\n",
        "    mean, var = train_stacked_classifier(layers)\n",
        "    accuracy_scores.append(mean)\n",
        "    print(f'Precisión con {i} capa(s) oculta(s): Media = {mean}, Varianza = {var}')\n",
        "\n",
        "best_index = np.argmax(accuracy_scores)\n",
        "print(f'\\nMejor modelo: {num_layers[best_index]} capa(s) oculta(s) con una precisión media de {accuracy_scores[best_index]}')"
      ]
    },
    {
      "cell_type": "markdown",
      "metadata": {
        "id": "KQ4vIzoNPc3a"
      },
      "source": [
        "El metaclasificador MLP utilizando stacking en términos de precisión, ofrece peores resultados que los 2 anteriores, pero en términos de varianza, ofrece los mejores resultados debido a que la salida de un modelo es la entrada del siguiente, lo que hace el metamodelo más robusto."
      ]
    },
    {
      "cell_type": "markdown",
      "metadata": {
        "export_id": 34644,
        "export_uuid": "8128f876-ab05-48f3-8ea6-e6da310e8666",
        "hard_timeout_in_seconds": "660",
        "hide_title_bar": "True",
        "initial_code": "# Bagging\n\n\nEntrena con bagging un svm y varia el número de estimadores de 100, 250, 500, 750, 1000. Comenta los resultados.",
        "meta_block_is_hidden": "False",
        "meta_input_format": 1,
        "meta_is_hidden": "True",
        "meta_output_format": 2,
        "sequence": "390",
        "soft_timeout_in_seconds": "600",
        "title": "",
        "uuid": "8128f876-ab05-48f3-8ea6-e6da310e8666",
        "id": "mRCj7jw3Pc3a"
      },
      "source": [
        "# Bagging\n",
        "\n",
        "\n",
        "Entrena con bagging un svm y varia el número de estimadores de 100, 250, 500, 750, 1000. Comenta los resultados."
      ]
    },
    {
      "cell_type": "code",
      "execution_count": null,
      "metadata": {
        "export_id": 34645,
        "export_uuid": "65d6c0c4-df6f-46a7-9725-23cb7d1eb9f2",
        "hard_timeout_in_seconds": "660",
        "hide_title_bar": "True",
        "initial_code": "",
        "meta_block_is_hidden": "False",
        "meta_input_format": 0,
        "meta_is_hidden": "False",
        "meta_output_format": 2,
        "sequence": "400",
        "soft_timeout_in_seconds": "600",
        "title": "",
        "uuid": "65d6c0c4-df6f-46a7-9725-23cb7d1eb9f2",
        "id": "TEHeMQghPc3a"
      },
      "outputs": [],
      "source": [
        "def train_bagging_svm(n_estimators):\n",
        "    bagging_svm = BaggingClassifier(base_estimator=svm.SVC(), n_estimators=n_estimators, random_state=42)\n",
        "    results = cross_val_score(bagging_svm, X, y, scoring='accuracy', cv=5)\n",
        "\n",
        "    return np.mean(results), np.var(results)"
      ]
    },
    {
      "cell_type": "code",
      "execution_count": null,
      "metadata": {
        "scrolled": true,
        "id": "0wEJgkg_Pc3a",
        "outputId": "bf56f02a-e845-4d85-a147-d90ce69d6dfa"
      },
      "outputs": [
        {
          "name": "stdout",
          "output_type": "stream",
          "text": [
            "Precisión con 100 estimadores: Media = 0.6471556350626118, Varianza = 0.0002407007146034477\n",
            "Precisión con 250 estimadores: Media = 0.6456171735241503, Varianza = 0.00015857604142331878\n",
            "Precisión con 500 estimadores: Media = 0.6502325581395348, Varianza = 0.0002013997651057184\n",
            "Precisión con 750 estimadores: Media = 0.6456171735241503, Varianza = 0.0002769192366895905\n",
            "Precisión con 1000 estimadores: Media = 0.6471556350626118, Varianza = 0.0003117066317632109\n",
            "\n",
            "Mejor modelo: 500 estimadores con una precisión media de 0.6502325581395348\n"
          ]
        }
      ],
      "source": [
        "num_estimators = [100, 250, 500, 750, 1000]\n",
        "accuracy_scores = []\n",
        "\n",
        "for i in num_estimators:\n",
        "    mean, var = train_bagging_svm(i)\n",
        "    accuracy_scores.append(mean)\n",
        "    print(f'Precisión con {i} estimadores: Media = {mean}, Varianza = {var}')\n",
        "\n",
        "best_index = np.argmax(accuracy_scores)\n",
        "print(f'\\nMejor modelo: {num_estimators[best_index]} estimadores con una precisión media de {accuracy_scores[best_index]}')"
      ]
    },
    {
      "cell_type": "markdown",
      "metadata": {
        "id": "ZBqryikEPc3a"
      },
      "source": [
        "Hasta el momento, este metamodelo es el que mejores métricas ofrece con una precisión del 65% y una varianza de 0.0002"
      ]
    },
    {
      "cell_type": "markdown",
      "metadata": {
        "export_id": 34646,
        "export_uuid": "a7cb51c5-96ee-4d02-abd7-283899adfab3",
        "hard_timeout_in_seconds": "660",
        "hide_title_bar": "True",
        "initial_code": "# Boosting\n\nEntrena un modelo con Adaboost con 100, 250, 500, 750, 1000 estimadores y comenta los resultados en términos de accuracy y varianza del mismo.",
        "meta_block_is_hidden": "False",
        "meta_input_format": 1,
        "meta_is_hidden": "True",
        "meta_output_format": 2,
        "sequence": "410",
        "soft_timeout_in_seconds": "600",
        "title": "",
        "uuid": "a7cb51c5-96ee-4d02-abd7-283899adfab3",
        "id": "9Kn6-YONPc3a"
      },
      "source": [
        "# Boosting\n",
        "\n",
        "Entrena un modelo con Adaboost con 100, 250, 500, 750, 1000 estimadores y comenta los resultados en términos de accuracy y varianza del mismo."
      ]
    },
    {
      "cell_type": "code",
      "execution_count": null,
      "metadata": {
        "export_id": 34647,
        "export_uuid": "2d2c8f4d-d549-41a2-83fd-54e4c17fbfbe",
        "hard_timeout_in_seconds": "660",
        "hide_title_bar": "True",
        "initial_code": "",
        "meta_block_is_hidden": "False",
        "meta_input_format": 0,
        "meta_is_hidden": "False",
        "meta_output_format": 2,
        "sequence": "420",
        "soft_timeout_in_seconds": "600",
        "title": "",
        "uuid": "2d2c8f4d-d549-41a2-83fd-54e4c17fbfbe",
        "id": "QPnAm3hxPc3a"
      },
      "outputs": [],
      "source": [
        "def train_adaboost(n_estimators):\n",
        "    adaboost = AdaBoostClassifier(n_estimators=n_estimators, random_state=42)\n",
        "    results = cross_val_score(adaboost, X, y, scoring='accuracy', cv=5)\n",
        "\n",
        "    return np.mean(results), np.var(results)"
      ]
    },
    {
      "cell_type": "code",
      "execution_count": null,
      "metadata": {
        "scrolled": true,
        "id": "-ejPXjrCPc3a",
        "outputId": "fac83fb0-ef99-44c1-b125-3ebe61decc30"
      },
      "outputs": [
        {
          "name": "stdout",
          "output_type": "stream",
          "text": [
            "Precisión con 100 estimadores: Media = 0.6055694692903995, Varianza = 0.004606439147055697\n",
            "Precisión con 250 estimadores: Media = 0.5886583184257603, Varianza = 0.004180972283114814\n",
            "Precisión con 500 estimadores: Media = 0.5932737030411449, Varianza = 0.004465546385220221\n",
            "Precisión con 750 estimadores: Media = 0.6055933214072748, Varianza = 0.0044478784665663235\n",
            "Precisión con 1000 estimadores: Media = 0.6086821705426357, Varianza = 0.003023413832449901\n",
            "\n",
            "Mejor modelo: 1000 estimadores con una precisión media de 0.6086821705426357\n"
          ]
        }
      ],
      "source": [
        "num_estimators = [100, 250, 500, 750, 1000]\n",
        "accuracy_scores = []\n",
        "\n",
        "for i in num_estimators:\n",
        "    mean, var = train_adaboost(i)\n",
        "    accuracy_scores.append(mean)\n",
        "    print(f'Precisión con {i} estimadores: Media = {mean}, Varianza = {var}')\n",
        "\n",
        "best_index = np.argmax(accuracy_scores)\n",
        "print(f'\\nMejor modelo: {num_estimators[best_index]} estimadores con una precisión media de {accuracy_scores[best_index]}')"
      ]
    },
    {
      "cell_type": "markdown",
      "metadata": {
        "id": "dBwGPzg_Pc3b"
      },
      "source": [
        "Basandonos en las métricas que estamos utilizando, este metamodelo es el que nos ofrece peores resultados, con una precisión del 60.86% y una varianza de 0.003"
      ]
    },
    {
      "cell_type": "code",
      "execution_count": null,
      "metadata": {
        "id": "LhsbAivSPc3b"
      },
      "outputs": [],
      "source": []
    },
    {
      "cell_type": "markdown",
      "metadata": {
        "id": "IMXkvTiVPc3b"
      },
      "source": [
        "## Clasificación de los modelos"
      ]
    },
    {
      "cell_type": "markdown",
      "metadata": {
        "id": "vo5fxWP6Pc3b"
      },
      "source": [
        "1º. SVM con Baggin\n",
        "\n",
        "2º. SVM y MLP con Voting\n",
        "\n",
        "3º. SVM claificador simple\n",
        "\n",
        "4º. MLP con Stacking\n",
        "\n",
        "5º. Adaboost"
      ]
    }
  ],
  "metadata": {
    "kernelspec": {
      "display_name": "Python 3 (ipykernel)",
      "language": "python",
      "name": "python3"
    },
    "language_info": {
      "codemirror_mode": {
        "name": "ipython",
        "version": 3
      },
      "file_extension": ".py",
      "mimetype": "text/x-python",
      "name": "python",
      "nbconvert_exporter": "python",
      "pygments_lexer": "ipython3",
      "version": "3.9.12"
    },
    "notebook": {
      "allow_read_only": "False",
      "meta_autorefresh_in_seconds": "0",
      "meta_layout": "[{\"w\":48,\"h\":30,\"minW\":15,\"minH\":5,\"i\":\"key_block_id_e50a66b9-33ff-49a8-8477-619aa77c6e9e\",\"x\":0,\"y\":30,\"moved\":false,\"static\":false},{\"w\":48,\"h\":30,\"minW\":15,\"minH\":5,\"i\":\"key_block_id_875c0e39-4d66-42e4-ba6a-06eaa0964cf7\",\"x\":0,\"y\":60,\"moved\":false,\"static\":false},{\"w\":48,\"h\":30,\"minW\":15,\"minH\":5,\"i\":\"key_block_id_b9fba0bc-a411-4f8c-b4de-be779f9da069\",\"x\":0,\"y\":90,\"moved\":false,\"static\":false},{\"w\":48,\"h\":30,\"minW\":15,\"minH\":5,\"i\":\"key_block_id_2d61682b-1c42-4126-ab39-db602ff45a44\",\"x\":0,\"y\":120,\"moved\":false,\"static\":false},{\"w\":48,\"h\":30,\"minW\":15,\"minH\":5,\"i\":\"key_block_id_d939e239-abda-41ea-bfda-2b1d6722707b\",\"x\":0,\"y\":150,\"moved\":false,\"static\":false},{\"w\":48,\"h\":30,\"minW\":15,\"minH\":5,\"i\":\"key_block_id_90862f1b-227c-40d4-b16c-f933e9ef6c8a\",\"x\":0,\"y\":180,\"moved\":false,\"static\":false},{\"w\":48,\"h\":30,\"minW\":15,\"minH\":5,\"i\":\"key_block_id_6dbe70db-c5ca-48fa-80f9-038bceda97e0\",\"x\":0,\"y\":210,\"moved\":false,\"static\":false},{\"w\":48,\"h\":30,\"minW\":15,\"minH\":5,\"i\":\"key_block_id_7044a48f-377c-4e74-9cd1-0abe71680fc2\",\"x\":0,\"y\":240,\"moved\":false,\"static\":false},{\"w\":48,\"h\":30,\"minW\":15,\"minH\":5,\"i\":\"key_block_id_0ceb2316-0852-4781-bafa-fdcfea2ea1bf\",\"x\":0,\"y\":270,\"moved\":false,\"static\":false},{\"w\":48,\"h\":30,\"minW\":15,\"minH\":5,\"i\":\"key_block_id_bcb783ab-d20b-4714-98e0-f5e13e8330ec\",\"x\":0,\"y\":300,\"moved\":false,\"static\":false},{\"w\":48,\"h\":30,\"minW\":15,\"minH\":5,\"i\":\"key_block_id_b71a9a47-2e61-4ad9-ba47-89440fbc0ce3\",\"x\":0,\"y\":330,\"moved\":false,\"static\":false},{\"w\":48,\"h\":30,\"minW\":15,\"minH\":5,\"i\":\"key_block_id_8c831387-139f-44b8-896a-fb01163b9ab9\",\"x\":0,\"y\":360,\"moved\":false,\"static\":false},{\"w\":48,\"h\":30,\"minW\":15,\"minH\":5,\"i\":\"key_block_id_d08b16a2-e058-4345-b5fa-19bdd9fabd76\",\"x\":0,\"y\":390,\"moved\":false,\"static\":false},{\"w\":48,\"h\":30,\"minW\":15,\"minH\":5,\"i\":\"key_block_id_41a65f71-2518-4709-a175-a0ad54c58e51\",\"x\":0,\"y\":420,\"moved\":false,\"static\":false},{\"w\":48,\"h\":30,\"minW\":15,\"minH\":5,\"i\":\"key_block_id_ff94c22a-67c7-43fa-be45-4dee0c6c5600\",\"x\":0,\"y\":450,\"moved\":false,\"static\":false},{\"w\":48,\"h\":30,\"minW\":15,\"minH\":5,\"i\":\"key_block_id_114c9ffd-9cf4-4779-b4f6-89c214b972b1\",\"x\":0,\"y\":480,\"moved\":false,\"static\":false},{\"w\":48,\"h\":30,\"minW\":15,\"minH\":5,\"i\":\"key_block_id_8d03fe2f-b41b-4891-8a9b-6cc94948f85c\",\"x\":0,\"y\":510,\"moved\":false,\"static\":false},{\"w\":48,\"h\":30,\"minW\":15,\"minH\":5,\"i\":\"key_block_id_7eecd5ae-bb9d-4d8a-a0bb-96df6d369f31\",\"x\":0,\"y\":540,\"moved\":false,\"static\":false},{\"w\":48,\"h\":30,\"minW\":15,\"minH\":5,\"i\":\"key_block_id_64284122-7f92-4997-98be-d5e33701c282\",\"x\":0,\"y\":570,\"moved\":false,\"static\":false},{\"w\":48,\"h\":30,\"minW\":15,\"minH\":5,\"i\":\"key_block_id_aef949ca-431e-46d0-bfc6-7c06e6dea444\",\"x\":0,\"y\":600,\"moved\":false,\"static\":false},{\"w\":48,\"h\":30,\"minW\":15,\"minH\":5,\"i\":\"key_block_id_fe9cebae-e482-45d1-9557-b6f11664778b\",\"x\":0,\"y\":630,\"moved\":false,\"static\":false},{\"w\":48,\"h\":30,\"minW\":15,\"minH\":5,\"i\":\"key_block_id_778ac6f2-d9d2-4819-bff6-9c2731380366\",\"x\":0,\"y\":660,\"moved\":false,\"static\":false},{\"w\":48,\"h\":30,\"minW\":15,\"minH\":5,\"i\":\"key_block_id_a8558601-4053-43e5-9245-5e827e2db62f\",\"x\":0,\"y\":690,\"moved\":false,\"static\":false},{\"w\":48,\"h\":30,\"minW\":15,\"minH\":5,\"i\":\"key_block_id_2b16c7f5-99cb-4eeb-a1f1-e7de0f578dbb\",\"x\":0,\"y\":720,\"moved\":false,\"static\":false},{\"w\":48,\"h\":30,\"minW\":15,\"minH\":5,\"i\":\"key_block_id_d23dd15d-9f68-41b9-bfe9-017f432e2c6f\",\"x\":0,\"y\":750,\"moved\":false,\"static\":false},{\"w\":48,\"h\":30,\"minW\":15,\"minH\":5,\"i\":\"key_block_id_ca03d623-3494-47a9-b1c8-c24771b0094d\",\"x\":0,\"y\":780,\"moved\":false,\"static\":false},{\"w\":48,\"h\":30,\"minW\":15,\"minH\":5,\"i\":\"key_block_id_28ed553f-ba7d-4a95-905a-c387ac1c45cc\",\"x\":0,\"y\":810,\"moved\":false,\"static\":false},{\"w\":48,\"h\":30,\"minW\":15,\"minH\":5,\"i\":\"key_block_id_7df542ca-3cf6-4ce6-9dd9-9244c8ade6b8\",\"x\":0,\"y\":840,\"moved\":false,\"static\":false},{\"w\":48,\"h\":30,\"minW\":15,\"minH\":5,\"i\":\"key_block_id_a0a76fc0-9bdb-491d-bc19-783183248aba\",\"x\":0,\"y\":870,\"moved\":false,\"static\":false},{\"w\":48,\"h\":30,\"minW\":15,\"minH\":5,\"i\":\"key_block_id_e15f500c-2734-4492-a738-3f2db4b7f1ec\",\"x\":0,\"y\":900,\"moved\":false,\"static\":false},{\"w\":48,\"h\":30,\"minW\":15,\"minH\":5,\"i\":\"key_block_id_10e2d5b3-1094-4fde-afbb-f4a261b96448\",\"x\":0,\"y\":930,\"moved\":false,\"static\":false},{\"w\":48,\"h\":30,\"minW\":15,\"minH\":5,\"i\":\"key_block_id_01fb017b-6438-4a4f-a41e-a3f6923cef64\",\"x\":0,\"y\":960,\"moved\":false,\"static\":false},{\"w\":48,\"h\":30,\"minW\":15,\"minH\":5,\"i\":\"key_block_id_7237c131-0901-41aa-ac2a-67b2524f6650\",\"x\":0,\"y\":990,\"moved\":false,\"static\":false},{\"w\":48,\"h\":30,\"minW\":15,\"minH\":5,\"i\":\"key_block_id_a03ddecd-4c19-48d5-9b6e-912fa594d8a9\",\"x\":0,\"y\":1020,\"moved\":false,\"static\":false},{\"w\":48,\"h\":30,\"minW\":15,\"minH\":5,\"i\":\"key_block_id_ff09dac7-345f-47df-aeea-c5d037a77975\",\"x\":0,\"y\":1050,\"moved\":false,\"static\":false},{\"w\":48,\"h\":30,\"minW\":15,\"minH\":5,\"i\":\"key_block_id_2936948a-73b6-45b4-bb13-506cbe37802a\",\"x\":0,\"y\":1080,\"moved\":false,\"static\":false},{\"w\":48,\"h\":30,\"minW\":15,\"minH\":5,\"i\":\"key_block_id_8128f876-ab05-48f3-8ea6-e6da310e8666\",\"x\":0,\"y\":1110,\"moved\":false,\"static\":false},{\"w\":48,\"h\":30,\"minW\":15,\"minH\":5,\"i\":\"key_block_id_65d6c0c4-df6f-46a7-9725-23cb7d1eb9f2\",\"x\":0,\"y\":1140,\"moved\":false,\"static\":false},{\"w\":48,\"h\":30,\"minW\":15,\"minH\":5,\"i\":\"key_block_id_a7cb51c5-96ee-4d02-abd7-283899adfab3\",\"x\":0,\"y\":1170,\"moved\":false,\"static\":false},{\"w\":48,\"h\":30,\"minW\":15,\"minH\":5,\"i\":\"key_block_id_2d2c8f4d-d549-41a2-83fd-54e4c17fbfbe\",\"x\":0,\"y\":1200,\"moved\":false,\"static\":false},{\"w\":48,\"h\":30,\"minW\":15,\"minH\":5,\"i\":\"key_block_id_acf0f82f-d639-48c0-8a6c-a68ad01932cc\",\"x\":0,\"y\":30,\"moved\":false,\"static\":false},{\"w\":48,\"h\":30,\"minW\":15,\"minH\":5,\"i\":\"key_block_id_9270c2e8-2b96-4acc-9e0d-53a02aa19dd5\",\"x\":0,\"y\":60,\"moved\":false,\"static\":false}]",
      "meta_layout_mobile": "[]",
      "meta_refresh_on_load": "False",
      "mode": "S",
      "uuid": "e2b7faa3-c754-46d9-a58c-e366a398e3a0"
    },
    "resources": [],
    "colab": {
      "provenance": [],
      "include_colab_link": true
    }
  },
  "nbformat": 4,
  "nbformat_minor": 0
}