{
  "cells": [
    {
      "cell_type": "markdown",
      "metadata": {
        "id": "view-in-github",
        "colab_type": "text"
      },
      "source": [
        "<a href=\"https://colab.research.google.com/github/PedroJuiz/SupervisedLearning/blob/main/AIRBNB_Price_Prediction.ipynb\" target=\"_parent\"><img src=\"https://colab.research.google.com/assets/colab-badge.svg\" alt=\"Open In Colab\"/></a>"
      ]
    },
    {
      "cell_type": "code",
      "execution_count": null,
      "metadata": {
        "id": "HnnTmJcwM2hM"
      },
      "outputs": [],
      "source": [
        "from IPython.core.display import HTML\n",
        "HTML(\"\\n\".join(open('mioti_style.css', 'r').readlines()))"
      ]
    },
    {
      "cell_type": "markdown",
      "metadata": {
        "id": "_Hn6YbxBM2hO"
      },
      "source": [
        "<img src=\"data:image/png;base64,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\" style=\"height: 100px\">\n",
        "<center style=\"color:#888\">Módulo Data Science in IoT<br/>Asignatura Machine Learning</center>\n",
        "\n",
        "# Challenge S4: Predicción de precios AirBNB"
      ]
    },
    {
      "cell_type": "markdown",
      "metadata": {
        "id": "lnbJBsdcM2hR"
      },
      "source": [
        "## Objetivos\n",
        "\n",
        "El objetivo de este challenge es predecir el precio de las viviendas de AirBnB Madrid a partir de alguna de sus características.\n",
        "\n",
        "Este challenge utiliza un dataset real que no está pensado para aplicar técnicas de machine learning así que no esperes que las cosas funcionen bien a la primera 🤓."
      ]
    },
    {
      "cell_type": "markdown",
      "metadata": {
        "id": "2vlFE6A7M2hR"
      },
      "source": [
        "## Configuración del entorno"
      ]
    },
    {
      "cell_type": "code",
      "execution_count": null,
      "metadata": {
        "id": "sijfoAvkM2hR"
      },
      "outputs": [],
      "source": [
        "%matplotlib inline\n",
        "\n",
        "import warnings\n",
        "warnings.filterwarnings(\"ignore\")\n",
        "\n",
        "import numpy as np\n",
        "import pandas as pd\n",
        "import matplotlib.pyplot as plt\n",
        "import sklearn\n",
        "from sklearn.metrics import confusion_matrix, accuracy_score, precision_score, recall_score, f1_score\n",
        "from sklearn.model_selection import cross_val_score\n",
        "from sklearn.linear_model import LogisticRegression\n",
        "import scikitplot as skplt"
      ]
    },
    {
      "cell_type": "markdown",
      "metadata": {
        "collapsed": true,
        "id": "HS8_jftHM2hS"
      },
      "source": [
        "## Dataset\n",
        "\n",
        "Para este worksheet utilizaremos el dataset de airbnb Madrid."
      ]
    },
    {
      "cell_type": "code",
      "execution_count": null,
      "metadata": {
        "id": "3lpZcbbSM2hS"
      },
      "outputs": [],
      "source": [
        "df = pd.read_csv('dataset_airbnb_madrid.csv')"
      ]
    },
    {
      "cell_type": "code",
      "execution_count": null,
      "metadata": {
        "scrolled": false,
        "id": "0AxojHXqM2hS",
        "outputId": "5be5886a-1351-4f07-d935-69eea620a502"
      },
      "outputs": [
        {
          "data": {
            "text/html": [
              "<div>\n",
              "<style scoped>\n",
              "    .dataframe tbody tr th:only-of-type {\n",
              "        vertical-align: middle;\n",
              "    }\n",
              "\n",
              "    .dataframe tbody tr th {\n",
              "        vertical-align: top;\n",
              "    }\n",
              "\n",
              "    .dataframe thead th {\n",
              "        text-align: right;\n",
              "    }\n",
              "</style>\n",
              "<table border=\"1\" class=\"dataframe\">\n",
              "  <thead>\n",
              "    <tr style=\"text-align: right;\">\n",
              "      <th></th>\n",
              "      <th>id</th>\n",
              "      <th>listing_url</th>\n",
              "      <th>scrape_id</th>\n",
              "      <th>last_scraped</th>\n",
              "      <th>name</th>\n",
              "      <th>summary</th>\n",
              "      <th>space</th>\n",
              "      <th>description</th>\n",
              "      <th>experiences_offered</th>\n",
              "      <th>neighborhood_overview</th>\n",
              "      <th>...</th>\n",
              "      <th>review_scores_value</th>\n",
              "      <th>requires_license</th>\n",
              "      <th>license</th>\n",
              "      <th>jurisdiction_names</th>\n",
              "      <th>instant_bookable</th>\n",
              "      <th>cancellation_policy</th>\n",
              "      <th>require_guest_profile_picture</th>\n",
              "      <th>require_guest_phone_verification</th>\n",
              "      <th>calculated_host_listings_count</th>\n",
              "      <th>reviews_per_month</th>\n",
              "    </tr>\n",
              "  </thead>\n",
              "  <tbody>\n",
              "    <tr>\n",
              "      <th>0</th>\n",
              "      <td>7830063</td>\n",
              "      <td>https://www.airbnb.com/rooms/7830063</td>\n",
              "      <td>20170407214119</td>\n",
              "      <td>2017-04-08</td>\n",
              "      <td>Quiet room in Plaza Mayor</td>\n",
              "      <td>Room in magnificent property in the historic c...</td>\n",
              "      <td>Based in the historic center of Madrid, to 1 m...</td>\n",
              "      <td>Room in magnificent property in the historic c...</td>\n",
              "      <td>none</td>\n",
              "      <td>In the historic heart of Madrid, near the Plaz...</td>\n",
              "      <td>...</td>\n",
              "      <td>9.0</td>\n",
              "      <td>t</td>\n",
              "      <td>NaN</td>\n",
              "      <td>NaN</td>\n",
              "      <td>t</td>\n",
              "      <td>moderate</td>\n",
              "      <td>f</td>\n",
              "      <td>f</td>\n",
              "      <td>7</td>\n",
              "      <td>5.04</td>\n",
              "    </tr>\n",
              "    <tr>\n",
              "      <th>1</th>\n",
              "      <td>9898596</td>\n",
              "      <td>https://www.airbnb.com/rooms/9898596</td>\n",
              "      <td>20170407214119</td>\n",
              "      <td>2017-04-08</td>\n",
              "      <td>Homely apartment in the heart of Madrid</td>\n",
              "      <td>Spacious apartment for up to 10 people, with a...</td>\n",
              "      <td>This spacious apartment is located in the cent...</td>\n",
              "      <td>Spacious apartment for up to 10 people, with a...</td>\n",
              "      <td>none</td>\n",
              "      <td>The Living Santa Ana Apartments are located in...</td>\n",
              "      <td>...</td>\n",
              "      <td>9.0</td>\n",
              "      <td>t</td>\n",
              "      <td>NaN</td>\n",
              "      <td>NaN</td>\n",
              "      <td>t</td>\n",
              "      <td>moderate</td>\n",
              "      <td>f</td>\n",
              "      <td>f</td>\n",
              "      <td>1</td>\n",
              "      <td>4.39</td>\n",
              "    </tr>\n",
              "    <tr>\n",
              "      <th>2</th>\n",
              "      <td>15334645</td>\n",
              "      <td>https://www.airbnb.com/rooms/15334645</td>\n",
              "      <td>20170407214119</td>\n",
              "      <td>2017-04-08</td>\n",
              "      <td>Piso Muy Luminoso en pleno centro de Madrid</td>\n",
              "      <td>Lugares de interés: Casa Lucio, Cine Doré, Cal...</td>\n",
              "      <td>Lo mejor es su ubicación en pleno centro de Ma...</td>\n",
              "      <td>Lugares de interés: Casa Lucio, Cine Doré, Cal...</td>\n",
              "      <td>none</td>\n",
              "      <td>La zona de la Latina es un área cultural y un ...</td>\n",
              "      <td>...</td>\n",
              "      <td>9.0</td>\n",
              "      <td>t</td>\n",
              "      <td>NaN</td>\n",
              "      <td>NaN</td>\n",
              "      <td>t</td>\n",
              "      <td>strict</td>\n",
              "      <td>f</td>\n",
              "      <td>f</td>\n",
              "      <td>1</td>\n",
              "      <td>5.57</td>\n",
              "    </tr>\n",
              "    <tr>\n",
              "      <th>3</th>\n",
              "      <td>1307795</td>\n",
              "      <td>https://www.airbnb.com/rooms/1307795</td>\n",
              "      <td>20170407214119</td>\n",
              "      <td>2017-04-08</td>\n",
              "      <td>Rent room in the heart of Madrid</td>\n",
              "      <td>NaN</td>\n",
              "      <td>Very nice room , whith private bath , in a bea...</td>\n",
              "      <td>Very nice room , whith private bath , in a bea...</td>\n",
              "      <td>none</td>\n",
              "      <td>NaN</td>\n",
              "      <td>...</td>\n",
              "      <td>10.0</td>\n",
              "      <td>t</td>\n",
              "      <td>NaN</td>\n",
              "      <td>NaN</td>\n",
              "      <td>f</td>\n",
              "      <td>strict</td>\n",
              "      <td>f</td>\n",
              "      <td>f</td>\n",
              "      <td>1</td>\n",
              "      <td>0.24</td>\n",
              "    </tr>\n",
              "    <tr>\n",
              "      <th>4</th>\n",
              "      <td>17410608</td>\n",
              "      <td>https://www.airbnb.com/rooms/17410608</td>\n",
              "      <td>20170407214119</td>\n",
              "      <td>2017-04-08</td>\n",
              "      <td>Luxury duplex penthouse in historic building</td>\n",
              "      <td>Amazing duplex penthouse in a historic buildin...</td>\n",
              "      <td>It is located in an emblematic building with e...</td>\n",
              "      <td>Amazing duplex penthouse in a historic buildin...</td>\n",
              "      <td>none</td>\n",
              "      <td>\"Madrid de los Austrias \"is a beautiful neighb...</td>\n",
              "      <td>...</td>\n",
              "      <td>10.0</td>\n",
              "      <td>t</td>\n",
              "      <td>NaN</td>\n",
              "      <td>NaN</td>\n",
              "      <td>f</td>\n",
              "      <td>strict</td>\n",
              "      <td>f</td>\n",
              "      <td>f</td>\n",
              "      <td>13</td>\n",
              "      <td>4.29</td>\n",
              "    </tr>\n",
              "  </tbody>\n",
              "</table>\n",
              "<p>5 rows × 95 columns</p>\n",
              "</div>"
            ],
            "text/plain": [
              "         id                            listing_url       scrape_id  \\\n",
              "0   7830063   https://www.airbnb.com/rooms/7830063  20170407214119   \n",
              "1   9898596   https://www.airbnb.com/rooms/9898596  20170407214119   \n",
              "2  15334645  https://www.airbnb.com/rooms/15334645  20170407214119   \n",
              "3   1307795   https://www.airbnb.com/rooms/1307795  20170407214119   \n",
              "4  17410608  https://www.airbnb.com/rooms/17410608  20170407214119   \n",
              "\n",
              "  last_scraped                                          name  \\\n",
              "0   2017-04-08                     Quiet room in Plaza Mayor   \n",
              "1   2017-04-08       Homely apartment in the heart of Madrid   \n",
              "2   2017-04-08   Piso Muy Luminoso en pleno centro de Madrid   \n",
              "3   2017-04-08              Rent room in the heart of Madrid   \n",
              "4   2017-04-08  Luxury duplex penthouse in historic building   \n",
              "\n",
              "                                             summary  \\\n",
              "0  Room in magnificent property in the historic c...   \n",
              "1  Spacious apartment for up to 10 people, with a...   \n",
              "2  Lugares de interés: Casa Lucio, Cine Doré, Cal...   \n",
              "3                                                NaN   \n",
              "4  Amazing duplex penthouse in a historic buildin...   \n",
              "\n",
              "                                               space  \\\n",
              "0  Based in the historic center of Madrid, to 1 m...   \n",
              "1  This spacious apartment is located in the cent...   \n",
              "2  Lo mejor es su ubicación en pleno centro de Ma...   \n",
              "3  Very nice room , whith private bath , in a bea...   \n",
              "4  It is located in an emblematic building with e...   \n",
              "\n",
              "                                         description experiences_offered  \\\n",
              "0  Room in magnificent property in the historic c...                none   \n",
              "1  Spacious apartment for up to 10 people, with a...                none   \n",
              "2  Lugares de interés: Casa Lucio, Cine Doré, Cal...                none   \n",
              "3  Very nice room , whith private bath , in a bea...                none   \n",
              "4  Amazing duplex penthouse in a historic buildin...                none   \n",
              "\n",
              "                               neighborhood_overview  ... review_scores_value  \\\n",
              "0  In the historic heart of Madrid, near the Plaz...  ...                 9.0   \n",
              "1  The Living Santa Ana Apartments are located in...  ...                 9.0   \n",
              "2  La zona de la Latina es un área cultural y un ...  ...                 9.0   \n",
              "3                                                NaN  ...                10.0   \n",
              "4  \"Madrid de los Austrias \"is a beautiful neighb...  ...                10.0   \n",
              "\n",
              "  requires_license license jurisdiction_names instant_bookable  \\\n",
              "0                t     NaN                NaN                t   \n",
              "1                t     NaN                NaN                t   \n",
              "2                t     NaN                NaN                t   \n",
              "3                t     NaN                NaN                f   \n",
              "4                t     NaN                NaN                f   \n",
              "\n",
              "  cancellation_policy require_guest_profile_picture  \\\n",
              "0            moderate                             f   \n",
              "1            moderate                             f   \n",
              "2              strict                             f   \n",
              "3              strict                             f   \n",
              "4              strict                             f   \n",
              "\n",
              "  require_guest_phone_verification calculated_host_listings_count  \\\n",
              "0                                f                              7   \n",
              "1                                f                              1   \n",
              "2                                f                              1   \n",
              "3                                f                              1   \n",
              "4                                f                             13   \n",
              "\n",
              "   reviews_per_month  \n",
              "0               5.04  \n",
              "1               4.39  \n",
              "2               5.57  \n",
              "3               0.24  \n",
              "4               4.29  \n",
              "\n",
              "[5 rows x 95 columns]"
            ]
          },
          "execution_count": 3,
          "metadata": {},
          "output_type": "execute_result"
        }
      ],
      "source": [
        "df.head()"
      ]
    },
    {
      "cell_type": "code",
      "execution_count": null,
      "metadata": {
        "scrolled": false,
        "id": "aGR4vAKHM2hT",
        "outputId": "ab2988bf-2854-4485-ebab-0137d6941363"
      },
      "outputs": [
        {
          "name": "stdout",
          "output_type": "stream",
          "text": [
            "<class 'pandas.core.frame.DataFrame'>\n",
            "RangeIndex: 13335 entries, 0 to 13334\n",
            "Data columns (total 95 columns):\n",
            " #   Column                            Non-Null Count  Dtype  \n",
            "---  ------                            --------------  -----  \n",
            " 0   id                                13335 non-null  int64  \n",
            " 1   listing_url                       13335 non-null  object \n",
            " 2   scrape_id                         13335 non-null  int64  \n",
            " 3   last_scraped                      13335 non-null  object \n",
            " 4   name                              13335 non-null  object \n",
            " 5   summary                           12846 non-null  object \n",
            " 6   space                             9700 non-null   object \n",
            " 7   description                       13329 non-null  object \n",
            " 8   experiences_offered               13335 non-null  object \n",
            " 9   neighborhood_overview             8308 non-null   object \n",
            " 10  notes                             5037 non-null   object \n",
            " 11  transit                           8264 non-null   object \n",
            " 12  access                            7546 non-null   object \n",
            " 13  interaction                       7523 non-null   object \n",
            " 14  house_rules                       8666 non-null   object \n",
            " 15  thumbnail_url                     10847 non-null  object \n",
            " 16  medium_url                        10847 non-null  object \n",
            " 17  picture_url                       13335 non-null  object \n",
            " 18  xl_picture_url                    10847 non-null  object \n",
            " 19  host_id                           13335 non-null  int64  \n",
            " 20  host_url                          13335 non-null  object \n",
            " 21  host_name                         13332 non-null  object \n",
            " 22  host_since                        13332 non-null  object \n",
            " 23  host_location                     13293 non-null  object \n",
            " 24  host_about                        8282 non-null   object \n",
            " 25  host_response_time                11622 non-null  object \n",
            " 26  host_response_rate                11622 non-null  object \n",
            " 27  host_acceptance_rate              0 non-null      float64\n",
            " 28  host_is_superhost                 13332 non-null  object \n",
            " 29  host_thumbnail_url                13332 non-null  object \n",
            " 30  host_picture_url                  13332 non-null  object \n",
            " 31  host_neighbourhood                9983 non-null   object \n",
            " 32  host_listings_count               13332 non-null  float64\n",
            " 33  host_total_listings_count         13332 non-null  float64\n",
            " 34  host_verifications                13335 non-null  object \n",
            " 35  host_has_profile_pic              13332 non-null  object \n",
            " 36  host_identity_verified            13332 non-null  object \n",
            " 37  street                            13335 non-null  object \n",
            " 38  neighbourhood                     8772 non-null   object \n",
            " 39  neighbourhood_cleansed            13335 non-null  object \n",
            " 40  neighbourhood_group_cleansed      13335 non-null  object \n",
            " 41  city                              13333 non-null  object \n",
            " 42  state                             13292 non-null  object \n",
            " 43  zipcode                           12896 non-null  object \n",
            " 44  market                            13285 non-null  object \n",
            " 45  smart_location                    13335 non-null  object \n",
            " 46  country_code                      13335 non-null  object \n",
            " 47  country                           13334 non-null  object \n",
            " 48  latitude                          13335 non-null  float64\n",
            " 49  longitude                         13335 non-null  float64\n",
            " 50  is_location_exact                 13335 non-null  object \n",
            " 51  property_type                     13335 non-null  object \n",
            " 52  room_type                         13335 non-null  object \n",
            " 53  accommodates                      13335 non-null  int64  \n",
            " 54  bathrooms                         13285 non-null  float64\n",
            " 55  bedrooms                          13312 non-null  float64\n",
            " 56  beds                              13286 non-null  float64\n",
            " 57  bed_type                          13335 non-null  object \n",
            " 58  amenities                         13335 non-null  object \n",
            " 59  square_feet                       522 non-null    float64\n",
            " 60  price                             13335 non-null  object \n",
            " 61  weekly_price                      3512 non-null   object \n",
            " 62  monthly_price                     3324 non-null   object \n",
            " 63  security_deposit                  5731 non-null   object \n",
            " 64  cleaning_fee                      7851 non-null   object \n",
            " 65  guests_included                   13335 non-null  int64  \n",
            " 66  extra_people                      13335 non-null  object \n",
            " 67  minimum_nights                    13335 non-null  int64  \n",
            " 68  maximum_nights                    13335 non-null  int64  \n",
            " 69  calendar_updated                  13335 non-null  object \n",
            " 70  has_availability                  0 non-null      float64\n",
            " 71  availability_30                   13335 non-null  int64  \n",
            " 72  availability_60                   13335 non-null  int64  \n",
            " 73  availability_90                   13335 non-null  int64  \n",
            " 74  availability_365                  13335 non-null  int64  \n",
            " 75  calendar_last_scraped             13335 non-null  object \n",
            " 76  number_of_reviews                 13335 non-null  int64  \n",
            " 77  first_review                      10542 non-null  object \n",
            " 78  last_review                       10541 non-null  object \n",
            " 79  review_scores_rating              10417 non-null  float64\n",
            " 80  review_scores_accuracy            10399 non-null  float64\n",
            " 81  review_scores_cleanliness         10405 non-null  float64\n",
            " 82  review_scores_checkin             10389 non-null  float64\n",
            " 83  review_scores_communication       10405 non-null  float64\n",
            " 84  review_scores_location            10387 non-null  float64\n",
            " 85  review_scores_value               10387 non-null  float64\n",
            " 86  requires_license                  13335 non-null  object \n",
            " 87  license                           249 non-null    object \n",
            " 88  jurisdiction_names                0 non-null      float64\n",
            " 89  instant_bookable                  13335 non-null  object \n",
            " 90  cancellation_policy               13335 non-null  object \n",
            " 91  require_guest_profile_picture     13335 non-null  object \n",
            " 92  require_guest_phone_verification  13335 non-null  object \n",
            " 93  calculated_host_listings_count    13335 non-null  int64  \n",
            " 94  reviews_per_month                 10542 non-null  float64\n",
            "dtypes: float64(19), int64(13), object(63)\n",
            "memory usage: 9.7+ MB\n"
          ]
        }
      ],
      "source": [
        "df.info()"
      ]
    },
    {
      "cell_type": "markdown",
      "metadata": {
        "id": "0c5VIxyIM2hT"
      },
      "source": [
        "Para simplificar el problema vamos a formular el problema del challenge de una manera más concreta:\n",
        "\n",
        "Vamos a intentar predecir el precio:"
      ]
    },
    {
      "cell_type": "code",
      "execution_count": null,
      "metadata": {
        "id": "1ZgYgdWEM2hU"
      },
      "outputs": [],
      "source": [
        "df_y = df['price']"
      ]
    },
    {
      "cell_type": "markdown",
      "metadata": {
        "id": "cw0FQ2h7M2hU"
      },
      "source": [
        "A partir de 5 variables que a priori parecen relevantes para determinar el precio de un alojamiento: `['review_scores_rating', 'room_type', 'property_type', 'bedrooms', 'bathrooms']`\n",
        "\n",
        "Como siempre, si tu quieres considerar otras variables adelante."
      ]
    },
    {
      "cell_type": "code",
      "execution_count": null,
      "metadata": {
        "id": "aUt8QI8kM2hU"
      },
      "outputs": [],
      "source": [
        "df_X = df[['review_scores_rating', 'room_type', 'property_type', 'bedrooms', 'bathrooms' ]]"
      ]
    },
    {
      "cell_type": "code",
      "execution_count": null,
      "metadata": {
        "id": "DLwScJojM2hU",
        "outputId": "ee3b5259-7402-4e7b-fd68-6b8641f71ec0"
      },
      "outputs": [
        {
          "name": "stdout",
          "output_type": "stream",
          "text": [
            "<class 'pandas.core.frame.DataFrame'>\n",
            "RangeIndex: 13335 entries, 0 to 13334\n",
            "Data columns (total 5 columns):\n",
            " #   Column                Non-Null Count  Dtype  \n",
            "---  ------                --------------  -----  \n",
            " 0   review_scores_rating  10417 non-null  float64\n",
            " 1   room_type             13335 non-null  object \n",
            " 2   property_type         13335 non-null  object \n",
            " 3   bedrooms              13312 non-null  float64\n",
            " 4   bathrooms             13285 non-null  float64\n",
            "dtypes: float64(3), object(2)\n",
            "memory usage: 521.0+ KB\n"
          ]
        }
      ],
      "source": [
        "df_X.info()"
      ]
    },
    {
      "cell_type": "markdown",
      "metadata": {
        "id": "OpjYPaQBM2hU"
      },
      "source": [
        "## Preprocesamiento de datos\n",
        "\n",
        "Como siempre, vamos a inspeccionar y estudiar cada variable por separado."
      ]
    },
    {
      "cell_type": "markdown",
      "metadata": {
        "id": "CJ__TedSM2hU"
      },
      "source": [
        "### Price\n",
        "\n",
        "Es la variable de clase. Divide esta variable en 4 rangos (muy bajo, bajo, medio, alto, muy alto) que pienses que son razonables para estudiar esta variable. Como consejo, quizás puedes utilizar los percentiles para hacer esta división.\n",
        "\n",
        "Antes de hacer esta división revisa que esta variable esté codificada como un número, si no lo está la tendrás que convertir previamente.\n",
        "\n",
        "Una vez que tengas la variable transformada, conviértela a un array de numpy para trabajar."
      ]
    },
    {
      "cell_type": "code",
      "execution_count": null,
      "metadata": {
        "id": "48uz19slM2hU",
        "outputId": "b467b23c-fc68-4a5e-8a87-3b5377e00fe4"
      },
      "outputs": [
        {
          "data": {
            "text/plain": [
              "0     $42.00\n",
              "1    $135.00\n",
              "2     $81.00\n",
              "3     $43.00\n",
              "4     $50.00\n",
              "Name: price, dtype: object"
            ]
          },
          "execution_count": 8,
          "metadata": {},
          "output_type": "execute_result"
        }
      ],
      "source": [
        "df_y.head()"
      ]
    },
    {
      "cell_type": "code",
      "execution_count": null,
      "metadata": {
        "id": "dkQn619dM2hV"
      },
      "outputs": [],
      "source": [
        "df_y = df_y.str.replace('$', '')\n",
        "df_y = df_y.str.replace(',', '')\n",
        "df_y = df_y.astype(float)"
      ]
    },
    {
      "cell_type": "code",
      "execution_count": null,
      "metadata": {
        "id": "pIT8swkHM2hV",
        "outputId": "9a4c9004-59bb-42b5-f659-7eeab612010f"
      },
      "outputs": [
        {
          "data": {
            "text/plain": [
              "0     42.0\n",
              "1    135.0\n",
              "2     81.0\n",
              "3     43.0\n",
              "4     50.0\n",
              "Name: price, dtype: float64"
            ]
          },
          "execution_count": 10,
          "metadata": {},
          "output_type": "execute_result"
        }
      ],
      "source": [
        "df_y.head()"
      ]
    },
    {
      "cell_type": "code",
      "execution_count": null,
      "metadata": {
        "scrolled": true,
        "id": "dEU1ysODM2hV"
      },
      "outputs": [],
      "source": [
        "#pd.qcut\n",
        "\n",
        "def classifier(price):\n",
        "    if price <= df_y.quantile(0.25):\n",
        "        return 'Muy bajo'\n",
        "    elif price <= df_y.quantile(0.5):\n",
        "        return 'Bajo'\n",
        "    elif price <= df_y.quantile(0.75):\n",
        "        return 'Alto'\n",
        "    else:\n",
        "        return 'Muy alto'\n",
        "\n",
        "df_y = df_y.apply(classifier)"
      ]
    },
    {
      "cell_type": "code",
      "execution_count": null,
      "metadata": {
        "id": "H6feRjIyM2hV",
        "outputId": "97603fae-ea10-4ff3-d420-6d08226373f6"
      },
      "outputs": [
        {
          "data": {
            "text/plain": [
              "0        Bajo\n",
              "1    Muy alto\n",
              "2    Muy alto\n",
              "3        Bajo\n",
              "4        Bajo\n",
              "Name: price, dtype: object"
            ]
          },
          "execution_count": 12,
          "metadata": {},
          "output_type": "execute_result"
        }
      ],
      "source": [
        "df_y.head()"
      ]
    },
    {
      "cell_type": "markdown",
      "metadata": {
        "id": "HLyEhXOHM2hV"
      },
      "source": [
        "### review_scores_rating\n",
        "\n",
        "Esta variable parece un número. Revisa:\n",
        "\n",
        "* Si tiene nulos o no. Si los tiene trátalos adecuadamente.\n",
        "* Revisa el rango de la variable."
      ]
    },
    {
      "cell_type": "code",
      "execution_count": null,
      "metadata": {
        "scrolled": true,
        "id": "OKo6YCoZM2hV",
        "outputId": "2167b91c-66dc-4a42-cbfb-77e5a8df7561"
      },
      "outputs": [
        {
          "data": {
            "text/plain": [
              "0     92.0\n",
              "1     93.0\n",
              "2     93.0\n",
              "3     98.0\n",
              "4    100.0\n",
              "Name: review_scores_rating, dtype: float64"
            ]
          },
          "execution_count": 13,
          "metadata": {},
          "output_type": "execute_result"
        }
      ],
      "source": [
        "df_X.review_scores_rating.head()"
      ]
    },
    {
      "cell_type": "code",
      "execution_count": null,
      "metadata": {
        "id": "svC9UcD4M2hV"
      },
      "outputs": [],
      "source": [
        "df_X.review_scores_rating[df_X.review_scores_rating.isnull()] = df_X.review_scores_rating.mean()"
      ]
    },
    {
      "cell_type": "code",
      "execution_count": null,
      "metadata": {
        "id": "rE1IAV8VM2hW",
        "outputId": "fb569782-c8df-4555-e254-e35c9e037e61"
      },
      "outputs": [
        {
          "name": "stdout",
          "output_type": "stream",
          "text": [
            "La variable review_rating_score tiene un rango de 80.0\n",
            "Mínimo: 20.0\n",
            "Máximo: 100.0\n"
          ]
        }
      ],
      "source": [
        "rating_max = np.max(df_X.review_scores_rating)\n",
        "rating_min = np.min(df_X.review_scores_rating)\n",
        "rango = rating_max - rating_min\n",
        "\n",
        "print(f'La variable review_rating_score tiene un rango de {rango}\\nMínimo: {rating_min}\\nMáximo: {rating_max}')"
      ]
    },
    {
      "cell_type": "code",
      "execution_count": null,
      "metadata": {
        "id": "lNFE67mFM2hW",
        "outputId": "656a1a2a-0874-4396-9d86-efec334cd1b3"
      },
      "outputs": [
        {
          "data": {
            "text/plain": [
              "False"
            ]
          },
          "execution_count": 16,
          "metadata": {},
          "output_type": "execute_result"
        }
      ],
      "source": [
        "df_X.review_scores_rating.isnull().any()"
      ]
    },
    {
      "cell_type": "markdown",
      "metadata": {
        "id": "pqICe18bM2hW"
      },
      "source": [
        "### room_type\n",
        "\n",
        "Esta variable parece un valor enumerado. Revisa:\n",
        "\n",
        "* Si tiene nulos o no. Si los tiene trátalos adecuadamente.\n",
        "* Si tiene muchos clases distintas piensa en reducirlas.\n",
        "\n",
        "Una vez que esté bien crea variables ficticias a partir de esta."
      ]
    },
    {
      "cell_type": "code",
      "execution_count": null,
      "metadata": {
        "id": "GAGhqTuPM2hW",
        "outputId": "ea849115-3f32-48eb-edfd-a8022a5608d3"
      },
      "outputs": [
        {
          "data": {
            "text/plain": [
              "Entire home/apt    7935\n",
              "Private room       5207\n",
              "Shared room         193\n",
              "Name: room_type, dtype: int64"
            ]
          },
          "execution_count": 17,
          "metadata": {},
          "output_type": "execute_result"
        }
      ],
      "source": [
        "df_X.room_type.value_counts()"
      ]
    },
    {
      "cell_type": "code",
      "execution_count": null,
      "metadata": {
        "id": "clkgGWN0M2hW",
        "outputId": "f6553e74-969b-483d-f329-e288e78c2180"
      },
      "outputs": [
        {
          "data": {
            "text/plain": [
              "False"
            ]
          },
          "execution_count": 18,
          "metadata": {},
          "output_type": "execute_result"
        }
      ],
      "source": [
        "df_X.room_type.isnull().any()"
      ]
    },
    {
      "cell_type": "code",
      "execution_count": null,
      "metadata": {
        "id": "UK0gYyG4M2hW",
        "outputId": "22d43898-53ee-43a1-f04f-eaefad1690c1"
      },
      "outputs": [
        {
          "data": {
            "text/html": [
              "<div>\n",
              "<style scoped>\n",
              "    .dataframe tbody tr th:only-of-type {\n",
              "        vertical-align: middle;\n",
              "    }\n",
              "\n",
              "    .dataframe tbody tr th {\n",
              "        vertical-align: top;\n",
              "    }\n",
              "\n",
              "    .dataframe thead th {\n",
              "        text-align: right;\n",
              "    }\n",
              "</style>\n",
              "<table border=\"1\" class=\"dataframe\">\n",
              "  <thead>\n",
              "    <tr style=\"text-align: right;\">\n",
              "      <th></th>\n",
              "      <th>review_scores_rating</th>\n",
              "      <th>property_type</th>\n",
              "      <th>bedrooms</th>\n",
              "      <th>bathrooms</th>\n",
              "      <th>room_type_Entire home/apt</th>\n",
              "      <th>room_type_Private room</th>\n",
              "      <th>room_type_Shared room</th>\n",
              "    </tr>\n",
              "  </thead>\n",
              "  <tbody>\n",
              "    <tr>\n",
              "      <th>0</th>\n",
              "      <td>92.0</td>\n",
              "      <td>House</td>\n",
              "      <td>1.0</td>\n",
              "      <td>2.0</td>\n",
              "      <td>0</td>\n",
              "      <td>1</td>\n",
              "      <td>0</td>\n",
              "    </tr>\n",
              "    <tr>\n",
              "      <th>1</th>\n",
              "      <td>93.0</td>\n",
              "      <td>Apartment</td>\n",
              "      <td>3.0</td>\n",
              "      <td>1.0</td>\n",
              "      <td>1</td>\n",
              "      <td>0</td>\n",
              "      <td>0</td>\n",
              "    </tr>\n",
              "    <tr>\n",
              "      <th>2</th>\n",
              "      <td>93.0</td>\n",
              "      <td>Apartment</td>\n",
              "      <td>1.0</td>\n",
              "      <td>1.0</td>\n",
              "      <td>1</td>\n",
              "      <td>0</td>\n",
              "      <td>0</td>\n",
              "    </tr>\n",
              "    <tr>\n",
              "      <th>3</th>\n",
              "      <td>98.0</td>\n",
              "      <td>Apartment</td>\n",
              "      <td>1.0</td>\n",
              "      <td>1.0</td>\n",
              "      <td>0</td>\n",
              "      <td>1</td>\n",
              "      <td>0</td>\n",
              "    </tr>\n",
              "    <tr>\n",
              "      <th>4</th>\n",
              "      <td>100.0</td>\n",
              "      <td>Apartment</td>\n",
              "      <td>2.0</td>\n",
              "      <td>1.5</td>\n",
              "      <td>1</td>\n",
              "      <td>0</td>\n",
              "      <td>0</td>\n",
              "    </tr>\n",
              "  </tbody>\n",
              "</table>\n",
              "</div>"
            ],
            "text/plain": [
              "   review_scores_rating property_type  bedrooms  bathrooms  \\\n",
              "0                  92.0         House       1.0        2.0   \n",
              "1                  93.0     Apartment       3.0        1.0   \n",
              "2                  93.0     Apartment       1.0        1.0   \n",
              "3                  98.0     Apartment       1.0        1.0   \n",
              "4                 100.0     Apartment       2.0        1.5   \n",
              "\n",
              "   room_type_Entire home/apt  room_type_Private room  room_type_Shared room  \n",
              "0                          0                       1                      0  \n",
              "1                          1                       0                      0  \n",
              "2                          1                       0                      0  \n",
              "3                          0                       1                      0  \n",
              "4                          1                       0                      0  "
            ]
          },
          "execution_count": 19,
          "metadata": {},
          "output_type": "execute_result"
        }
      ],
      "source": [
        "df_X = pd.get_dummies(df_X, columns=['room_type'])\n",
        "df_X.head()"
      ]
    },
    {
      "cell_type": "markdown",
      "metadata": {
        "id": "Ddn7SFNpM2hW"
      },
      "source": [
        "### property_type\n",
        "\n",
        "Esta variable parece un valor enumerado. Revisa:\n",
        "\n",
        "* Si tiene nulos o no. Si los tiene trátalos adecuadamente.\n",
        "* Si tiene muchos clases distintas piensa en reducirlas.\n",
        "\n",
        "Una vez que esté bien crea variables ficticias a partir de esta."
      ]
    },
    {
      "cell_type": "code",
      "execution_count": null,
      "metadata": {
        "id": "iy7dpMEwM2hW",
        "outputId": "1cee279d-a28b-437d-b7c0-405532423573"
      },
      "outputs": [
        {
          "data": {
            "text/plain": [
              "False"
            ]
          },
          "execution_count": 20,
          "metadata": {},
          "output_type": "execute_result"
        }
      ],
      "source": [
        "df_X.property_type.isnull().any()"
      ]
    },
    {
      "cell_type": "code",
      "execution_count": null,
      "metadata": {
        "scrolled": false,
        "id": "evKoq9-1M2hX",
        "outputId": "ec529d1e-c9ad-4454-de3e-47d234787cc6"
      },
      "outputs": [
        {
          "data": {
            "text/plain": [
              "Apartment             10974\n",
              "House                  1001\n",
              "Condominium             346\n",
              "Bed & Breakfast         339\n",
              "Loft                    285\n",
              "Other                   220\n",
              "Dorm                     44\n",
              "Guesthouse               39\n",
              "Chalet                   24\n",
              "Hostel                   16\n",
              "Serviced apartment       13\n",
              "Townhouse                 9\n",
              "Boutique hotel            6\n",
              "Villa                     4\n",
              "Guest suite               3\n",
              "Casa particular           3\n",
              "Earth House               3\n",
              "Camper/RV                 2\n",
              "Timeshare                 1\n",
              "Bungalow                  1\n",
              "Tent                      1\n",
              "Boat                      1\n",
              "Name: property_type, dtype: int64"
            ]
          },
          "execution_count": 21,
          "metadata": {},
          "output_type": "execute_result"
        }
      ],
      "source": [
        "df_X.property_type.value_counts()"
      ]
    },
    {
      "cell_type": "code",
      "execution_count": null,
      "metadata": {
        "id": "6gMW-ZFtM2hX"
      },
      "outputs": [],
      "source": [
        "def agrupar_clases(x):\n",
        "    if x in ['Apartment', 'House', 'Condominium', 'Bed & Breakfast', 'Loft']:\n",
        "        return 'Residencial'\n",
        "    elif x in ['Dorm', 'Guesthouse', 'Chalet', 'Hostel', 'Serviced apartment', 'Boutique hotel']:\n",
        "        return 'Alojamiento'\n",
        "    else:\n",
        "        return 'Otro'\n",
        "\n",
        "df_X.property_type = df_X.property_type.apply(agrupar_clases)"
      ]
    },
    {
      "cell_type": "code",
      "execution_count": null,
      "metadata": {
        "id": "9j9zKWA_M2hX",
        "outputId": "c7e8b5de-d8ad-437c-9b16-396f30c97c97"
      },
      "outputs": [
        {
          "data": {
            "text/plain": [
              "Residencial    12945\n",
              "Otro             248\n",
              "Alojamiento      142\n",
              "Name: property_type, dtype: int64"
            ]
          },
          "execution_count": 23,
          "metadata": {},
          "output_type": "execute_result"
        }
      ],
      "source": [
        "df_X.property_type.value_counts()"
      ]
    },
    {
      "cell_type": "code",
      "execution_count": null,
      "metadata": {
        "id": "H_p5e2S0M2hX",
        "outputId": "d6632177-1eb9-4b57-8ac1-bde9b057219e"
      },
      "outputs": [
        {
          "data": {
            "text/html": [
              "<div>\n",
              "<style scoped>\n",
              "    .dataframe tbody tr th:only-of-type {\n",
              "        vertical-align: middle;\n",
              "    }\n",
              "\n",
              "    .dataframe tbody tr th {\n",
              "        vertical-align: top;\n",
              "    }\n",
              "\n",
              "    .dataframe thead th {\n",
              "        text-align: right;\n",
              "    }\n",
              "</style>\n",
              "<table border=\"1\" class=\"dataframe\">\n",
              "  <thead>\n",
              "    <tr style=\"text-align: right;\">\n",
              "      <th></th>\n",
              "      <th>review_scores_rating</th>\n",
              "      <th>bedrooms</th>\n",
              "      <th>bathrooms</th>\n",
              "      <th>room_type_Entire home/apt</th>\n",
              "      <th>room_type_Private room</th>\n",
              "      <th>room_type_Shared room</th>\n",
              "      <th>property_type_Alojamiento</th>\n",
              "      <th>property_type_Otro</th>\n",
              "      <th>property_type_Residencial</th>\n",
              "    </tr>\n",
              "  </thead>\n",
              "  <tbody>\n",
              "    <tr>\n",
              "      <th>0</th>\n",
              "      <td>92.0</td>\n",
              "      <td>1.0</td>\n",
              "      <td>2.0</td>\n",
              "      <td>0</td>\n",
              "      <td>1</td>\n",
              "      <td>0</td>\n",
              "      <td>0</td>\n",
              "      <td>0</td>\n",
              "      <td>1</td>\n",
              "    </tr>\n",
              "    <tr>\n",
              "      <th>1</th>\n",
              "      <td>93.0</td>\n",
              "      <td>3.0</td>\n",
              "      <td>1.0</td>\n",
              "      <td>1</td>\n",
              "      <td>0</td>\n",
              "      <td>0</td>\n",
              "      <td>0</td>\n",
              "      <td>0</td>\n",
              "      <td>1</td>\n",
              "    </tr>\n",
              "    <tr>\n",
              "      <th>2</th>\n",
              "      <td>93.0</td>\n",
              "      <td>1.0</td>\n",
              "      <td>1.0</td>\n",
              "      <td>1</td>\n",
              "      <td>0</td>\n",
              "      <td>0</td>\n",
              "      <td>0</td>\n",
              "      <td>0</td>\n",
              "      <td>1</td>\n",
              "    </tr>\n",
              "    <tr>\n",
              "      <th>3</th>\n",
              "      <td>98.0</td>\n",
              "      <td>1.0</td>\n",
              "      <td>1.0</td>\n",
              "      <td>0</td>\n",
              "      <td>1</td>\n",
              "      <td>0</td>\n",
              "      <td>0</td>\n",
              "      <td>0</td>\n",
              "      <td>1</td>\n",
              "    </tr>\n",
              "    <tr>\n",
              "      <th>4</th>\n",
              "      <td>100.0</td>\n",
              "      <td>2.0</td>\n",
              "      <td>1.5</td>\n",
              "      <td>1</td>\n",
              "      <td>0</td>\n",
              "      <td>0</td>\n",
              "      <td>0</td>\n",
              "      <td>0</td>\n",
              "      <td>1</td>\n",
              "    </tr>\n",
              "  </tbody>\n",
              "</table>\n",
              "</div>"
            ],
            "text/plain": [
              "   review_scores_rating  bedrooms  bathrooms  room_type_Entire home/apt  \\\n",
              "0                  92.0       1.0        2.0                          0   \n",
              "1                  93.0       3.0        1.0                          1   \n",
              "2                  93.0       1.0        1.0                          1   \n",
              "3                  98.0       1.0        1.0                          0   \n",
              "4                 100.0       2.0        1.5                          1   \n",
              "\n",
              "   room_type_Private room  room_type_Shared room  property_type_Alojamiento  \\\n",
              "0                       1                      0                          0   \n",
              "1                       0                      0                          0   \n",
              "2                       0                      0                          0   \n",
              "3                       1                      0                          0   \n",
              "4                       0                      0                          0   \n",
              "\n",
              "   property_type_Otro  property_type_Residencial  \n",
              "0                   0                          1  \n",
              "1                   0                          1  \n",
              "2                   0                          1  \n",
              "3                   0                          1  \n",
              "4                   0                          1  "
            ]
          },
          "execution_count": 24,
          "metadata": {},
          "output_type": "execute_result"
        }
      ],
      "source": [
        "df_X = pd.get_dummies(df_X, columns=['property_type'])\n",
        "df_X.head()"
      ]
    },
    {
      "cell_type": "markdown",
      "metadata": {
        "id": "zgEFZaQUM2hX"
      },
      "source": [
        "### bedrooms\n",
        "\n",
        "Esta variable parece un número. Revisa:\n",
        "\n",
        "* Si tiene nulos o no. Si los tiene trátalos adecuadamente.\n",
        "* Revisa el rango de la variable."
      ]
    },
    {
      "cell_type": "code",
      "execution_count": null,
      "metadata": {
        "id": "Y2bWyS_VM2hX",
        "outputId": "cbe3fe92-139c-4f4b-a598-7fde14ab6a9e"
      },
      "outputs": [
        {
          "data": {
            "text/plain": [
              "True"
            ]
          },
          "execution_count": 25,
          "metadata": {},
          "output_type": "execute_result"
        }
      ],
      "source": [
        "df_X.bedrooms.isnull().any()"
      ]
    },
    {
      "cell_type": "code",
      "execution_count": null,
      "metadata": {
        "id": "4ivtJp3gM2hX"
      },
      "outputs": [],
      "source": [
        "df_X.bedrooms[df_X.bedrooms.isnull()] = df_X.bedrooms.mean()"
      ]
    },
    {
      "cell_type": "code",
      "execution_count": null,
      "metadata": {
        "id": "slVXVjRuM2hY",
        "outputId": "f8ec8b25-9219-4ba0-88fb-77c6404e567e"
      },
      "outputs": [
        {
          "data": {
            "text/plain": [
              "False"
            ]
          },
          "execution_count": 27,
          "metadata": {},
          "output_type": "execute_result"
        }
      ],
      "source": [
        "df_X.bedrooms.isnull().any()"
      ]
    },
    {
      "cell_type": "code",
      "execution_count": null,
      "metadata": {
        "id": "FYwF2dcwM2hY",
        "outputId": "73d9eecf-6676-418c-9f91-eeae259b101e"
      },
      "outputs": [
        {
          "name": "stdout",
          "output_type": "stream",
          "text": [
            "La variable bedrooms tiene un rango de 10.0\n",
            "Mínimo: 0.0\n",
            "Máximo: 10.0\n"
          ]
        }
      ],
      "source": [
        "bed_max = np.max(df_X.bedrooms)\n",
        "bed_min = np.min(df_X.bedrooms)\n",
        "rango_bed = bed_max - bed_min\n",
        "\n",
        "print(f'La variable bedrooms tiene un rango de {rango_bed}\\nMínimo: {bed_min}\\nMáximo: {bed_max}')"
      ]
    },
    {
      "cell_type": "markdown",
      "metadata": {
        "id": "cYylNrIOM2hY"
      },
      "source": [
        "### bathrooms\n",
        "\n",
        "Esta variable parece un número. Revisa:\n",
        "\n",
        "* Si tiene nulos o no. Si los tiene trátalos adecuadamente.\n",
        "* Revisa el rango de la variable."
      ]
    },
    {
      "cell_type": "code",
      "execution_count": null,
      "metadata": {
        "id": "hw7Tg9sjM2hY",
        "outputId": "4389eca1-8130-4651-c416-dc98fbce37e6"
      },
      "outputs": [
        {
          "data": {
            "text/plain": [
              "True"
            ]
          },
          "execution_count": 29,
          "metadata": {},
          "output_type": "execute_result"
        }
      ],
      "source": [
        "df_X.bathrooms.isnull().any()"
      ]
    },
    {
      "cell_type": "code",
      "execution_count": null,
      "metadata": {
        "id": "p7SFYvU-M2hZ"
      },
      "outputs": [],
      "source": [
        "df_X.bathrooms[df_X.bathrooms.isnull()] = df_X.bathrooms.mean()"
      ]
    },
    {
      "cell_type": "code",
      "execution_count": null,
      "metadata": {
        "id": "rXknQtL4M2hZ",
        "outputId": "8a410cb8-7af3-4905-eaf3-29505c0ec737"
      },
      "outputs": [
        {
          "data": {
            "text/plain": [
              "False"
            ]
          },
          "execution_count": 31,
          "metadata": {},
          "output_type": "execute_result"
        }
      ],
      "source": [
        "df_X.bathrooms.isnull().any()"
      ]
    },
    {
      "cell_type": "code",
      "execution_count": null,
      "metadata": {
        "id": "g6l6yHpFM2hZ",
        "outputId": "9ca73ab4-cf3a-4e83-d100-eb85fbb8e3ba"
      },
      "outputs": [
        {
          "name": "stdout",
          "output_type": "stream",
          "text": [
            "La variable bedrooms tiene un rango de 8.0\n",
            "Mínimo: 0.0\n",
            "Máximo: 8.0\n"
          ]
        }
      ],
      "source": [
        "bath_max = np.max(df_X.bathrooms)\n",
        "bath_min = np.min(df_X.bathrooms)\n",
        "rango_bath = bath_max - bath_min\n",
        "\n",
        "print(f'La variable bedrooms tiene un rango de {rango_bath}\\nMínimo: {bath_min}\\nMáximo: {bath_max}')"
      ]
    },
    {
      "cell_type": "markdown",
      "metadata": {
        "id": "oxuqYCCPM2hZ"
      },
      "source": [
        "### Chequeos finales y conversión a numpy\n",
        "\n",
        "Una vez que hemos revisado cada variable hacemos algunas comprobaciones finales:"
      ]
    },
    {
      "cell_type": "code",
      "execution_count": null,
      "metadata": {
        "id": "MKZRvf7DM2hZ",
        "outputId": "d7349e0c-6a39-4844-86d0-7c1ded169783"
      },
      "outputs": [
        {
          "data": {
            "text/plain": [
              "review_scores_rating         False\n",
              "bedrooms                     False\n",
              "bathrooms                    False\n",
              "room_type_Entire home/apt    False\n",
              "room_type_Private room       False\n",
              "room_type_Shared room        False\n",
              "property_type_Alojamiento    False\n",
              "property_type_Otro           False\n",
              "property_type_Residencial    False\n",
              "dtype: bool"
            ]
          },
          "execution_count": 33,
          "metadata": {},
          "output_type": "execute_result"
        }
      ],
      "source": [
        "df_X.isnull().any()"
      ]
    },
    {
      "cell_type": "code",
      "execution_count": null,
      "metadata": {
        "id": "XuSKD4EdM2hZ",
        "outputId": "90c77ba8-aaff-45d7-e109-82d39ee39cea"
      },
      "outputs": [
        {
          "data": {
            "text/html": [
              "<div>\n",
              "<style scoped>\n",
              "    .dataframe tbody tr th:only-of-type {\n",
              "        vertical-align: middle;\n",
              "    }\n",
              "\n",
              "    .dataframe tbody tr th {\n",
              "        vertical-align: top;\n",
              "    }\n",
              "\n",
              "    .dataframe thead th {\n",
              "        text-align: right;\n",
              "    }\n",
              "</style>\n",
              "<table border=\"1\" class=\"dataframe\">\n",
              "  <thead>\n",
              "    <tr style=\"text-align: right;\">\n",
              "      <th></th>\n",
              "      <th>review_scores_rating</th>\n",
              "      <th>bedrooms</th>\n",
              "      <th>bathrooms</th>\n",
              "      <th>room_type_Entire home/apt</th>\n",
              "      <th>room_type_Private room</th>\n",
              "      <th>room_type_Shared room</th>\n",
              "      <th>property_type_Alojamiento</th>\n",
              "      <th>property_type_Otro</th>\n",
              "      <th>property_type_Residencial</th>\n",
              "    </tr>\n",
              "  </thead>\n",
              "  <tbody>\n",
              "    <tr>\n",
              "      <th>13330</th>\n",
              "      <td>97.00000</td>\n",
              "      <td>2.0</td>\n",
              "      <td>1.0</td>\n",
              "      <td>0</td>\n",
              "      <td>1</td>\n",
              "      <td>0</td>\n",
              "      <td>0</td>\n",
              "      <td>0</td>\n",
              "      <td>1</td>\n",
              "    </tr>\n",
              "    <tr>\n",
              "      <th>13331</th>\n",
              "      <td>100.00000</td>\n",
              "      <td>1.0</td>\n",
              "      <td>1.0</td>\n",
              "      <td>0</td>\n",
              "      <td>1</td>\n",
              "      <td>0</td>\n",
              "      <td>0</td>\n",
              "      <td>0</td>\n",
              "      <td>1</td>\n",
              "    </tr>\n",
              "    <tr>\n",
              "      <th>13332</th>\n",
              "      <td>91.62062</td>\n",
              "      <td>1.0</td>\n",
              "      <td>1.0</td>\n",
              "      <td>0</td>\n",
              "      <td>1</td>\n",
              "      <td>0</td>\n",
              "      <td>0</td>\n",
              "      <td>0</td>\n",
              "      <td>1</td>\n",
              "    </tr>\n",
              "    <tr>\n",
              "      <th>13333</th>\n",
              "      <td>100.00000</td>\n",
              "      <td>1.0</td>\n",
              "      <td>1.0</td>\n",
              "      <td>1</td>\n",
              "      <td>0</td>\n",
              "      <td>0</td>\n",
              "      <td>0</td>\n",
              "      <td>0</td>\n",
              "      <td>1</td>\n",
              "    </tr>\n",
              "    <tr>\n",
              "      <th>13334</th>\n",
              "      <td>91.62062</td>\n",
              "      <td>1.0</td>\n",
              "      <td>1.0</td>\n",
              "      <td>0</td>\n",
              "      <td>1</td>\n",
              "      <td>0</td>\n",
              "      <td>0</td>\n",
              "      <td>0</td>\n",
              "      <td>1</td>\n",
              "    </tr>\n",
              "  </tbody>\n",
              "</table>\n",
              "</div>"
            ],
            "text/plain": [
              "       review_scores_rating  bedrooms  bathrooms  room_type_Entire home/apt  \\\n",
              "13330              97.00000       2.0        1.0                          0   \n",
              "13331             100.00000       1.0        1.0                          0   \n",
              "13332              91.62062       1.0        1.0                          0   \n",
              "13333             100.00000       1.0        1.0                          1   \n",
              "13334              91.62062       1.0        1.0                          0   \n",
              "\n",
              "       room_type_Private room  room_type_Shared room  \\\n",
              "13330                       1                      0   \n",
              "13331                       1                      0   \n",
              "13332                       1                      0   \n",
              "13333                       0                      0   \n",
              "13334                       1                      0   \n",
              "\n",
              "       property_type_Alojamiento  property_type_Otro  \\\n",
              "13330                          0                   0   \n",
              "13331                          0                   0   \n",
              "13332                          0                   0   \n",
              "13333                          0                   0   \n",
              "13334                          0                   0   \n",
              "\n",
              "       property_type_Residencial  \n",
              "13330                          1  \n",
              "13331                          1  \n",
              "13332                          1  \n",
              "13333                          1  \n",
              "13334                          1  "
            ]
          },
          "execution_count": 34,
          "metadata": {},
          "output_type": "execute_result"
        }
      ],
      "source": [
        "df_X.tail()"
      ]
    },
    {
      "cell_type": "markdown",
      "metadata": {
        "id": "c4EVhNikM2hZ"
      },
      "source": [
        "Y convertimos a un array de `numpy`:"
      ]
    },
    {
      "cell_type": "code",
      "execution_count": null,
      "metadata": {
        "id": "bsv99IlyM2hZ"
      },
      "outputs": [],
      "source": [
        "dataset_X = np.array(df_X)"
      ]
    },
    {
      "cell_type": "code",
      "execution_count": null,
      "metadata": {
        "id": "QEXZIHQTM2ha",
        "outputId": "62614de1-4120-466f-c60a-ffe491899aaf"
      },
      "outputs": [
        {
          "data": {
            "text/plain": [
              "(13335, 9)"
            ]
          },
          "execution_count": 36,
          "metadata": {},
          "output_type": "execute_result"
        }
      ],
      "source": [
        "dataset_X.shape"
      ]
    },
    {
      "cell_type": "code",
      "execution_count": null,
      "metadata": {
        "id": "V4cB-PdKM2ha",
        "outputId": "8e4dc0a9-c400-4d24-cb71-6be82d9602c1"
      },
      "outputs": [
        {
          "data": {
            "text/plain": [
              "array([[ 92.        ,   1.        ,   2.        , ...,   0.        ,\n",
              "          0.        ,   1.        ],\n",
              "       [ 93.        ,   3.        ,   1.        , ...,   0.        ,\n",
              "          0.        ,   1.        ],\n",
              "       [ 93.        ,   1.        ,   1.        , ...,   0.        ,\n",
              "          0.        ,   1.        ],\n",
              "       ...,\n",
              "       [ 91.62062014,   1.        ,   1.        , ...,   0.        ,\n",
              "          0.        ,   1.        ],\n",
              "       [100.        ,   1.        ,   1.        , ...,   0.        ,\n",
              "          0.        ,   1.        ],\n",
              "       [ 91.62062014,   1.        ,   1.        , ...,   0.        ,\n",
              "          0.        ,   1.        ]])"
            ]
          },
          "execution_count": 37,
          "metadata": {},
          "output_type": "execute_result"
        }
      ],
      "source": [
        "dataset_X"
      ]
    },
    {
      "cell_type": "markdown",
      "metadata": {
        "id": "CI775tA0M2ha"
      },
      "source": [
        "## Conjunto de entrenamiento y test\n",
        "\n",
        "Crea un conjunto de entrenamiento y test con una proporción del 30%."
      ]
    },
    {
      "cell_type": "code",
      "execution_count": null,
      "metadata": {
        "id": "My_YJd1FM2ha"
      },
      "outputs": [],
      "source": [
        "from sklearn.model_selection import train_test_split\n",
        "\n",
        "X_train, X_test, y_train, y_test = train_test_split(dataset_X, df_y, test_size=.3, random_state=123)"
      ]
    },
    {
      "cell_type": "markdown",
      "metadata": {
        "id": "QOtCp_9JM2ha"
      },
      "source": [
        "## Entrenamiento y clasificación\n",
        "\n",
        "Utiliza un RandomForest como algoritmo de clasificación y entrena el modelo."
      ]
    },
    {
      "cell_type": "code",
      "execution_count": null,
      "metadata": {
        "id": "m7_ix5CeM2ha"
      },
      "outputs": [],
      "source": [
        "from sklearn.ensemble import RandomForestClassifier\n",
        "random_forest = RandomForestClassifier(random_state=123)"
      ]
    },
    {
      "cell_type": "code",
      "execution_count": null,
      "metadata": {
        "id": "I04B3ucHM2ha",
        "outputId": "5c53b8bf-b77d-4078-f74c-aa5a5868852d"
      },
      "outputs": [
        {
          "data": {
            "text/plain": [
              "RandomForestClassifier(random_state=123)"
            ]
          },
          "execution_count": 40,
          "metadata": {},
          "output_type": "execute_result"
        }
      ],
      "source": [
        "random_forest.fit(X_train, y_train)"
      ]
    },
    {
      "cell_type": "markdown",
      "metadata": {
        "id": "tGWwn2MsM2ha"
      },
      "source": [
        "## Evalua el modelo\n",
        "\n",
        "Calcula score, ROC y matriz de confusión"
      ]
    },
    {
      "cell_type": "code",
      "execution_count": null,
      "metadata": {
        "id": "YiyG4dpZM2hb"
      },
      "outputs": [],
      "source": [
        "y_hat = random_forest.predict(X_test)"
      ]
    },
    {
      "cell_type": "code",
      "execution_count": null,
      "metadata": {
        "id": "mx3arj5cM2hb",
        "outputId": "3c02f659-2c87-43c6-fdf3-9ca26feb1380"
      },
      "outputs": [
        {
          "data": {
            "text/plain": [
              "0.5816045988502875"
            ]
          },
          "execution_count": 42,
          "metadata": {},
          "output_type": "execute_result"
        }
      ],
      "source": [
        "random_forest.score(X_test, y_test)"
      ]
    },
    {
      "cell_type": "markdown",
      "metadata": {
        "id": "ovK6AZ6KM2hb"
      },
      "source": [
        "Calculamos diferentes métricas para evaluar al modelo:"
      ]
    },
    {
      "cell_type": "code",
      "execution_count": null,
      "metadata": {
        "id": "nWwOCFs7M2hb",
        "outputId": "e097f2d2-b221-45ca-8faf-accfde392463"
      },
      "outputs": [
        {
          "name": "stdout",
          "output_type": "stream",
          "text": [
            "Accuracy: 0.5816045988502875\n",
            "Precision_score: 0.5611449908426588\n",
            "Recall_score: 0.5816045988502875\n",
            "F1_score: 0.5344433047957241\n"
          ]
        }
      ],
      "source": [
        "accu = accuracy_score(y_test, y_hat)\n",
        "prec = precision_score(y_test, y_hat, average='weighted')\n",
        "recall = recall_score(y_test, y_hat, average='weighted')\n",
        "f1 = f1_score(y_test, y_hat, average='weighted')\n",
        "\n",
        "print(f'Accuracy: {accu}\\nPrecision_score: {prec}\\nRecall_score: {recall}\\nF1_score: {f1}')"
      ]
    },
    {
      "cell_type": "code",
      "execution_count": null,
      "metadata": {
        "scrolled": false,
        "id": "JWwZliJrM2hb",
        "outputId": "ee38e225-3887-4d87-8c75-2b93e522e308"
      },
      "outputs": [
        {
          "data": {
            "image/png": "[encoded data removed]",
            "text/plain": [
              "<Figure size 432x288 with 1 Axes>"
            ]
          },
          "metadata": {
            "needs_background": "light"
          },
          "output_type": "display_data"
        }
      ],
      "source": [
        "import scikitplot as skplt\n",
        "import matplotlib.pyplot as plt\n",
        "\n",
        "skplt.metrics.plot_roc(y_test, random_forest.predict_proba(X_test))\n",
        "plt.show()"
      ]
    },
    {
      "cell_type": "code",
      "execution_count": null,
      "metadata": {
        "id": "eS20iFw3M2hb",
        "outputId": "b3d99258-e17a-4266-f1bd-3e11ddf30813"
      },
      "outputs": [
        {
          "data": {
            "text/plain": [
              "array([[628,  74, 266,  73],\n",
              "       [303, 122, 109, 471],\n",
              "       [247,  17, 632,  47],\n",
              "       [ 23,  37,   7, 945]], dtype=int64)"
            ]
          },
          "execution_count": 44,
          "metadata": {},
          "output_type": "execute_result"
        }
      ],
      "source": [
        "confusion_matrix(y_test, y_hat)"
      ]
    },
    {
      "cell_type": "code",
      "execution_count": null,
      "metadata": {
        "id": "TEUyaZn1M2hb",
        "outputId": "8f2e10e1-3748-46ec-9778-1c2ab4298610"
      },
      "outputs": [
        {
          "data": {
            "image/png": "[encoded data removed]",
            "text/plain": [
              "<Figure size 432x288 with 2 Axes>"
            ]
          },
          "metadata": {
            "needs_background": "light"
          },
          "output_type": "display_data"
        }
      ],
      "source": [
        "plt.imshow(confusion_matrix(y_test, y_hat), cmap=\"Greens\")\n",
        "plt.colorbar(shrink=0.8)\n",
        "plt.xticks(range(4))\n",
        "plt.yticks(range(4))\n",
        "plt.xlabel(\"Clase predicha\")\n",
        "plt.ylabel(\"Clase real\");"
      ]
    },
    {
      "cell_type": "markdown",
      "metadata": {
        "id": "jD2IlDbjM2hc"
      },
      "source": [
        "### Preguntas\n",
        "\n",
        "* ¿Consideras que los resultados son buenos o malos?\n",
        "\n",
        "Debido a los resultados que suelen obtenerse en estos modelos, se puede decir que basándonos en las métricas de evaluación el modelo ofrece buenos resultados.\n",
        "* Qué podemos hacer para mejorarlo?\n",
        "\n",
        "Podría utilizarse el método grid search con la finalidad de encontrar los hiperparámetros óptimos para nuestro y ver si mejora los resultados."
      ]
    },
    {
      "cell_type": "markdown",
      "metadata": {
        "id": "5SArWXKVM2hc"
      },
      "source": [
        "## Método Grid Search  "
      ]
    },
    {
      "cell_type": "code",
      "execution_count": null,
      "metadata": {
        "id": "q5SqQXSJM2hc",
        "outputId": "4019c5ee-cdd5-4190-fb6c-11b05b770ec2"
      },
      "outputs": [
        {
          "name": "stdout",
          "output_type": "stream",
          "text": [
            "Best parameters: {'max_depth': 10, 'max_features': 'sqrt', 'min_samples_leaf': 1, 'min_samples_split': 2, 'n_estimators': 100}\n",
            "Best accuracy: 0.5747787917982032\n",
            "Test accuracy: 0.5833541614596351\n"
          ]
        }
      ],
      "source": [
        "from sklearn.model_selection import GridSearchCV\n",
        "\n",
        "rfc = RandomForestClassifier(random_state=123)\n",
        "\n",
        "param_grid = {\n",
        "    'n_estimators': [100, 300, 500],\n",
        "    'max_depth': [None, 10, 20],\n",
        "    'max_features': ['sqrt', 'log2'],\n",
        "    'min_samples_split': [2, 5, 10],\n",
        "    'min_samples_leaf': [1, 2, 4]\n",
        "}\n",
        "\n",
        "grid_search = GridSearchCV(estimator=rfc, param_grid=param_grid, cv=5, scoring='accuracy')\n",
        "\n",
        "grid_search.fit(X_train, y_train)\n",
        "\n",
        "# Obtener los mejores parámetros y puntuaciones\n",
        "best_params = grid_search.best_params_\n",
        "best_score = grid_search.best_score_\n",
        "\n",
        "# Imprimir los mejores parámetros y puntuaciones\n",
        "print(f'Best parameters: {best_params}')\n",
        "print(f'Best accuracy: {best_score}')\n",
        "\n",
        "# Obtener la precisión del modelo optimizado\n",
        "best_model = grid_search.best_estimator_\n",
        "y_pred = best_model.predict(X_test)\n",
        "test_accuracy = accuracy_score(y_test, y_pred)\n",
        "print(f'Test accuracy: {test_accuracy}')"
      ]
    },
    {
      "cell_type": "markdown",
      "metadata": {
        "id": "L5Qh48_rM2hc"
      },
      "source": [
        "Observamos que el modelo con los parametros optimizados mejora minimamente los resultados."
      ]
    },
    {
      "cell_type": "code",
      "execution_count": null,
      "metadata": {
        "id": "Eb9HVGT0M2hc"
      },
      "outputs": [],
      "source": []
    }
  ],
  "metadata": {
    "anaconda-cloud": {},
    "kernelspec": {
      "display_name": "Python 3 (ipykernel)",
      "language": "python",
      "name": "python3"
    },
    "language_info": {
      "codemirror_mode": {
        "name": "ipython",
        "version": 3
      },
      "file_extension": ".py",
      "mimetype": "text/x-python",
      "name": "python",
      "nbconvert_exporter": "python",
      "pygments_lexer": "ipython3",
      "version": "3.9.12"
    },
    "colab": {
      "provenance": [],
      "include_colab_link": true
    }
  },
  "nbformat": 4,
  "nbformat_minor": 0
}