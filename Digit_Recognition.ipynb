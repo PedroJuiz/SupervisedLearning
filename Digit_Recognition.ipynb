{
  "cells": [
    {
      "cell_type": "markdown",
      "metadata": {
        "id": "view-in-github",
        "colab_type": "text"
      },
      "source": [
        "<a href=\"https://colab.research.google.com/github/PedroJuiz/SupervisedLearning/blob/main/Digit_Recognition.ipynb\" target=\"_parent\"><img src=\"https://colab.research.google.com/assets/colab-badge.svg\" alt=\"Open In Colab\"/></a>"
      ]
    },
    {
      "cell_type": "code",
      "execution_count": null,
      "metadata": {
        "id": "oh5HG2PfLyY1",
        "outputId": "104fec0e-352d-4019-b6fa-27028e23ffe6"
      },
      "outputs": [
        {
          "data": {
            "text/html": [
              "<style>\n",
              "\n",
              "h1 {\n",
              "\n",
              "    font-size: 32px;\n",
              "\n",
              "    font-weight: 500;\n",
              "\n",
              "}\n",
              "\n",
              "\n",
              "\n",
              "h2 {\n",
              "\n",
              "    background-color: #009fdf;\n",
              "\n",
              "    color: white;\n",
              "\n",
              "    padding: 20px;\n",
              "\n",
              "    border-radius: 5px;\n",
              "\n",
              "    font-size: 28px;\n",
              "\n",
              "    font-weight: 500;\n",
              "\n",
              "}\n",
              "\n",
              "\n",
              "\n",
              "\n",
              "\n",
              "pre.code {\n",
              "\n",
              "  background-color:#efefef;\n",
              "\n",
              "  padding: 20px;\n",
              "\n",
              "  border: 1px solid #dedede;\n",
              "\n",
              "}\n",
              "\n",
              "</style>\n"
            ],
            "text/plain": [
              "<IPython.core.display.HTML object>"
            ]
          },
          "execution_count": 1,
          "metadata": {},
          "output_type": "execute_result"
        }
      ],
      "source": [
        "from IPython.core.display import HTML\n",
        "HTML(\"\\n\".join(open('mioti_style.css', 'r').readlines()))"
      ]
    },
    {
      "cell_type": "markdown",
      "metadata": {
        "id": "lwu2QCKLLyY3"
      },
      "source": [
        "<img src=\"mioti.png\" style=\"height: 100px\">\n",
        "<center style=\"color:#888\">Módulo Data Science in IoT<br/>Asignatura Machine Learning</center>\n",
        "# Challenge S2: Reconocimiento de dígitos"
      ]
    },
    {
      "cell_type": "markdown",
      "metadata": {
        "id": "kTNN0SyvLyY4"
      },
      "source": [
        "## Objetivo\n",
        "\n",
        "Nuestro objetivo en este challenge es implementar un mecanismo automático que a partir de una imagen de un cheque sea capaz de reconocer la cantidad manuscrita que hay en el mismo.\n",
        "\n",
        "<img src=\"cheque.jpg\">\n",
        "\n",
        "Para ello trabajaremos con un dataset abierto denominado `digits` que contiene dígitos manuscritos etiquetados."
      ]
    },
    {
      "cell_type": "markdown",
      "metadata": {
        "id": "MGXqUWdYLyY5"
      },
      "source": [
        "## Configuración del entorno"
      ]
    },
    {
      "cell_type": "code",
      "execution_count": null,
      "metadata": {
        "id": "pGXbgviPLyY5"
      },
      "outputs": [],
      "source": [
        "%matplotlib inline\n",
        "\n",
        "import warnings\n",
        "warnings.filterwarnings(\"ignore\")\n",
        "\n",
        "import numpy as np\n",
        "import pandas as pd\n",
        "import matplotlib.pyplot as plt\n",
        "\n",
        "from sklearn.metrics import confusion_matrix"
      ]
    },
    {
      "cell_type": "markdown",
      "metadata": {
        "collapsed": true,
        "id": "3_NsD13SLyY5"
      },
      "source": [
        "## Carga de datos\n",
        "\n",
        "En esta ocasión vamos a utilizar una dataset denominado 'digits' que contiene imágenes de números manuscritos.\n",
        "\n",
        "Este dataset está disponible dentro de los datasets de `sklearn` y podemos cargarlo en memoria de la siguiente manera:"
      ]
    },
    {
      "cell_type": "code",
      "execution_count": null,
      "metadata": {
        "id": "4jPni7-YLyY6"
      },
      "outputs": [],
      "source": [
        "from sklearn.datasets import load_digits\n",
        "digits = load_digits()"
      ]
    },
    {
      "cell_type": "code",
      "execution_count": null,
      "metadata": {
        "id": "PfjOj5CmLyY6",
        "outputId": "bf63e141-0088-41a0-e44e-b49f855969e1"
      },
      "outputs": [
        {
          "name": "stdout",
          "output_type": "stream",
          "text": [
            "{'data': array([[ 0.,  0.,  5., ...,  0.,  0.,  0.],\n",
            "       [ 0.,  0.,  0., ..., 10.,  0.,  0.],\n",
            "       [ 0.,  0.,  0., ..., 16.,  9.,  0.],\n",
            "       ...,\n",
            "       [ 0.,  0.,  1., ...,  6.,  0.,  0.],\n",
            "       [ 0.,  0.,  2., ..., 12.,  0.,  0.],\n",
            "       [ 0.,  0., 10., ..., 12.,  1.,  0.]]), 'target': array([0, 1, 2, ..., 8, 9, 8]), 'frame': None, 'feature_names': ['pixel_0_0', 'pixel_0_1', 'pixel_0_2', 'pixel_0_3', 'pixel_0_4', 'pixel_0_5', 'pixel_0_6', 'pixel_0_7', 'pixel_1_0', 'pixel_1_1', 'pixel_1_2', 'pixel_1_3', 'pixel_1_4', 'pixel_1_5', 'pixel_1_6', 'pixel_1_7', 'pixel_2_0', 'pixel_2_1', 'pixel_2_2', 'pixel_2_3', 'pixel_2_4', 'pixel_2_5', 'pixel_2_6', 'pixel_2_7', 'pixel_3_0', 'pixel_3_1', 'pixel_3_2', 'pixel_3_3', 'pixel_3_4', 'pixel_3_5', 'pixel_3_6', 'pixel_3_7', 'pixel_4_0', 'pixel_4_1', 'pixel_4_2', 'pixel_4_3', 'pixel_4_4', 'pixel_4_5', 'pixel_4_6', 'pixel_4_7', 'pixel_5_0', 'pixel_5_1', 'pixel_5_2', 'pixel_5_3', 'pixel_5_4', 'pixel_5_5', 'pixel_5_6', 'pixel_5_7', 'pixel_6_0', 'pixel_6_1', 'pixel_6_2', 'pixel_6_3', 'pixel_6_4', 'pixel_6_5', 'pixel_6_6', 'pixel_6_7', 'pixel_7_0', 'pixel_7_1', 'pixel_7_2', 'pixel_7_3', 'pixel_7_4', 'pixel_7_5', 'pixel_7_6', 'pixel_7_7'], 'target_names': array([0, 1, 2, 3, 4, 5, 6, 7, 8, 9]), 'images': array([[[ 0.,  0.,  5., ...,  1.,  0.,  0.],\n",
            "        [ 0.,  0., 13., ..., 15.,  5.,  0.],\n",
            "        [ 0.,  3., 15., ..., 11.,  8.,  0.],\n",
            "        ...,\n",
            "        [ 0.,  4., 11., ..., 12.,  7.,  0.],\n",
            "        [ 0.,  2., 14., ..., 12.,  0.,  0.],\n",
            "        [ 0.,  0.,  6., ...,  0.,  0.,  0.]],\n",
            "\n",
            "       [[ 0.,  0.,  0., ...,  5.,  0.,  0.],\n",
            "        [ 0.,  0.,  0., ...,  9.,  0.,  0.],\n",
            "        [ 0.,  0.,  3., ...,  6.,  0.,  0.],\n",
            "        ...,\n",
            "        [ 0.,  0.,  1., ...,  6.,  0.,  0.],\n",
            "        [ 0.,  0.,  1., ...,  6.,  0.,  0.],\n",
            "        [ 0.,  0.,  0., ..., 10.,  0.,  0.]],\n",
            "\n",
            "       [[ 0.,  0.,  0., ..., 12.,  0.,  0.],\n",
            "        [ 0.,  0.,  3., ..., 14.,  0.,  0.],\n",
            "        [ 0.,  0.,  8., ..., 16.,  0.,  0.],\n",
            "        ...,\n",
            "        [ 0.,  9., 16., ...,  0.,  0.,  0.],\n",
            "        [ 0.,  3., 13., ..., 11.,  5.,  0.],\n",
            "        [ 0.,  0.,  0., ..., 16.,  9.,  0.]],\n",
            "\n",
            "       ...,\n",
            "\n",
            "       [[ 0.,  0.,  1., ...,  1.,  0.,  0.],\n",
            "        [ 0.,  0., 13., ...,  2.,  1.,  0.],\n",
            "        [ 0.,  0., 16., ..., 16.,  5.,  0.],\n",
            "        ...,\n",
            "        [ 0.,  0., 16., ..., 15.,  0.,  0.],\n",
            "        [ 0.,  0., 15., ..., 16.,  0.,  0.],\n",
            "        [ 0.,  0.,  2., ...,  6.,  0.,  0.]],\n",
            "\n",
            "       [[ 0.,  0.,  2., ...,  0.,  0.,  0.],\n",
            "        [ 0.,  0., 14., ..., 15.,  1.,  0.],\n",
            "        [ 0.,  4., 16., ..., 16.,  7.,  0.],\n",
            "        ...,\n",
            "        [ 0.,  0.,  0., ..., 16.,  2.,  0.],\n",
            "        [ 0.,  0.,  4., ..., 16.,  2.,  0.],\n",
            "        [ 0.,  0.,  5., ..., 12.,  0.,  0.]],\n",
            "\n",
            "       [[ 0.,  0., 10., ...,  1.,  0.,  0.],\n",
            "        [ 0.,  2., 16., ...,  1.,  0.,  0.],\n",
            "        [ 0.,  0., 15., ..., 15.,  0.,  0.],\n",
            "        ...,\n",
            "        [ 0.,  4., 16., ..., 16.,  6.,  0.],\n",
            "        [ 0.,  8., 16., ..., 16.,  8.,  0.],\n",
            "        [ 0.,  1.,  8., ..., 12.,  1.,  0.]]]), 'DESCR': \".. _digits_dataset:\\n\\nOptical recognition of handwritten digits dataset\\n--------------------------------------------------\\n\\n**Data Set Characteristics:**\\n\\n    :Number of Instances: 1797\\n    :Number of Attributes: 64\\n    :Attribute Information: 8x8 image of integer pixels in the range 0..16.\\n    :Missing Attribute Values: None\\n    :Creator: E. Alpaydin (alpaydin '@' boun.edu.tr)\\n    :Date: July; 1998\\n\\nThis is a copy of the test set of the UCI ML hand-written digits datasets\\nhttps://archive.ics.uci.edu/ml/datasets/Optical+Recognition+of+Handwritten+Digits\\n\\nThe data set contains images of hand-written digits: 10 classes where\\neach class refers to a digit.\\n\\nPreprocessing programs made available by NIST were used to extract\\nnormalized bitmaps of handwritten digits from a preprinted form. From a\\ntotal of 43 people, 30 contributed to the training set and different 13\\nto the test set. 32x32 bitmaps are divided into nonoverlapping blocks of\\n4x4 and the number of on pixels are counted in each block. This generates\\nan input matrix of 8x8 where each element is an integer in the range\\n0..16. This reduces dimensionality and gives invariance to small\\ndistortions.\\n\\nFor info on NIST preprocessing routines, see M. D. Garris, J. L. Blue, G.\\nT. Candela, D. L. Dimmick, J. Geist, P. J. Grother, S. A. Janet, and C.\\nL. Wilson, NIST Form-Based Handprint Recognition System, NISTIR 5469,\\n1994.\\n\\n.. topic:: References\\n\\n  - C. Kaynak (1995) Methods of Combining Multiple Classifiers and Their\\n    Applications to Handwritten Digit Recognition, MSc Thesis, Institute of\\n    Graduate Studies in Science and Engineering, Bogazici University.\\n  - E. Alpaydin, C. Kaynak (1998) Cascading Classifiers, Kybernetika.\\n  - Ken Tang and Ponnuthurai N. Suganthan and Xi Yao and A. Kai Qin.\\n    Linear dimensionalityreduction using relevance weighted LDA. School of\\n    Electrical and Electronic Engineering Nanyang Technological University.\\n    2005.\\n  - Claudio Gentile. A New Approximate Maximal Margin Classification\\n    Algorithm. NIPS. 2000.\\n\"}\n"
          ]
        }
      ],
      "source": [
        "print(digits)"
      ]
    },
    {
      "cell_type": "markdown",
      "metadata": {
        "id": "4A32Xj4oLyY7"
      },
      "source": [
        "Inspeccionando el dataset podemos ver que es un diccionario. Vamos a navegar un poco en sus propiedades:"
      ]
    },
    {
      "cell_type": "code",
      "execution_count": null,
      "metadata": {
        "id": "rGxHIitULyY7",
        "outputId": "cf16e891-d26f-4ca1-9d1e-2d6d8f0acfe0"
      },
      "outputs": [
        {
          "data": {
            "text/plain": [
              "dict_keys(['data', 'target', 'frame', 'feature_names', 'target_names', 'images', 'DESCR'])"
            ]
          },
          "execution_count": 5,
          "metadata": {},
          "output_type": "execute_result"
        }
      ],
      "source": [
        "digits.keys()"
      ]
    },
    {
      "cell_type": "markdown",
      "metadata": {
        "id": "1zKBMACQLyY7"
      },
      "source": [
        "En la etiqueta `DESCR` tenemos la descripción del dataset:"
      ]
    },
    {
      "cell_type": "code",
      "execution_count": null,
      "metadata": {
        "id": "f0QQaNrvLyY7",
        "outputId": "b3889319-6f4c-4646-9277-d2a6a7011b0a"
      },
      "outputs": [
        {
          "name": "stdout",
          "output_type": "stream",
          "text": [
            ".. _digits_dataset:\n",
            "\n",
            "Optical recognition of handwritten digits dataset\n",
            "--------------------------------------------------\n",
            "\n",
            "**Data Set Characteristics:**\n",
            "\n",
            "    :Number of Instances: 1797\n",
            "    :Number of Attributes: 64\n",
            "    :Attribute Information: 8x8 image of integer pixels in the range 0..16.\n",
            "    :Missing Attribute Values: None\n",
            "    :Creator: E. Alpaydin (alpaydin '@' boun.edu.tr)\n",
            "    :Date: July; 1998\n",
            "\n",
            "This is a copy of the test set of the UCI ML hand-written digits datasets\n",
            "https://archive.ics.uci.edu/ml/datasets/Optical+Recognition+of+Handwritten+Digits\n",
            "\n",
            "The data set contains images of hand-written digits: 10 classes where\n",
            "each class refers to a digit.\n",
            "\n",
            "Preprocessing programs made available by NIST were used to extract\n",
            "normalized bitmaps of handwritten digits from a preprinted form. From a\n",
            "total of 43 people, 30 contributed to the training set and different 13\n",
            "to the test set. 32x32 bitmaps are divided into nonoverlapping blocks of\n",
            "4x4 and the number of on pixels are counted in each block. This generates\n",
            "an input matrix of 8x8 where each element is an integer in the range\n",
            "0..16. This reduces dimensionality and gives invariance to small\n",
            "distortions.\n",
            "\n",
            "For info on NIST preprocessing routines, see M. D. Garris, J. L. Blue, G.\n",
            "T. Candela, D. L. Dimmick, J. Geist, P. J. Grother, S. A. Janet, and C.\n",
            "L. Wilson, NIST Form-Based Handprint Recognition System, NISTIR 5469,\n",
            "1994.\n",
            "\n",
            ".. topic:: References\n",
            "\n",
            "  - C. Kaynak (1995) Methods of Combining Multiple Classifiers and Their\n",
            "    Applications to Handwritten Digit Recognition, MSc Thesis, Institute of\n",
            "    Graduate Studies in Science and Engineering, Bogazici University.\n",
            "  - E. Alpaydin, C. Kaynak (1998) Cascading Classifiers, Kybernetika.\n",
            "  - Ken Tang and Ponnuthurai N. Suganthan and Xi Yao and A. Kai Qin.\n",
            "    Linear dimensionalityreduction using relevance weighted LDA. School of\n",
            "    Electrical and Electronic Engineering Nanyang Technological University.\n",
            "    2005.\n",
            "  - Claudio Gentile. A New Approximate Maximal Margin Classification\n",
            "    Algorithm. NIPS. 2000.\n",
            "\n"
          ]
        }
      ],
      "source": [
        "print(digits['DESCR'])"
      ]
    },
    {
      "cell_type": "markdown",
      "metadata": {
        "id": "v20gddrBLyY7"
      },
      "source": [
        "Podemos ver que en la variable `data` están almacenados los datos."
      ]
    },
    {
      "cell_type": "code",
      "execution_count": null,
      "metadata": {
        "id": "BUGR1TPILyY8",
        "outputId": "75c08b02-43b1-4829-e2d2-ac6d290a906a"
      },
      "outputs": [
        {
          "name": "stdout",
          "output_type": "stream",
          "text": [
            "[[ 0.  0.  5. ...  0.  0.  0.]\n",
            " [ 0.  0.  0. ... 10.  0.  0.]\n",
            " [ 0.  0.  0. ... 16.  9.  0.]\n",
            " ...\n",
            " [ 0.  0.  1. ...  6.  0.  0.]\n",
            " [ 0.  0.  2. ... 12.  0.  0.]\n",
            " [ 0.  0. 10. ... 12.  1.  0.]]\n"
          ]
        }
      ],
      "source": [
        "print(digits.data)"
      ]
    },
    {
      "cell_type": "code",
      "execution_count": null,
      "metadata": {
        "id": "srjwgKSKLyY8",
        "outputId": "16f1293c-b51c-4bab-c735-e5b37e6f5f8b"
      },
      "outputs": [
        {
          "name": "stdout",
          "output_type": "stream",
          "text": [
            "(1797, 64)\n"
          ]
        }
      ],
      "source": [
        "print(digits.data.shape)"
      ]
    },
    {
      "cell_type": "markdown",
      "metadata": {
        "id": "9lM7OoKrLyY8"
      },
      "source": [
        "Y viendo su estructura, concluimos que contiene $1797$ instancias, cada una contiene $64$ características.\n",
        "\n",
        "Además hay un vector:"
      ]
    },
    {
      "cell_type": "code",
      "execution_count": null,
      "metadata": {
        "id": "JOJIEwQJLyY8",
        "outputId": "2e02b3e2-8de0-4ad0-8491-ce76e886a901"
      },
      "outputs": [
        {
          "name": "stdout",
          "output_type": "stream",
          "text": [
            "[0 1 2 ... 8 9 8]\n"
          ]
        }
      ],
      "source": [
        "print(digits.target)"
      ]
    },
    {
      "cell_type": "code",
      "execution_count": null,
      "metadata": {
        "id": "5DqFhTGDLyY8",
        "outputId": "03a71a02-74e5-4a57-bdd7-3c91c8309a18"
      },
      "outputs": [
        {
          "name": "stdout",
          "output_type": "stream",
          "text": [
            "1797\n"
          ]
        }
      ],
      "source": [
        "print(len(digits.target))"
      ]
    },
    {
      "cell_type": "code",
      "execution_count": null,
      "metadata": {
        "id": "3srtVGwCLyY8",
        "outputId": "fcd3955a-4892-498f-c775-8198018225e4"
      },
      "outputs": [
        {
          "name": "stdout",
          "output_type": "stream",
          "text": [
            "(1797,)\n"
          ]
        }
      ],
      "source": [
        "print(digits.target.shape)"
      ]
    },
    {
      "cell_type": "markdown",
      "metadata": {
        "id": "fZx1kzOxLyY9"
      },
      "source": [
        "Que contiene la clase real de cada instancia."
      ]
    },
    {
      "cell_type": "markdown",
      "metadata": {
        "id": "pO95TNySLyY9"
      },
      "source": [
        "Tambien disponemos de las imagenes sin \"aplanar\". Pero para el entrenamiento y las predicciones usamos las imagenes \"aplanadas\"."
      ]
    },
    {
      "cell_type": "code",
      "execution_count": null,
      "metadata": {
        "id": "uJQKjdhULyY9",
        "outputId": "ad86ddf1-aa4f-4cf2-f106-8c3a9df462e3"
      },
      "outputs": [
        {
          "name": "stdout",
          "output_type": "stream",
          "text": [
            "(1797, 8, 8)\n"
          ]
        }
      ],
      "source": [
        "print (digits.images.shape)"
      ]
    },
    {
      "cell_type": "markdown",
      "metadata": {
        "id": "mfZj9B7VLyY9"
      },
      "source": [
        "Para estar seguros de que estamos interpretando el dataset podemos dibujarlo de la siguiente manera:"
      ]
    },
    {
      "cell_type": "code",
      "execution_count": null,
      "metadata": {
        "scrolled": true,
        "id": "e7-fFc_TLyY9",
        "outputId": "ec4a887d-3306-4d8a-cd9b-75b8df2d9b9f"
      },
      "outputs": [
        {
          "data": {
            "image/png": "[encoded data removed]",
            "text/plain": [
              "<Figure size 432x432 with 64 Axes>"
            ]
          },
          "metadata": {},
          "output_type": "display_data"
        }
      ],
      "source": [
        "import random\n",
        "\n",
        "fig = plt.figure(figsize=(6, 6))\n",
        "fig.subplots_adjust(left=0, right=1, bottom=0, top=1, hspace=0.05, wspace=0.05)\n",
        "\n",
        "random.seed(42)\n",
        "for i in range(64):\n",
        "    pos = random.randint(0, len(digits.images) - 1)\n",
        "    ax = fig.add_subplot(8, 8, i + 1, xticks=[], yticks=[])\n",
        "    ax.imshow(digits.images[pos], cmap=plt.cm.binary, interpolation='nearest')\n",
        "    ax.text(0, 7, str(digits.target[pos]))"
      ]
    },
    {
      "cell_type": "code",
      "execution_count": null,
      "metadata": {
        "id": "YnKAoSGyLyY9",
        "outputId": "eafeb8fa-b9f8-4c1e-bc8a-8c93afce34fa"
      },
      "outputs": [
        {
          "name": "stdout",
          "output_type": "stream",
          "text": [
            "Valor maximo de codificacion de los pixeles:  16.0\n",
            "Valor minimo de codificacion de los pixeles:  0.0\n"
          ]
        }
      ],
      "source": [
        "print(\"Valor maximo de codificacion de los pixeles: \",np.max(digits.data))\n",
        "print(\"Valor minimo de codificacion de los pixeles: \",np.min(digits.data))"
      ]
    },
    {
      "cell_type": "markdown",
      "metadata": {
        "id": "ba16YBVwLyY9"
      },
      "source": [
        "## Conjunto de entrenamiento y test\n",
        "\n",
        "Divide el conjunto de datos en 2 grupos: entrenamiento y test con una proporción de reparto del 30% (70% entrenamiento, 30% test)\n",
        "\n",
        "* ¿Cuántos elementos tiene el conjunto de entrenamiento? ¿Y el de test?"
      ]
    },
    {
      "cell_type": "code",
      "execution_count": null,
      "metadata": {
        "id": "8qIcRaE1LyY9"
      },
      "outputs": [],
      "source": [
        "from sklearn.model_selection import train_test_split\n",
        "X, y = digits.data, digits.target\n",
        "\n",
        "X_train, X_test, y_train, y_test = train_test_split(X, y, test_size=.3, random_state=123)"
      ]
    },
    {
      "cell_type": "code",
      "execution_count": null,
      "metadata": {
        "id": "FCn9y4FcLyY-",
        "outputId": "fc590676-e7fb-418b-9b7c-68f522c6deb8"
      },
      "outputs": [
        {
          "name": "stdout",
          "output_type": "stream",
          "text": [
            "Longitud de conjunto train: 1257\n",
            "Longitud de conjunto test: 540\n"
          ]
        }
      ],
      "source": [
        "lon_train = len(X_train)\n",
        "lon_test = len(X_test)\n",
        "\n",
        "print(f'Longitud de conjunto train: {lon_train}\\nLongitud de conjunto test: {lon_test}')"
      ]
    },
    {
      "cell_type": "markdown",
      "metadata": {
        "id": "sg367qutLyY-"
      },
      "source": [
        "## Clasificador logístico\n",
        "\n",
        "Entrena un clasificador logístico para reconocer digitos.\n",
        "\n",
        "* ¿Qué porcentaje de acierto obtienes?\n",
        "* ¿Cuales son las clases que más se equivocan entre sí? ¿son lógicos los resultados?"
      ]
    },
    {
      "cell_type": "code",
      "execution_count": null,
      "metadata": {
        "scrolled": true,
        "id": "-GfahVnOLyY-",
        "outputId": "fc232ba6-4f49-47cb-ad61-4569da1338e2"
      },
      "outputs": [
        {
          "data": {
            "text/html": [
              "<style>#sk-container-id-1 {color: black;background-color: white;}#sk-container-id-1 pre{padding: 0;}#sk-container-id-1 div.sk-toggleable {background-color: white;}#sk-container-id-1 label.sk-toggleable__label {cursor: pointer;display: block;width: 100%;margin-bottom: 0;padding: 0.3em;box-sizing: border-box;text-align: center;}#sk-container-id-1 label.sk-toggleable__label-arrow:before {content: \"▸\";float: left;margin-right: 0.25em;color: #696969;}#sk-container-id-1 label.sk-toggleable__label-arrow:hover:before {color: black;}#sk-container-id-1 div.sk-estimator:hover label.sk-toggleable__label-arrow:before {color: black;}#sk-container-id-1 div.sk-toggleable__content {max-height: 0;max-width: 0;overflow: hidden;text-align: left;background-color: #f0f8ff;}#sk-container-id-1 div.sk-toggleable__content pre {margin: 0.2em;color: black;border-radius: 0.25em;background-color: #f0f8ff;}#sk-container-id-1 input.sk-toggleable__control:checked~div.sk-toggleable__content {max-height: 200px;max-width: 100%;overflow: auto;}#sk-container-id-1 input.sk-toggleable__control:checked~label.sk-toggleable__label-arrow:before {content: \"▾\";}#sk-container-id-1 div.sk-estimator input.sk-toggleable__control:checked~label.sk-toggleable__label {background-color: #d4ebff;}#sk-container-id-1 div.sk-label input.sk-toggleable__control:checked~label.sk-toggleable__label {background-color: #d4ebff;}#sk-container-id-1 input.sk-hidden--visually {border: 0;clip: rect(1px 1px 1px 1px);clip: rect(1px, 1px, 1px, 1px);height: 1px;margin: -1px;overflow: hidden;padding: 0;position: absolute;width: 1px;}#sk-container-id-1 div.sk-estimator {font-family: monospace;background-color: #f0f8ff;border: 1px dotted black;border-radius: 0.25em;box-sizing: border-box;margin-bottom: 0.5em;}#sk-container-id-1 div.sk-estimator:hover {background-color: #d4ebff;}#sk-container-id-1 div.sk-parallel-item::after {content: \"\";width: 100%;border-bottom: 1px solid gray;flex-grow: 1;}#sk-container-id-1 div.sk-label:hover label.sk-toggleable__label {background-color: #d4ebff;}#sk-container-id-1 div.sk-serial::before {content: \"\";position: absolute;border-left: 1px solid gray;box-sizing: border-box;top: 0;bottom: 0;left: 50%;z-index: 0;}#sk-container-id-1 div.sk-serial {display: flex;flex-direction: column;align-items: center;background-color: white;padding-right: 0.2em;padding-left: 0.2em;position: relative;}#sk-container-id-1 div.sk-item {position: relative;z-index: 1;}#sk-container-id-1 div.sk-parallel {display: flex;align-items: stretch;justify-content: center;background-color: white;position: relative;}#sk-container-id-1 div.sk-item::before, #sk-container-id-1 div.sk-parallel-item::before {content: \"\";position: absolute;border-left: 1px solid gray;box-sizing: border-box;top: 0;bottom: 0;left: 50%;z-index: -1;}#sk-container-id-1 div.sk-parallel-item {display: flex;flex-direction: column;z-index: 1;position: relative;background-color: white;}#sk-container-id-1 div.sk-parallel-item:first-child::after {align-self: flex-end;width: 50%;}#sk-container-id-1 div.sk-parallel-item:last-child::after {align-self: flex-start;width: 50%;}#sk-container-id-1 div.sk-parallel-item:only-child::after {width: 0;}#sk-container-id-1 div.sk-dashed-wrapped {border: 1px dashed gray;margin: 0 0.4em 0.5em 0.4em;box-sizing: border-box;padding-bottom: 0.4em;background-color: white;}#sk-container-id-1 div.sk-label label {font-family: monospace;font-weight: bold;display: inline-block;line-height: 1.2em;}#sk-container-id-1 div.sk-label-container {text-align: center;}#sk-container-id-1 div.sk-container {/* jupyter's `normalize.less` sets `[hidden] { display: none; }` but bootstrap.min.css set `[hidden] { display: none !important; }` so we also need the `!important` here to be able to override the default hidden behavior on the sphinx rendered scikit-learn.org. See: https://github.com/scikit-learn/scikit-learn/issues/21755 */display: inline-block !important;position: relative;}#sk-container-id-1 div.sk-text-repr-fallback {display: none;}</style><div id=\"sk-container-id-1\" class=\"sk-top-container\"><div class=\"sk-text-repr-fallback\"><pre>LogisticRegression()</pre><b>In a Jupyter environment, please rerun this cell to show the HTML representation or trust the notebook. <br />On GitHub, the HTML representation is unable to render, please try loading this page with nbviewer.org.</b></div><div class=\"sk-container\" hidden><div class=\"sk-item\"><div class=\"sk-estimator sk-toggleable\"><input class=\"sk-toggleable__control sk-hidden--visually\" id=\"sk-estimator-id-1\" type=\"checkbox\" checked><label for=\"sk-estimator-id-1\" class=\"sk-toggleable__label sk-toggleable__label-arrow\">LogisticRegression</label><div class=\"sk-toggleable__content\"><pre>LogisticRegression()</pre></div></div></div></div></div>"
            ],
            "text/plain": [
              "LogisticRegression()"
            ]
          },
          "execution_count": 17,
          "metadata": {},
          "output_type": "execute_result"
        }
      ],
      "source": [
        "#Creacion y entrenamiento del modelo\n",
        "from sklearn.linear_model import LogisticRegression\n",
        "\n",
        "modelo_logistico = LogisticRegression()\n",
        "modelo_logistico.fit(X_train, y_train)"
      ]
    },
    {
      "cell_type": "code",
      "execution_count": null,
      "metadata": {
        "id": "wCHZkLIKLyY-"
      },
      "outputs": [],
      "source": [
        "#Prediccion con el modelo entrenado\n",
        "prediction = modelo_logistico.predict(X_test)"
      ]
    },
    {
      "cell_type": "code",
      "execution_count": null,
      "metadata": {
        "id": "mtSscVxVLyY-",
        "outputId": "fe3353db-53dc-45e2-8644-2dd065daca98"
      },
      "outputs": [
        {
          "data": {
            "text/plain": [
              "array([3, 3, 4, 4, 1, 3, 1, 0, 7, 4, 0, 0, 5, 1, 6, 0, 3, 1, 0, 6, 9, 7,\n",
              "       7, 5, 4, 7, 7, 0, 0, 9, 1, 6, 8, 6, 8, 4, 6, 2, 1, 6, 0, 6, 2, 0,\n",
              "       2, 3, 7, 8, 8, 1, 2, 8, 6, 5, 1, 6, 4, 6, 0, 4, 3, 5, 6, 2, 8, 8,\n",
              "       1, 2, 0, 1, 7, 9, 4, 7, 3, 9, 4, 3, 3, 1, 9, 5, 4, 6, 1, 2, 4, 2,\n",
              "       4, 5, 8, 4, 1, 7, 6, 7, 5, 5, 1, 3, 9, 4, 6, 6, 8, 1, 7, 5, 6, 4,\n",
              "       9, 8, 7, 0, 9, 0, 2, 9, 0, 5, 1, 4, 4, 2, 2, 0, 7, 3, 6, 8, 2, 5,\n",
              "       2, 3, 3, 9, 6, 7, 4, 0, 7, 3, 2, 2, 2, 3, 8, 1, 7, 1, 5, 7, 9, 1,\n",
              "       3, 2, 6, 0, 7, 9, 6, 0, 2, 6, 3, 1, 5, 9, 9, 6, 1, 8, 6, 1, 3, 4,\n",
              "       4, 2, 0, 5, 9, 0, 7, 0, 7, 5, 8, 4, 8, 8, 3, 7, 9, 8, 2, 0, 3, 4,\n",
              "       9, 4, 1, 8, 7, 0, 5, 4, 5, 2, 2, 1, 4, 2, 0, 8, 7, 3, 2, 9, 2, 3,\n",
              "       8, 0, 6, 0, 2, 8, 7, 5, 4, 8, 0, 1, 5, 5, 0, 9, 8, 7, 7, 1, 4, 2,\n",
              "       4, 7, 1, 3, 0, 8, 2, 8, 6, 6, 3, 5, 6, 4, 5, 4, 6, 5, 7, 7, 9, 9,\n",
              "       1, 0, 4, 6, 1, 7, 3, 9, 8, 1, 0, 4, 9, 5, 8, 2, 5, 8, 4, 0, 8, 3,\n",
              "       1, 6, 6, 4, 6, 1, 4, 6, 6, 4, 1, 5, 3, 0, 1, 6, 0, 2, 5, 5, 8, 8,\n",
              "       2, 6, 0, 1, 1, 5, 1, 6, 9, 2, 8, 2, 4, 9, 8, 3, 3, 3, 2, 4, 0, 9,\n",
              "       4, 3, 6, 0, 2, 1, 3, 3, 2, 5, 9, 0, 7, 5, 9, 7, 6, 4, 7, 9, 6, 7,\n",
              "       4, 1, 5, 9, 6, 5, 5, 0, 8, 9, 3, 2, 7, 9, 7, 5, 7, 1, 8, 7, 5, 5,\n",
              "       8, 4, 1, 0, 0, 8, 3, 0, 9, 2, 9, 1, 0, 0, 6, 9, 0, 7, 1, 4, 7, 1,\n",
              "       0, 4, 1, 4, 8, 0, 2, 5, 4, 2, 3, 9, 7, 0, 6, 7, 5, 0, 8, 5, 3, 4,\n",
              "       2, 6, 4, 1, 4, 3, 8, 8, 4, 3, 9, 6, 0, 9, 7, 5, 9, 4, 9, 9, 1, 9,\n",
              "       5, 7, 8, 6, 9, 1, 0, 5, 5, 9, 7, 3, 1, 8, 7, 7, 2, 8, 0, 2, 5, 0,\n",
              "       2, 4, 6, 1, 4, 0, 1, 7, 5, 2, 1, 0, 9, 4, 9, 3, 2, 3, 8, 7, 0, 2,\n",
              "       1, 1, 9, 7, 1, 6, 3, 5, 7, 4, 6, 0, 9, 0, 6, 6, 1, 5, 2, 6, 2, 9,\n",
              "       5, 3, 4, 2, 9, 2, 1, 2, 4, 1, 2, 9, 5, 4, 0, 9, 6, 7, 6, 1, 1, 9,\n",
              "       4, 5, 4, 5, 4, 3, 1, 7, 6, 9, 5, 4])"
            ]
          },
          "execution_count": 19,
          "metadata": {},
          "output_type": "execute_result"
        }
      ],
      "source": [
        "prediction"
      ]
    },
    {
      "cell_type": "code",
      "execution_count": null,
      "metadata": {
        "id": "ML51hq6eLyY-",
        "outputId": "1af03eba-e348-462f-c6ab-14b84ad51ff9"
      },
      "outputs": [
        {
          "name": "stdout",
          "output_type": "stream",
          "text": [
            "[[ 0.00000000e+00  4.19639696e-03  1.07253922e-02  1.23186499e-01\n",
            "   7.63398326e-03 -7.66378666e-02 -8.10529583e-02 -1.44322782e-02\n",
            "  -1.07770642e-04 -3.64793918e-03 -1.06166500e-02  1.25515945e-01\n",
            "   7.30203789e-02  1.18365107e-01 -3.73730378e-02 -1.51075465e-02\n",
            "  -1.49543298e-03  4.58816171e-02  1.26913772e-01 -1.89987306e-02\n",
            "  -3.07711299e-01  1.28837128e-01  4.30273226e-02 -4.93407181e-03\n",
            "  -7.47661420e-04  1.27173477e-01  4.96021837e-02 -1.15514631e-01\n",
            "  -3.97357147e-01  1.36854476e-02  8.58439228e-02 -3.62858989e-05\n",
            "   0.00000000e+00  1.65909524e-01  4.23108292e-02 -2.13013727e-01\n",
            "  -3.86863329e-01  3.23684420e-02  7.77801529e-02  0.00000000e+00\n",
            "  -1.33453676e-04 -1.03762091e-02  2.34986349e-01 -1.01479485e-01\n",
            "  -1.48639080e-01  1.00657527e-01  4.63939282e-02 -3.35501467e-04\n",
            "  -5.20346067e-05 -8.17557058e-02  6.34162247e-02 -2.43079517e-02\n",
            "   1.51457637e-01  6.61049777e-02 -2.95081824e-02 -9.18443794e-03\n",
            "  -1.33461867e-05 -1.70958721e-03 -3.41634130e-02  1.26028097e-01\n",
            "  -2.89808862e-02 -3.74413993e-03 -2.26451390e-02 -1.80809605e-02]\n",
            " [ 0.00000000e+00 -4.43494139e-02 -8.69958335e-03  1.62483209e-01\n",
            "  -5.88502931e-01  3.24224750e-01  1.91010250e-01 -1.27027588e-02\n",
            "  -1.04985353e-03 -4.79034812e-01 -3.04810484e-01 -2.11021362e-01\n",
            "   2.14678460e-01 -6.24238104e-02 -2.33089071e-01 -1.61391438e-02\n",
            "   1.03313781e-01  3.17485509e-01 -8.75605256e-02  5.77321676e-01\n",
            "   2.93455660e-01 -7.49567188e-02 -1.01329402e-01 -2.22189844e-03\n",
            "   4.24681243e-02 -1.25652997e-01  2.64239752e-02  1.21790984e-01\n",
            "   8.40122418e-02 -3.14484089e-02  7.62164074e-02 -5.46745739e-05\n",
            "   0.00000000e+00 -8.68828288e-02  6.30532219e-02 -1.49738607e-01\n",
            "   1.69487178e-01  1.98752201e-01 -1.59199533e-01  0.00000000e+00\n",
            "  -1.57035161e-04 -1.23739621e-01 -8.21800671e-03  2.97402677e-01\n",
            "  -5.03779185e-02 -2.03922710e-01 -2.93674114e-01 -4.40903058e-04\n",
            "  -1.28336151e-03 -1.18983179e-01 -4.60616462e-02  3.45141143e-03\n",
            "   3.03976523e-01 -6.38604742e-02 -2.16073151e-01  1.57828327e-01\n",
            "  -4.23210200e-04 -5.62322222e-02 -1.65718616e-01 -1.05035543e-01\n",
            "   6.25863966e-02  1.42546497e-01  1.56683755e-01  1.29971278e-01]\n",
            " [ 0.00000000e+00  5.32850364e-02  6.65761897e-03  2.16844938e-02\n",
            "   1.20700296e-01 -4.16130341e-04 -1.95811816e-02 -2.29690519e-03\n",
            "  -1.47122013e-02  1.17597311e-01  4.67849282e-02 -1.63081977e-01\n",
            "   2.68553330e-01  7.77425219e-03 -1.60933204e-02 -4.11516108e-03\n",
            "  -7.43910718e-03 -8.39778183e-02 -1.31179745e-01 -1.97774714e-01\n",
            "   2.83168390e-01 -9.94043931e-02  1.54365322e-01 -8.04597493e-04\n",
            "  -5.00128005e-05 -1.65659470e-01 -3.94999211e-01 -3.42996350e-01\n",
            "  -2.58197361e-01 -3.62116135e-02  8.53781582e-02 -3.57936276e-05\n",
            "   0.00000000e+00 -1.02036687e-01 -3.37450963e-01 -1.58618936e-01\n",
            "   6.16185016e-02 -1.51691773e-01 -2.33553931e-01  0.00000000e+00\n",
            "  -1.31276524e-04  1.19114366e-01  9.40953129e-02  3.65360911e-01\n",
            "  -2.56562450e-01 -3.03187529e-01 -6.74714161e-02  3.12833300e-03\n",
            "   3.44560483e-03  1.11753932e-01  2.10336115e-02  4.59819339e-01\n",
            "   3.39330934e-01  2.48794062e-01  2.28868297e-01  1.00605850e-02\n",
            "   1.15251596e-03  6.01981070e-02  1.69817759e-01  2.29029271e-02\n",
            "   2.77791090e-02  1.73164270e-01  3.55310656e-01  1.23619313e-01]\n",
            " [ 0.00000000e+00  1.09437451e-01 -7.39279340e-03  5.04213301e-02\n",
            "   4.27962949e-01  8.81731467e-02 -8.71920754e-02 -2.56832901e-03\n",
            "  -8.61885620e-03  4.59396163e-02  1.37245347e-01  1.44883194e-02\n",
            "   7.68946392e-02  1.64499688e-01  1.42042585e-01 -3.00666058e-02\n",
            "  -1.46602218e-03 -5.31818928e-02 -3.59335759e-01 -4.45231123e-01\n",
            "   8.92877797e-02 -1.13720372e-01  2.11744932e-02 -8.52439396e-04\n",
            "  -2.38881138e-05 -9.29904666e-02 -3.11890125e-01 -1.37985667e-01\n",
            "   3.16886944e-01 -3.79350432e-01 -2.70682160e-01 -3.59110200e-05\n",
            "   0.00000000e+00 -1.03146619e-01 -1.52051914e-01  7.94058880e-03\n",
            "   9.23744147e-02 -1.09910073e-01  1.60927224e-03  0.00000000e+00\n",
            "  -1.31231813e-04 -2.16505400e-02 -1.59115646e-01 -4.72459124e-01\n",
            "   1.54322001e-01  1.82780058e-01  2.17187579e-01 -3.45046981e-03\n",
            "  -5.46721963e-05 -5.95451669e-02  1.66552828e-02 -2.39993744e-01\n",
            "   3.96695054e-02  2.50445561e-01  3.53665927e-01 -5.85438249e-02\n",
            "  -1.42474234e-05  9.00114784e-02  1.33412558e-01  1.74375589e-01\n",
            "  -6.28912593e-02  5.33015198e-02  7.69682441e-02 -1.84671542e-01]\n",
            " [ 0.00000000e+00 -2.18009325e-02 -1.71817365e-01 -4.07731304e-01\n",
            "  -1.49361519e-01 -3.04877595e-01 -2.14338745e-01  6.99041154e-02\n",
            "  -1.44385333e-04  4.89038102e-02 -1.51708753e-01 -1.77515519e-01\n",
            "  -3.04493630e-01 -2.03986565e-01 -1.62947364e-01  4.67217020e-02\n",
            "  -2.65382983e-03  8.91841168e-02  1.48876088e-01  3.67522721e-02\n",
            "   1.85625045e-02  7.57584757e-02 -1.01241489e-01  3.66719094e-02\n",
            "   8.15729956e-03  4.90992951e-02  4.28474510e-01  1.74200866e-01\n",
            "   8.28372351e-02  1.56340624e-01  2.84363788e-01  3.83118857e-03\n",
            "   0.00000000e+00  1.99963197e-01  7.28492015e-02 -1.46486039e-02\n",
            "   2.58676690e-01  2.06927713e-01  3.89120676e-01  0.00000000e+00\n",
            "   1.30584092e-03  4.91557115e-01  6.32550111e-02  5.30759306e-01\n",
            "   2.95910578e-01  1.10890609e-01  8.77893448e-02 -3.48913043e-04\n",
            "   5.76299271e-05  1.77520600e-01 -1.09230888e-01  1.02345954e-02\n",
            "   1.14299971e-01 -2.94423650e-01 -2.55824923e-01 -7.79153198e-03\n",
            "  -1.99464007e-05 -1.52661828e-02  2.51503110e-02 -2.55676499e-01\n",
            "  -1.32158356e-01 -2.15442843e-01 -5.07418185e-02 -5.38384411e-03]\n",
            " [ 0.00000000e+00  8.50536145e-02  3.84077462e-01 -1.41271477e-01\n",
            "   1.12457190e-01  1.87679999e-01  1.64086289e-01 -3.16729369e-02\n",
            "  -2.84416123e-04  5.93769746e-02  2.02663967e-01  1.44845997e-01\n",
            "  -6.11396506e-02 -1.61382221e-01  6.13618417e-02  1.66457025e-02\n",
            "  -5.83259015e-03  5.12022195e-02  1.21557451e-01  3.62840156e-02\n",
            "  -5.07292901e-01 -3.72830205e-01 -3.00648029e-01 -6.49783645e-03\n",
            "  -2.92071259e-03  2.01470288e-01  2.24532630e-01 -2.93372988e-02\n",
            "   2.37471383e-01 -6.20842457e-03 -7.10841424e-02 -5.12147486e-05\n",
            "   0.00000000e+00 -9.39999732e-02  2.98947660e-01 -1.05667916e-01\n",
            "  -1.35424307e-01 -1.07271550e-01  1.07854593e-01  0.00000000e+00\n",
            "  -1.31443573e-04 -2.10512879e-01 -3.01554161e-01 -3.22833420e-01\n",
            "  -8.75479969e-02 -1.44044306e-03  1.43010729e-02 -3.35983964e-04\n",
            "  -4.91113189e-05 -8.25144320e-02  3.38908125e-03 -9.90576314e-02\n",
            "  -1.03470698e-01 -7.15768010e-03 -1.53488543e-01 -3.91558996e-03\n",
            "  -1.23825154e-05  6.72596651e-02  3.25242618e-01  1.75215930e-01\n",
            "   5.62749998e-02 -3.43121113e-02 -2.18715799e-01 -1.38395175e-02]\n",
            " [ 0.00000000e+00 -7.54015304e-03 -2.13458457e-01 -8.19576020e-02\n",
            "  -4.56109730e-02 -1.62216807e-01 -1.51026560e-02 -2.09333863e-03\n",
            "  -1.72645527e-04 -9.54400215e-02 -2.11425476e-01  1.30665323e-02\n",
            "  -3.13506761e-01 -9.77940850e-03  2.98133397e-02 -1.90558405e-03\n",
            "  -1.02136352e-02 -1.66760026e-01  1.36480945e-01 -2.06121209e-02\n",
            "  -1.86503698e-01 -2.63125227e-01 -4.38538457e-02 -8.83705968e-04\n",
            "  -5.09184752e-03  5.33888604e-02  5.29076608e-02  1.05662927e-01\n",
            "  -1.41739549e-01 -1.11355152e-01 -1.72054955e-01 -3.69064544e-05\n",
            "   0.00000000e+00  1.82847841e-01  1.18261227e-01  1.20227369e-01\n",
            "   1.72280528e-02 -3.83011529e-02  3.39179881e-02  0.00000000e+00\n",
            "  -2.20943321e-04 -1.08878188e-01  4.47414081e-01  1.91175271e-01\n",
            "   1.47469991e-01  3.48253385e-02  1.41570263e-01  2.25125126e-03\n",
            "  -5.52257255e-05 -1.15444761e-01  6.22889201e-02  1.72063113e-01\n",
            "  -8.14560061e-02  1.61599085e-01  5.43737315e-02 -1.18215274e-01\n",
            "  -1.21725890e-05 -7.47258919e-03 -1.82260515e-01 -8.19140047e-02\n",
            "   8.29980412e-02  1.99810204e-01 -9.06961285e-02 -5.21129247e-02]\n",
            " [ 0.00000000e+00  4.36953823e-02  1.15702231e-01  1.64590748e-01\n",
            "   4.77035956e-02  7.83335683e-02  1.47495574e-01  5.93619944e-02\n",
            "  -1.09102511e-04  6.88391152e-02  1.33239367e-01  1.55949587e-01\n",
            "   4.02934476e-01 -8.59269015e-02 -2.00595772e-02  5.06042232e-02\n",
            "  -4.96408479e-05 -2.68704350e-01 -2.13694449e-01 -1.13438713e-01\n",
            "   1.20318639e-01  1.09463454e-01  6.00318493e-02  1.24626245e-02\n",
            "  -3.02056745e-05 -1.09987157e-01 -2.56067880e-02 -3.28952800e-01\n",
            "   1.27122006e-02  2.07216253e-01  2.41316452e-01 -2.01134064e-03\n",
            "   0.00000000e+00  1.64555356e-01 -7.42090077e-03  4.79357778e-03\n",
            "   1.30239583e-01  2.77619230e-01  1.85633789e-01  0.00000000e+00\n",
            "  -1.31280359e-04 -1.57750058e-02 -3.31451445e-02  1.35791758e-01\n",
            "   1.23107716e-01  5.51691905e-02 -3.59035915e-02 -3.36124622e-04\n",
            "  -8.58467166e-05 -2.70106605e-02 -7.11188938e-02  1.19694050e-01\n",
            "  -2.02098720e-01 -3.40385804e-01 -1.19897103e-01 -3.10023288e-03\n",
            "  -2.46373432e-05  1.77155570e-02 -3.04519334e-03 -2.79926261e-01\n",
            "  -2.45003775e-01 -2.78219815e-01 -5.07144229e-02 -6.04227369e-03]\n",
            " [ 0.00000000e+00 -1.13491030e-01 -1.97232085e-03 -5.06216795e-02\n",
            "   9.56422050e-02 -4.59421602e-02 -2.27119799e-01 -6.43122353e-03\n",
            "   2.53897559e-02 -3.59746168e-02 -1.35861024e-02 -5.37868829e-02\n",
            "  -2.77575298e-01  1.94326832e-01  8.74107072e-02 -3.70557559e-03\n",
            "  -6.68652106e-02  3.11988478e-02  1.94161326e-01  1.10574769e-02\n",
            "   8.00207574e-02  1.53259569e-01  7.38964363e-02 -1.16511636e-03\n",
            "  -3.81319277e-02 -2.40450206e-02 -1.26667806e-01  2.48326118e-01\n",
            "  -1.45102649e-02 -4.10801464e-02 -1.85096755e-01 -6.91932748e-05\n",
            "   0.00000000e+00 -8.86352834e-02 -8.31374932e-02  2.83626835e-01\n",
            "   3.36737397e-02 -1.94283827e-01 -4.13302952e-01  0.00000000e+00\n",
            "  -1.37947731e-04 -1.18752978e-01  1.93147050e-01  1.11771608e-01\n",
            "   1.15603640e-01  1.58028652e-01 -1.54315549e-02 -4.91034362e-04\n",
            "  -1.87221699e-03  2.01361070e-01  2.10090107e-01 -3.19687599e-01\n",
            "  -2.32530708e-01  1.91503165e-02  1.46497355e-01  1.51461656e-02\n",
            "  -6.19627866e-04 -4.90972289e-02 -3.57010927e-01  1.30844584e-01\n",
            "   1.67919707e-01  3.31748558e-02 -1.56470709e-01  4.47633210e-02]\n",
            " [ 0.00000000e+00 -1.08486352e-01 -1.13822185e-01  1.59215783e-01\n",
            "  -2.86247954e-02 -8.83209056e-02  1.41795302e-01 -5.70683396e-02\n",
            "  -1.90524751e-04  2.73440563e-01  1.72213855e-01  1.51539362e-01\n",
            "  -7.93659440e-02  3.85330268e-02  1.48933896e-01 -4.29320109e-02\n",
            "  -7.29831158e-03  3.76717760e-02  6.37808981e-02  1.34639962e-01\n",
            "   1.16694168e-01  4.56718290e-01  1.94577343e-01 -3.17748680e-02\n",
            "  -3.62916800e-03  8.72031909e-02  7.72229703e-02  3.04805851e-01\n",
            "   7.78843180e-02  2.28411853e-01 -7.42007158e-02 -1.49986833e-03\n",
            "   0.00000000e+00 -2.38574526e-01 -1.53608689e-02  2.25099419e-01\n",
            "  -2.41010524e-01 -1.14209210e-01  1.01399443e-02  0.00000000e+00\n",
            "  -1.31228757e-04 -9.86061102e-04 -5.30864846e-01 -7.35489503e-01\n",
            "  -2.93286481e-01 -1.33800694e-01 -9.47615110e-02  3.59346074e-04\n",
            "  -5.07656880e-05 -5.38169708e-03 -1.50461800e-01 -8.22155835e-02\n",
            "  -3.29178439e-01 -4.02663936e-02 -8.61340857e-03  1.77158140e-02\n",
            "  -1.29454383e-05 -1.05406997e-01  8.85754183e-02  9.31851816e-02\n",
            "   7.14760225e-02 -7.02784368e-02  1.02136203e-03 -1.82228491e-02]]\n",
            "[-0.00182184 -0.06258518 -0.00214366  0.0026005   0.03908413  0.00504385\n",
            " -0.00671779  0.01153227  0.02348533 -0.0084776 ]\n"
          ]
        }
      ],
      "source": [
        "#Valores obtenidos de la recta de regresión\n",
        "print(modelo_logistico.coef_)\n",
        "print(modelo_logistico.intercept_)"
      ]
    },
    {
      "cell_type": "code",
      "execution_count": null,
      "metadata": {
        "scrolled": true,
        "id": "Mnl20I-lLyY-",
        "outputId": "e97ba636-0ff0-49c8-8611-2e5046951ca5"
      },
      "outputs": [
        {
          "name": "stdout",
          "output_type": "stream",
          "text": [
            "[3 3 4 4 1 3 1 0 7 4 0 0 5 1 6 0 3 1 0 6 9 7 7 5 4 7 7 0 0 9 1 6 8 6 8 4 6\n",
            " 2 1 6 0 6 2 0 2 3 7 8 8 1 2 8 6 5 1 6 4 6 0 4 3 5 6 2 8 8 1 2 0 1 7 9 4 7\n",
            " 3 9 4 3 3 1 9 5 4 6 1 2 4 2 4 5 8 4 1 7 6 7 5 5 1 3 9 4 6 6 8 1 7 5 6 4 9\n",
            " 8 7 0 9 0 2 9 0 5 1 4 4 2 2 0 7 3 6 8 2 5 2 3 3 9 6 7 4 0 7 3 2 2 2 3 8 1\n",
            " 7 1 5 7 9 1 3 2 6 0 7 9 6 0 2 6 3 1 5 9 9 6 1 8 6 1 3 4 4 2 0 5 9 0 7 0 7\n",
            " 5 8 4 8 8 3 7 9 8 2 0 3 4 9 4 1 8 7 0 5 4 5 2 2 1 4 2 0 8 7 3 2 9 2 3 8 0\n",
            " 6 0 2 8 7 5 4 8 0 1 5 5 0 9 8 7 7 1 4 2 4 7 1 3 0 8 2 8 6 6 3 5 6 4 5 4 6\n",
            " 5 7 7 9 9 1 0 4 6 1 7 3 9 8 1 0 4 9 5 8 2 5 8 4 0 8 3 1 6 6 4 6 1 4 6 6 4\n",
            " 1 5 3 0 1 6 0 2 5 5 8 8 2 6 0 1 1 5 1 6 9 2 8 2 4 9 8 3 3 3 2 4 0 9 4 3 6\n",
            " 0 2 1 3 3 2 5 9 0 7 5 9 7 6 4 7 9 6 7 4 1 5 9 6 5 5 0 8 9 3 2 7 9 7 5 7 1\n",
            " 8 7 5 5 8 4 1 0 0 8 3 0 9 2 9 1 0 0 6 9 0 7 1 4 7 1 0 4 1 4 8 0 2 5 4 2 3\n",
            " 9 7 0 6 7 5 0 8 5 3 4 2 6 4 1 4 3 8 8 4 3 9 6 0 9 7 5 9 4 9 9 1 9 5 7 8 6\n",
            " 9 1 0 5 5 9 7 3 1 8 7 7 2 8 0 2 5 0 2 4 6 1 4 0 1 7 5 2 1 0 9 4 9 3 2 3 8\n",
            " 7 0 2 1 1 9 7 1 6 3 5 7 4 6 0 9 0 6 6 1 5 2 6 2 9 5 3 4 2 9 2 1 2 4 1 2 9\n",
            " 5 4 0 9 6 7 6 1 1 9 4 5 4 5 4 3 1 7 6 9 5 4]\n",
            "[3 3 4 4 1 3 1 0 7 4 0 0 5 1 6 0 3 1 0 6 9 7 7 5 4 5 7 0 0 9 1 6 8 6 8 4 6\n",
            " 2 1 6 0 6 2 0 2 3 5 8 8 8 2 8 6 5 1 6 4 6 0 4 3 5 6 2 8 8 8 2 0 1 7 9 4 7\n",
            " 3 9 4 3 3 8 9 5 4 6 1 2 4 2 4 5 8 4 1 7 6 7 5 5 6 3 9 4 6 6 8 1 7 5 6 4 9\n",
            " 8 7 0 9 0 2 9 0 5 1 4 4 2 2 0 7 3 6 8 2 5 2 3 3 9 6 7 4 0 7 3 2 2 2 3 8 1\n",
            " 7 1 5 7 9 1 3 2 6 0 7 9 6 0 2 6 3 1 5 5 9 6 1 8 6 1 3 4 4 2 0 5 9 0 7 0 7\n",
            " 5 8 4 8 8 3 7 9 8 2 0 3 4 9 4 8 8 7 0 5 4 5 2 2 1 4 2 0 8 7 3 2 9 2 3 8 0\n",
            " 6 0 2 8 7 5 4 8 0 1 5 5 0 9 8 7 7 1 4 2 4 7 1 3 0 8 2 8 6 6 3 5 6 4 5 4 6\n",
            " 5 7 7 9 9 1 0 4 6 1 4 3 9 8 1 0 4 5 6 8 2 5 8 4 0 8 3 1 6 6 4 6 1 4 6 6 4\n",
            " 1 5 3 0 1 6 0 2 5 5 8 8 2 6 0 1 1 5 1 6 9 2 8 2 4 9 8 3 3 3 2 4 0 9 4 3 6\n",
            " 0 2 1 3 3 2 5 9 0 7 5 9 7 6 4 7 9 6 7 4 1 5 9 6 5 5 0 8 9 3 2 7 9 7 5 7 9\n",
            " 8 7 5 5 8 4 1 0 0 8 3 0 9 2 9 1 0 0 6 9 0 7 1 4 7 1 0 4 1 4 8 0 2 5 4 2 3\n",
            " 9 7 0 6 7 5 0 8 5 3 4 2 6 4 1 4 3 9 8 4 3 5 6 0 3 7 5 9 4 9 9 1 9 5 7 8 6\n",
            " 9 1 0 5 5 9 7 3 1 8 7 7 2 9 0 2 5 0 2 4 6 1 4 0 1 7 5 2 1 0 9 1 9 3 2 3 8\n",
            " 7 0 2 1 1 9 7 1 6 3 5 7 4 6 0 9 0 6 6 1 5 2 6 2 9 5 3 4 2 9 2 1 2 4 1 2 9\n",
            " 5 4 0 9 6 7 6 1 1 9 4 5 8 5 4 3 1 7 6 9 5 4]\n"
          ]
        }
      ],
      "source": [
        "print(prediction)\n",
        "print(y_test)"
      ]
    },
    {
      "cell_type": "markdown",
      "metadata": {
        "id": "3LaIxTWeLyY-"
      },
      "source": [
        "## Métricas de evaluación (Accuracy)"
      ]
    },
    {
      "cell_type": "code",
      "execution_count": null,
      "metadata": {
        "id": "-h4tm6xvLyY-",
        "outputId": "9d602c53-b471-4ed9-d0b8-aa2e6d8d5f75"
      },
      "outputs": [
        {
          "data": {
            "text/plain": [
              "0.9666666666666667"
            ]
          },
          "execution_count": 22,
          "metadata": {},
          "output_type": "execute_result"
        }
      ],
      "source": [
        "np.mean(prediction == y_test)"
      ]
    },
    {
      "cell_type": "code",
      "execution_count": null,
      "metadata": {
        "scrolled": false,
        "id": "rOj32K5oLyY_",
        "outputId": "aa99f0eb-41a5-45ca-e4a9-c0304b6a74f6"
      },
      "outputs": [
        {
          "name": "stdout",
          "output_type": "stream",
          "text": [
            "0.9666666666666667\n"
          ]
        }
      ],
      "source": [
        "print(modelo_logistico.score(X_test, y_test))"
      ]
    },
    {
      "cell_type": "markdown",
      "metadata": {
        "id": "yaYqESk2LyY_"
      },
      "source": [
        "Obtenemos que un 96% de las instancias han obtenido los valores correctos o esperados"
      ]
    },
    {
      "cell_type": "markdown",
      "metadata": {
        "id": "YwZC-wiSLyY_"
      },
      "source": [
        "## Matriz de confusión"
      ]
    },
    {
      "cell_type": "code",
      "execution_count": null,
      "metadata": {
        "id": "rPtl8N-kLyY_",
        "outputId": "0f5f43af-aab2-4c7f-8cd2-4d197979f0d5"
      },
      "outputs": [
        {
          "data": {
            "text/plain": [
              "array([[59,  0,  0,  0,  0,  0,  0,  0,  0,  0],\n",
              "       [ 0, 55,  0,  0,  1,  0,  0,  0,  0,  0],\n",
              "       [ 0,  0, 53,  0,  0,  0,  0,  0,  0,  0],\n",
              "       [ 0,  0,  0, 45,  0,  0,  0,  0,  0,  1],\n",
              "       [ 0,  0,  0,  0, 60,  0,  0,  1,  0,  0],\n",
              "       [ 0,  0,  0,  0,  0, 52,  0,  2,  0,  3],\n",
              "       [ 0,  1,  0,  0,  0,  1, 55,  0,  0,  0],\n",
              "       [ 0,  0,  0,  0,  0,  0,  0, 50,  0,  0],\n",
              "       [ 0,  4,  0,  0,  1,  0,  0,  0, 43,  0],\n",
              "       [ 0,  1,  0,  0,  0,  0,  0,  0,  2, 50]], dtype=int64)"
            ]
          },
          "execution_count": 24,
          "metadata": {},
          "output_type": "execute_result"
        }
      ],
      "source": [
        "confusion_matrix(y_test, prediction)"
      ]
    },
    {
      "cell_type": "code",
      "execution_count": null,
      "metadata": {
        "scrolled": true,
        "id": "AM3iO269LyZA",
        "outputId": "c801a5e1-863d-4f68-833a-d85660ef3beb"
      },
      "outputs": [
        {
          "data": {
            "image/png": "[encoded data removed]",
            "text/plain": [
              "<Figure size 432x288 with 2 Axes>"
            ]
          },
          "metadata": {
            "needs_background": "light"
          },
          "output_type": "display_data"
        }
      ],
      "source": [
        "plt.imshow(confusion_matrix(y_test, prediction), cmap=\"Greens\")\n",
        "plt.colorbar(shrink=0.8)\n",
        "plt.xticks(range(10))\n",
        "plt.yticks(range(10))\n",
        "plt.xlabel(\"Clase predicha\")\n",
        "plt.ylabel(\"Clase real\");"
      ]
    },
    {
      "cell_type": "markdown",
      "metadata": {
        "id": "vwxBfIdlLyZA"
      },
      "source": [
        "## Perceptrón multicapa\n",
        "\n",
        "Entrena un perceptrón multicapa con los datos anteriores (revisa el worksheet si no te acuerdas de como hacerlo).\n",
        "\n",
        "* ¿Qué porcentaje de acierto obtienes?\n",
        "* ¿Cuales son las clases que más se equivocan entre sí?\n",
        "* Compara los resultados del perceptrón y el logístico"
      ]
    },
    {
      "cell_type": "markdown",
      "metadata": {
        "id": "wiMbr-d-LyZA"
      },
      "source": [
        "## Perceptron multicapa con scikit-learn"
      ]
    },
    {
      "cell_type": "code",
      "execution_count": null,
      "metadata": {
        "id": "sbdZxfzGLyZA"
      },
      "outputs": [],
      "source": [
        "from sklearn.neural_network import MLPClassifier\n",
        "\n",
        "X, y = digits.data, digits.target\n",
        "\n",
        "X_train, X_test, y_train, y_test = train_test_split(X, y, test_size=.3, random_state=123)\n",
        "\n",
        "mlp = MLPClassifier(hidden_layer_sizes=(100,), max_iter=1000, verbose=True)"
      ]
    },
    {
      "cell_type": "code",
      "execution_count": null,
      "metadata": {
        "id": "x_xBFUPTLyZA",
        "outputId": "5db5c627-dd65-4c00-d938-77f458c8cfca"
      },
      "outputs": [
        {
          "name": "stdout",
          "output_type": "stream",
          "text": [
            "Iteration 1, loss = 5.46788364\n",
            "Iteration 2, loss = 3.09050254\n",
            "Iteration 3, loss = 1.89174663\n",
            "Iteration 4, loss = 1.14546972\n",
            "Iteration 5, loss = 0.80389827\n",
            "Iteration 6, loss = 0.58952346\n",
            "Iteration 7, loss = 0.46558363\n",
            "Iteration 8, loss = 0.38654951\n",
            "Iteration 9, loss = 0.32468646\n",
            "Iteration 10, loss = 0.28262342\n",
            "Iteration 11, loss = 0.24493002\n",
            "Iteration 12, loss = 0.21741747\n",
            "Iteration 13, loss = 0.19191937\n",
            "Iteration 14, loss = 0.17029852\n",
            "Iteration 15, loss = 0.15463510\n",
            "Iteration 16, loss = 0.13738079\n",
            "Iteration 17, loss = 0.12471559\n",
            "Iteration 18, loss = 0.11435136\n",
            "Iteration 19, loss = 0.10710452\n",
            "Iteration 20, loss = 0.09580481\n",
            "Iteration 21, loss = 0.08933954\n",
            "Iteration 22, loss = 0.08318893\n",
            "Iteration 23, loss = 0.07672646\n",
            "Iteration 24, loss = 0.07247598\n",
            "Iteration 25, loss = 0.06747864\n",
            "Iteration 26, loss = 0.06242479\n",
            "Iteration 27, loss = 0.05844282\n",
            "Iteration 28, loss = 0.05404366\n",
            "Iteration 29, loss = 0.05113789\n",
            "Iteration 30, loss = 0.04848278\n",
            "Iteration 31, loss = 0.04574256\n",
            "Iteration 32, loss = 0.04328742\n",
            "Iteration 33, loss = 0.04124991\n",
            "Iteration 34, loss = 0.03878666\n",
            "Iteration 35, loss = 0.03656291\n",
            "Iteration 36, loss = 0.03488490\n",
            "Iteration 37, loss = 0.03297263\n",
            "Iteration 38, loss = 0.03128439\n",
            "Iteration 39, loss = 0.02970548\n",
            "Iteration 40, loss = 0.02816962\n",
            "Iteration 41, loss = 0.02682877\n",
            "Iteration 42, loss = 0.02562066\n",
            "Iteration 43, loss = 0.02448743\n",
            "Iteration 44, loss = 0.02357592\n",
            "Iteration 45, loss = 0.02283854\n",
            "Iteration 46, loss = 0.02147031\n",
            "Iteration 47, loss = 0.02099875\n",
            "Iteration 48, loss = 0.01996117\n",
            "Iteration 49, loss = 0.01893773\n",
            "Iteration 50, loss = 0.01862518\n",
            "Iteration 51, loss = 0.01799498\n",
            "Iteration 52, loss = 0.01692438\n",
            "Iteration 53, loss = 0.01632342\n",
            "Iteration 54, loss = 0.01592465\n",
            "Iteration 55, loss = 0.01512440\n",
            "Iteration 56, loss = 0.01463258\n",
            "Iteration 57, loss = 0.01415099\n",
            "Iteration 58, loss = 0.01371170\n",
            "Iteration 59, loss = 0.01311385\n",
            "Iteration 60, loss = 0.01266582\n",
            "Iteration 61, loss = 0.01226728\n",
            "Iteration 62, loss = 0.01185277\n",
            "Iteration 63, loss = 0.01154946\n",
            "Iteration 64, loss = 0.01105385\n",
            "Iteration 65, loss = 0.01077975\n",
            "Iteration 66, loss = 0.01032479\n",
            "Iteration 67, loss = 0.00996372\n",
            "Iteration 68, loss = 0.00955086\n",
            "Iteration 69, loss = 0.00926473\n",
            "Iteration 70, loss = 0.00884696\n",
            "Iteration 71, loss = 0.00868841\n",
            "Iteration 72, loss = 0.00837865\n",
            "Iteration 73, loss = 0.00800124\n",
            "Iteration 74, loss = 0.00768139\n",
            "Iteration 75, loss = 0.00733078\n",
            "Iteration 76, loss = 0.00718883\n",
            "Iteration 77, loss = 0.00693054\n",
            "Iteration 78, loss = 0.00666160\n",
            "Iteration 79, loss = 0.00637720\n",
            "Iteration 80, loss = 0.00614747\n",
            "Iteration 81, loss = 0.00599717\n",
            "Iteration 82, loss = 0.00575773\n",
            "Iteration 83, loss = 0.00568506\n",
            "Iteration 84, loss = 0.00542131\n",
            "Iteration 85, loss = 0.00522832\n",
            "Iteration 86, loss = 0.00512891\n",
            "Iteration 87, loss = 0.00491098\n",
            "Iteration 88, loss = 0.00473345\n",
            "Iteration 89, loss = 0.00462104\n",
            "Iteration 90, loss = 0.00447553\n",
            "Iteration 91, loss = 0.00434552\n",
            "Iteration 92, loss = 0.00422037\n",
            "Iteration 93, loss = 0.00410889\n",
            "Iteration 94, loss = 0.00398640\n",
            "Iteration 95, loss = 0.00389349\n",
            "Iteration 96, loss = 0.00377086\n",
            "Iteration 97, loss = 0.00367601\n",
            "Iteration 98, loss = 0.00361269\n",
            "Iteration 99, loss = 0.00351855\n",
            "Iteration 100, loss = 0.00341217\n",
            "Iteration 101, loss = 0.00332952\n",
            "Iteration 102, loss = 0.00325942\n",
            "Iteration 103, loss = 0.00317495\n",
            "Iteration 104, loss = 0.00309917\n",
            "Iteration 105, loss = 0.00303612\n",
            "Iteration 106, loss = 0.00296772\n",
            "Iteration 107, loss = 0.00290288\n",
            "Iteration 108, loss = 0.00285226\n",
            "Iteration 109, loss = 0.00277701\n",
            "Iteration 110, loss = 0.00271622\n",
            "Iteration 111, loss = 0.00266697\n",
            "Training loss did not improve more than tol=0.000100 for 10 consecutive epochs. Stopping.\n"
          ]
        },
        {
          "data": {
            "text/html": [
              "<style>#sk-container-id-2 {color: black;background-color: white;}#sk-container-id-2 pre{padding: 0;}#sk-container-id-2 div.sk-toggleable {background-color: white;}#sk-container-id-2 label.sk-toggleable__label {cursor: pointer;display: block;width: 100%;margin-bottom: 0;padding: 0.3em;box-sizing: border-box;text-align: center;}#sk-container-id-2 label.sk-toggleable__label-arrow:before {content: \"▸\";float: left;margin-right: 0.25em;color: #696969;}#sk-container-id-2 label.sk-toggleable__label-arrow:hover:before {color: black;}#sk-container-id-2 div.sk-estimator:hover label.sk-toggleable__label-arrow:before {color: black;}#sk-container-id-2 div.sk-toggleable__content {max-height: 0;max-width: 0;overflow: hidden;text-align: left;background-color: #f0f8ff;}#sk-container-id-2 div.sk-toggleable__content pre {margin: 0.2em;color: black;border-radius: 0.25em;background-color: #f0f8ff;}#sk-container-id-2 input.sk-toggleable__control:checked~div.sk-toggleable__content {max-height: 200px;max-width: 100%;overflow: auto;}#sk-container-id-2 input.sk-toggleable__control:checked~label.sk-toggleable__label-arrow:before {content: \"▾\";}#sk-container-id-2 div.sk-estimator input.sk-toggleable__control:checked~label.sk-toggleable__label {background-color: #d4ebff;}#sk-container-id-2 div.sk-label input.sk-toggleable__control:checked~label.sk-toggleable__label {background-color: #d4ebff;}#sk-container-id-2 input.sk-hidden--visually {border: 0;clip: rect(1px 1px 1px 1px);clip: rect(1px, 1px, 1px, 1px);height: 1px;margin: -1px;overflow: hidden;padding: 0;position: absolute;width: 1px;}#sk-container-id-2 div.sk-estimator {font-family: monospace;background-color: #f0f8ff;border: 1px dotted black;border-radius: 0.25em;box-sizing: border-box;margin-bottom: 0.5em;}#sk-container-id-2 div.sk-estimator:hover {background-color: #d4ebff;}#sk-container-id-2 div.sk-parallel-item::after {content: \"\";width: 100%;border-bottom: 1px solid gray;flex-grow: 1;}#sk-container-id-2 div.sk-label:hover label.sk-toggleable__label {background-color: #d4ebff;}#sk-container-id-2 div.sk-serial::before {content: \"\";position: absolute;border-left: 1px solid gray;box-sizing: border-box;top: 0;bottom: 0;left: 50%;z-index: 0;}#sk-container-id-2 div.sk-serial {display: flex;flex-direction: column;align-items: center;background-color: white;padding-right: 0.2em;padding-left: 0.2em;position: relative;}#sk-container-id-2 div.sk-item {position: relative;z-index: 1;}#sk-container-id-2 div.sk-parallel {display: flex;align-items: stretch;justify-content: center;background-color: white;position: relative;}#sk-container-id-2 div.sk-item::before, #sk-container-id-2 div.sk-parallel-item::before {content: \"\";position: absolute;border-left: 1px solid gray;box-sizing: border-box;top: 0;bottom: 0;left: 50%;z-index: -1;}#sk-container-id-2 div.sk-parallel-item {display: flex;flex-direction: column;z-index: 1;position: relative;background-color: white;}#sk-container-id-2 div.sk-parallel-item:first-child::after {align-self: flex-end;width: 50%;}#sk-container-id-2 div.sk-parallel-item:last-child::after {align-self: flex-start;width: 50%;}#sk-container-id-2 div.sk-parallel-item:only-child::after {width: 0;}#sk-container-id-2 div.sk-dashed-wrapped {border: 1px dashed gray;margin: 0 0.4em 0.5em 0.4em;box-sizing: border-box;padding-bottom: 0.4em;background-color: white;}#sk-container-id-2 div.sk-label label {font-family: monospace;font-weight: bold;display: inline-block;line-height: 1.2em;}#sk-container-id-2 div.sk-label-container {text-align: center;}#sk-container-id-2 div.sk-container {/* jupyter's `normalize.less` sets `[hidden] { display: none; }` but bootstrap.min.css set `[hidden] { display: none !important; }` so we also need the `!important` here to be able to override the default hidden behavior on the sphinx rendered scikit-learn.org. See: https://github.com/scikit-learn/scikit-learn/issues/21755 */display: inline-block !important;position: relative;}#sk-container-id-2 div.sk-text-repr-fallback {display: none;}</style><div id=\"sk-container-id-2\" class=\"sk-top-container\"><div class=\"sk-text-repr-fallback\"><pre>MLPClassifier(max_iter=1000, verbose=True)</pre><b>In a Jupyter environment, please rerun this cell to show the HTML representation or trust the notebook. <br />On GitHub, the HTML representation is unable to render, please try loading this page with nbviewer.org.</b></div><div class=\"sk-container\" hidden><div class=\"sk-item\"><div class=\"sk-estimator sk-toggleable\"><input class=\"sk-toggleable__control sk-hidden--visually\" id=\"sk-estimator-id-2\" type=\"checkbox\" checked><label for=\"sk-estimator-id-2\" class=\"sk-toggleable__label sk-toggleable__label-arrow\">MLPClassifier</label><div class=\"sk-toggleable__content\"><pre>MLPClassifier(max_iter=1000, verbose=True)</pre></div></div></div></div></div>"
            ],
            "text/plain": [
              "MLPClassifier(max_iter=1000, verbose=True)"
            ]
          },
          "execution_count": 27,
          "metadata": {},
          "output_type": "execute_result"
        }
      ],
      "source": [
        "#Entrenamos el modelo\n",
        "mlp.fit(X_train, y_train)"
      ]
    },
    {
      "cell_type": "code",
      "execution_count": null,
      "metadata": {
        "id": "7c5rKCvULyZA"
      },
      "outputs": [],
      "source": [
        "# Hacemos predicciones con los datos de test\n",
        "y_pred = mlp.predict(X_test)"
      ]
    },
    {
      "cell_type": "markdown",
      "metadata": {
        "id": "_r9nVPM6LyZA"
      },
      "source": [
        "## Evaluación del modelo"
      ]
    },
    {
      "cell_type": "code",
      "execution_count": null,
      "metadata": {
        "id": "PNeZdG3kLyZA",
        "outputId": "b0b7a284-f8c3-4c7c-bfd0-8f1b129512cf"
      },
      "outputs": [
        {
          "name": "stdout",
          "output_type": "stream",
          "text": [
            "Accuracy: 0.9703703703703703\n"
          ]
        }
      ],
      "source": [
        "accuracy = mlp.score(X_test, y_test)\n",
        "print(\"Accuracy:\", accuracy)"
      ]
    },
    {
      "cell_type": "markdown",
      "metadata": {
        "id": "-AKPfyr0LyZB"
      },
      "source": [
        "## Matriz de confusión"
      ]
    },
    {
      "cell_type": "code",
      "execution_count": null,
      "metadata": {
        "id": "ZyQ_jRb0LyZB",
        "outputId": "2c2dea02-c59f-48d5-ae63-a5f9dd9ce10e"
      },
      "outputs": [
        {
          "data": {
            "text/plain": [
              "array([[59,  0,  0,  0,  0,  0,  0,  0,  0,  0],\n",
              "       [ 0, 56,  0,  0,  0,  0,  0,  0,  0,  0],\n",
              "       [ 0,  0, 52,  1,  0,  0,  0,  0,  0,  0],\n",
              "       [ 0,  0,  0, 46,  0,  0,  0,  0,  0,  0],\n",
              "       [ 0,  0,  0,  0, 60,  0,  0,  1,  0,  0],\n",
              "       [ 1,  0,  0,  1,  1, 51,  0,  0,  0,  3],\n",
              "       [ 0,  0,  0,  0,  2,  0, 55,  0,  0,  0],\n",
              "       [ 0,  0,  0,  0,  0,  0,  0, 50,  0,  0],\n",
              "       [ 0,  3,  0,  0,  0,  0,  0,  0, 45,  0],\n",
              "       [ 0,  1,  0,  1,  0,  0,  0,  0,  1, 50]], dtype=int64)"
            ]
          },
          "execution_count": 30,
          "metadata": {},
          "output_type": "execute_result"
        }
      ],
      "source": [
        "confusion_matrix(y_test, y_pred)"
      ]
    },
    {
      "cell_type": "code",
      "execution_count": null,
      "metadata": {
        "scrolled": true,
        "id": "hDg8QNKwLyZB",
        "outputId": "38cc34bb-559c-4912-9d46-bf876c986757"
      },
      "outputs": [
        {
          "data": {
            "image/png": "[encoded data removed]",
            "text/plain": [
              "<Figure size 432x288 with 2 Axes>"
            ]
          },
          "metadata": {
            "needs_background": "light"
          },
          "output_type": "display_data"
        }
      ],
      "source": [
        "plt.imshow(confusion_matrix(y_test, y_pred), cmap=\"Greens\")\n",
        "plt.colorbar(shrink=0.8)\n",
        "plt.xticks(range(10))\n",
        "plt.yticks(range(10))\n",
        "plt.xlabel(\"Clase predicha\")\n",
        "plt.ylabel(\"Clase real\");"
      ]
    },
    {
      "cell_type": "markdown",
      "metadata": {
        "id": "u7KcM9K5LyZB"
      },
      "source": [
        "Podemos observar que ante nuestro conjunto de datos, el perceptron multicapa se comporta ligeramente mejor, en relación al accuracy, que el modelo de clasificación logística.\n",
        "\n",
        "Observando los resultados de la matriz de confusión, observamos que las clases que son más propensas a confundirse entre sí son la 8 con la 1, la 8 con la 7 y la 5 con la 9"
      ]
    },
    {
      "cell_type": "markdown",
      "metadata": {
        "collapsed": true,
        "id": "UPz10LuPLyZB"
      },
      "source": [
        "## Análisis de resultados\n",
        "\n",
        "Analiza con más detalle los resultados del perceptrón.\n",
        "\n",
        "* ¿Podrías dibujar los casos en los que se equivoca?.\n",
        "* Revisando los casos que se equivoca... ¿podrías identificar casos que son outliers? (casos que se equivoca pero es lógico porque no están bien etiquetados en el dataset original)\n",
        "\n",
        "Tip: Apoyate en la función `dibuja_digito`."
      ]
    },
    {
      "cell_type": "code",
      "execution_count": null,
      "metadata": {
        "id": "mcNpBv9fLyZB"
      },
      "outputs": [],
      "source": [
        "def dibuja_digito(index, data_feature, real_class, predicted_class):\n",
        "    fig = plt.figure(figsize=(2, 2))\n",
        "    plt.imshow(data_feature.reshape(8,8), cmap=plt.cm.binary, interpolation='nearest')\n",
        "    plt.text(10, 5, \"Index: \" + str(index))\n",
        "    plt.text(10, 6, \"Real: \" + str(real_class))\n",
        "    plt.text(10, 7, \"Predicted: \" + str(predicted_class))"
      ]
    },
    {
      "cell_type": "code",
      "execution_count": null,
      "metadata": {
        "scrolled": true,
        "id": "fnBeyr3yLyZB",
        "outputId": "1677553b-5024-4217-9058-ecc2508726f9"
      },
      "outputs": [
        {
          "data": {
            "image/png": "[encoded data removed]",
            "text/plain": [
              "<Figure size 144x144 with 1 Axes>"
            ]
          },
          "metadata": {
            "needs_background": "light"
          },
          "output_type": "display_data"
        },
        {
          "data": {
            "image/png": "[encoded data removed]",
            "text/plain": [
              "<Figure size 144x144 with 1 Axes>"
            ]
          },
          "metadata": {
            "needs_background": "light"
          },
          "output_type": "display_data"
        },
        {
          "data": {
            "image/png": "[encoded data removed]",
            "text/plain": [
              "<Figure size 144x144 with 1 Axes>"
            ]
          },
          "metadata": {
            "needs_background": "light"
          },
          "output_type": "display_data"
        },
        {
          "data": {
            "image/png": "[encoded data removed]",
            "text/plain": [
              "<Figure size 144x144 with 1 Axes>"
            ]
          },
          "metadata": {
            "needs_background": "light"
          },
          "output_type": "display_data"
        },
        {
          "data": {
            "image/png": "[encoded data removed]",
            "text/plain": [
              "<Figure size 144x144 with 1 Axes>"
            ]
          },
          "metadata": {
            "needs_background": "light"
          },
          "output_type": "display_data"
        },
        {
          "data": {
            "image/png": "[encoded data removed]",
            "text/plain": [
              "<Figure size 144x144 with 1 Axes>"
            ]
          },
          "metadata": {
            "needs_background": "light"
          },
          "output_type": "display_data"
        },
        {
          "data": {
            "image/png": "[encoded data removed]",
            "text/plain": [
              "<Figure size 144x144 with 1 Axes>"
            ]
          },
          "metadata": {
            "needs_background": "light"
          },
          "output_type": "display_data"
        },
        {
          "data": {
            "image/png": "[encoded data removed]",
            "text/plain": [
              "<Figure size 144x144 with 1 Axes>"
            ]
          },
          "metadata": {
            "needs_background": "light"
          },
          "output_type": "display_data"
        },
        {
          "data": {
            "image/png": "[encoded data removed]",
            "text/plain": [
              "<Figure size 144x144 with 1 Axes>"
            ]
          },
          "metadata": {
            "needs_background": "light"
          },
          "output_type": "display_data"
        },
        {
          "data": {
            "image/png": "[encoded data removed]",
            "text/plain": [
              "<Figure size 144x144 with 1 Axes>"
            ]
          },
          "metadata": {
            "needs_background": "light"
          },
          "output_type": "display_data"
        },
        {
          "data": {
            "image/png": "[encoded data removed]",
            "text/plain": [
              "<Figure size 144x144 with 1 Axes>"
            ]
          },
          "metadata": {
            "needs_background": "light"
          },
          "output_type": "display_data"
        },
        {
          "data": {
            "image/png": "[encoded data removed]",
            "text/plain": [
              "<Figure size 144x144 with 1 Axes>"
            ]
          },
          "metadata": {
            "needs_background": "light"
          },
          "output_type": "display_data"
        },
        {
          "data": {
            "image/png": "[encoded data removed]",
            "text/plain": [
              "<Figure size 144x144 with 1 Axes>"
            ]
          },
          "metadata": {
            "needs_background": "light"
          },
          "output_type": "display_data"
        },
        {
          "data": {
            "image/png": "[encoded data removed]",
            "text/plain": [
              "<Figure size 144x144 with 1 Axes>"
            ]
          },
          "metadata": {
            "needs_background": "light"
          },
          "output_type": "display_data"
        },
        {
          "data": {
            "image/png": "[encoded data removed]",
            "text/plain": [
              "<Figure size 144x144 with 1 Axes>"
            ]
          },
          "metadata": {
            "needs_background": "light"
          },
          "output_type": "display_data"
        },
        {
          "data": {
            "image/png": "[encoded data removed]",
            "text/plain": [
              "<Figure size 144x144 with 1 Axes>"
            ]
          },
          "metadata": {
            "needs_background": "light"
          },
          "output_type": "display_data"
        }
      ],
      "source": [
        "errores = np.where(y_test != y_pred)[0]\n",
        "\n",
        "for i in errores:\n",
        "    dibuja_digito(i, X_test[i], y_test[i], y_pred[i])"
      ]
    },
    {
      "cell_type": "markdown",
      "metadata": {
        "id": "dh8rGNRNLyZC"
      },
      "source": [
        "Bajo mi percepción, tomaría como outliers los index 49, 200, 424, 435"
      ]
    },
    {
      "cell_type": "code",
      "execution_count": null,
      "metadata": {
        "id": "0mkYfo0KLyZC"
      },
      "outputs": [],
      "source": [
        "index_to_drop = [49, 200, 424, 435]"
      ]
    },
    {
      "cell_type": "markdown",
      "metadata": {
        "id": "-SU2cBC0LyZC"
      },
      "source": [
        "## Eliminación de outliers\n",
        "\n",
        "Elimina los outliers del dataset de test, vuelve a entrenar la red neuronal con un random seed aleatorio y comprueba los resultados con el nuevo dataset de test reducido.\n",
        "\n",
        "    * Analiza los resultados\n",
        "    * ¿Es correcto lo que hemos hecho?\n",
        "    * ¿Que crees que sucedería si eliminasemos tambien los outliers del dataset de entrenamiento?. ¿Mejorarian los resultados?. Solo elabora una respuesta, no es necesario implementar esto en codigo.\n"
      ]
    },
    {
      "cell_type": "code",
      "execution_count": null,
      "metadata": {
        "id": "PpngsKfMLyZC"
      },
      "outputs": [],
      "source": [
        "no_outliers = [x for i, x in enumerate(y_test) if i not in index_to_drop]\n",
        "no_outliers_X = [x for i, x in enumerate(X_test) if i not in index_to_drop]"
      ]
    },
    {
      "cell_type": "code",
      "execution_count": null,
      "metadata": {
        "id": "-rSLsoB-LyZC"
      },
      "outputs": [],
      "source": [
        "X, y = digits.data, digits.target\n",
        "\n",
        "X_train, X_test, y_train, y_test = train_test_split(X, y, test_size=.3)\n",
        "\n",
        "mlp = MLPClassifier(hidden_layer_sizes=(100,), max_iter=1000, verbose=True)"
      ]
    },
    {
      "cell_type": "code",
      "execution_count": null,
      "metadata": {
        "id": "NWM5zvVzLyZC",
        "outputId": "17920e68-aad2-4d7d-baca-2de8dbe50e1c"
      },
      "outputs": [
        {
          "name": "stdout",
          "output_type": "stream",
          "text": [
            "Iteration 1, loss = 5.72682695\n",
            "Iteration 2, loss = 2.92347507\n",
            "Iteration 3, loss = 1.75411286\n",
            "Iteration 4, loss = 1.05157738\n",
            "Iteration 5, loss = 0.70458138\n",
            "Iteration 6, loss = 0.51006396\n",
            "Iteration 7, loss = 0.39630128\n",
            "Iteration 8, loss = 0.32051061\n",
            "Iteration 9, loss = 0.26937314\n",
            "Iteration 10, loss = 0.22892933\n",
            "Iteration 11, loss = 0.20108418\n",
            "Iteration 12, loss = 0.17547147\n",
            "Iteration 13, loss = 0.15627050\n",
            "Iteration 14, loss = 0.13833492\n",
            "Iteration 15, loss = 0.12760946\n",
            "Iteration 16, loss = 0.11835457\n",
            "Iteration 17, loss = 0.10677586\n",
            "Iteration 18, loss = 0.09787984\n",
            "Iteration 19, loss = 0.09009294\n",
            "Iteration 20, loss = 0.08322817\n",
            "Iteration 21, loss = 0.07652079\n",
            "Iteration 22, loss = 0.07188752\n",
            "Iteration 23, loss = 0.06722550\n",
            "Iteration 24, loss = 0.06224465\n",
            "Iteration 25, loss = 0.05951481\n",
            "Iteration 26, loss = 0.05509643\n",
            "Iteration 27, loss = 0.05091302\n",
            "Iteration 28, loss = 0.04851161\n",
            "Iteration 29, loss = 0.04689629\n",
            "Iteration 30, loss = 0.04261432\n",
            "Iteration 31, loss = 0.04103901\n",
            "Iteration 32, loss = 0.03974783\n",
            "Iteration 33, loss = 0.03633844\n",
            "Iteration 34, loss = 0.03443913\n",
            "Iteration 35, loss = 0.03320304\n",
            "Iteration 36, loss = 0.03107687\n",
            "Iteration 37, loss = 0.02961870\n",
            "Iteration 38, loss = 0.02827165\n",
            "Iteration 39, loss = 0.02745201\n",
            "Iteration 40, loss = 0.02630994\n",
            "Iteration 41, loss = 0.02559801\n",
            "Iteration 42, loss = 0.02433480\n",
            "Iteration 43, loss = 0.02316314\n",
            "Iteration 44, loss = 0.02205294\n",
            "Iteration 45, loss = 0.02128532\n",
            "Iteration 46, loss = 0.02046352\n",
            "Iteration 47, loss = 0.01978616\n",
            "Iteration 48, loss = 0.01904044\n",
            "Iteration 49, loss = 0.01870816\n",
            "Iteration 50, loss = 0.01794133\n",
            "Iteration 51, loss = 0.01747366\n",
            "Iteration 52, loss = 0.01690301\n",
            "Iteration 53, loss = 0.01620116\n",
            "Iteration 54, loss = 0.01588574\n",
            "Iteration 55, loss = 0.01538148\n",
            "Iteration 56, loss = 0.01485896\n",
            "Iteration 57, loss = 0.01453854\n",
            "Iteration 58, loss = 0.01409573\n",
            "Iteration 59, loss = 0.01391206\n",
            "Iteration 60, loss = 0.01307695\n",
            "Iteration 61, loss = 0.01266753\n",
            "Iteration 62, loss = 0.01232873\n",
            "Iteration 63, loss = 0.01206433\n",
            "Iteration 64, loss = 0.01169752\n",
            "Iteration 65, loss = 0.01164914\n",
            "Iteration 66, loss = 0.01097629\n",
            "Iteration 67, loss = 0.01073732\n",
            "Iteration 68, loss = 0.01047980\n",
            "Iteration 69, loss = 0.01021394\n",
            "Iteration 70, loss = 0.01004499\n",
            "Iteration 71, loss = 0.00972609\n",
            "Iteration 72, loss = 0.00941535\n",
            "Iteration 73, loss = 0.00922141\n",
            "Iteration 74, loss = 0.00910992\n",
            "Iteration 75, loss = 0.00876006\n",
            "Iteration 76, loss = 0.00851524\n",
            "Iteration 77, loss = 0.00824683\n",
            "Iteration 78, loss = 0.00805655\n",
            "Iteration 79, loss = 0.00773851\n",
            "Iteration 80, loss = 0.00763395\n",
            "Iteration 81, loss = 0.00741760\n",
            "Iteration 82, loss = 0.00715926\n",
            "Iteration 83, loss = 0.00690138\n",
            "Iteration 84, loss = 0.00672944\n",
            "Iteration 85, loss = 0.00652702\n",
            "Iteration 86, loss = 0.00636905\n",
            "Iteration 87, loss = 0.00648516\n",
            "Iteration 88, loss = 0.00618560\n",
            "Iteration 89, loss = 0.00585828\n",
            "Iteration 90, loss = 0.00571158\n",
            "Iteration 91, loss = 0.00559285\n",
            "Iteration 92, loss = 0.00544476\n",
            "Iteration 93, loss = 0.00523728\n",
            "Iteration 94, loss = 0.00512889\n",
            "Iteration 95, loss = 0.00500195\n",
            "Iteration 96, loss = 0.00492851\n",
            "Iteration 97, loss = 0.00474271\n",
            "Iteration 98, loss = 0.00464381\n",
            "Iteration 99, loss = 0.00454874\n",
            "Iteration 100, loss = 0.00444583\n",
            "Iteration 101, loss = 0.00432664\n",
            "Iteration 102, loss = 0.00421914\n",
            "Iteration 103, loss = 0.00419607\n",
            "Iteration 104, loss = 0.00405573\n",
            "Iteration 105, loss = 0.00397668\n",
            "Iteration 106, loss = 0.00389047\n",
            "Iteration 107, loss = 0.00380265\n",
            "Iteration 108, loss = 0.00372231\n",
            "Iteration 109, loss = 0.00368753\n",
            "Iteration 110, loss = 0.00360502\n",
            "Iteration 111, loss = 0.00351754\n",
            "Iteration 112, loss = 0.00344581\n",
            "Iteration 113, loss = 0.00337725\n",
            "Iteration 114, loss = 0.00332920\n",
            "Iteration 115, loss = 0.00328978\n",
            "Training loss did not improve more than tol=0.000100 for 10 consecutive epochs. Stopping.\n"
          ]
        },
        {
          "data": {
            "text/html": [
              "<style>#sk-container-id-3 {color: black;background-color: white;}#sk-container-id-3 pre{padding: 0;}#sk-container-id-3 div.sk-toggleable {background-color: white;}#sk-container-id-3 label.sk-toggleable__label {cursor: pointer;display: block;width: 100%;margin-bottom: 0;padding: 0.3em;box-sizing: border-box;text-align: center;}#sk-container-id-3 label.sk-toggleable__label-arrow:before {content: \"▸\";float: left;margin-right: 0.25em;color: #696969;}#sk-container-id-3 label.sk-toggleable__label-arrow:hover:before {color: black;}#sk-container-id-3 div.sk-estimator:hover label.sk-toggleable__label-arrow:before {color: black;}#sk-container-id-3 div.sk-toggleable__content {max-height: 0;max-width: 0;overflow: hidden;text-align: left;background-color: #f0f8ff;}#sk-container-id-3 div.sk-toggleable__content pre {margin: 0.2em;color: black;border-radius: 0.25em;background-color: #f0f8ff;}#sk-container-id-3 input.sk-toggleable__control:checked~div.sk-toggleable__content {max-height: 200px;max-width: 100%;overflow: auto;}#sk-container-id-3 input.sk-toggleable__control:checked~label.sk-toggleable__label-arrow:before {content: \"▾\";}#sk-container-id-3 div.sk-estimator input.sk-toggleable__control:checked~label.sk-toggleable__label {background-color: #d4ebff;}#sk-container-id-3 div.sk-label input.sk-toggleable__control:checked~label.sk-toggleable__label {background-color: #d4ebff;}#sk-container-id-3 input.sk-hidden--visually {border: 0;clip: rect(1px 1px 1px 1px);clip: rect(1px, 1px, 1px, 1px);height: 1px;margin: -1px;overflow: hidden;padding: 0;position: absolute;width: 1px;}#sk-container-id-3 div.sk-estimator {font-family: monospace;background-color: #f0f8ff;border: 1px dotted black;border-radius: 0.25em;box-sizing: border-box;margin-bottom: 0.5em;}#sk-container-id-3 div.sk-estimator:hover {background-color: #d4ebff;}#sk-container-id-3 div.sk-parallel-item::after {content: \"\";width: 100%;border-bottom: 1px solid gray;flex-grow: 1;}#sk-container-id-3 div.sk-label:hover label.sk-toggleable__label {background-color: #d4ebff;}#sk-container-id-3 div.sk-serial::before {content: \"\";position: absolute;border-left: 1px solid gray;box-sizing: border-box;top: 0;bottom: 0;left: 50%;z-index: 0;}#sk-container-id-3 div.sk-serial {display: flex;flex-direction: column;align-items: center;background-color: white;padding-right: 0.2em;padding-left: 0.2em;position: relative;}#sk-container-id-3 div.sk-item {position: relative;z-index: 1;}#sk-container-id-3 div.sk-parallel {display: flex;align-items: stretch;justify-content: center;background-color: white;position: relative;}#sk-container-id-3 div.sk-item::before, #sk-container-id-3 div.sk-parallel-item::before {content: \"\";position: absolute;border-left: 1px solid gray;box-sizing: border-box;top: 0;bottom: 0;left: 50%;z-index: -1;}#sk-container-id-3 div.sk-parallel-item {display: flex;flex-direction: column;z-index: 1;position: relative;background-color: white;}#sk-container-id-3 div.sk-parallel-item:first-child::after {align-self: flex-end;width: 50%;}#sk-container-id-3 div.sk-parallel-item:last-child::after {align-self: flex-start;width: 50%;}#sk-container-id-3 div.sk-parallel-item:only-child::after {width: 0;}#sk-container-id-3 div.sk-dashed-wrapped {border: 1px dashed gray;margin: 0 0.4em 0.5em 0.4em;box-sizing: border-box;padding-bottom: 0.4em;background-color: white;}#sk-container-id-3 div.sk-label label {font-family: monospace;font-weight: bold;display: inline-block;line-height: 1.2em;}#sk-container-id-3 div.sk-label-container {text-align: center;}#sk-container-id-3 div.sk-container {/* jupyter's `normalize.less` sets `[hidden] { display: none; }` but bootstrap.min.css set `[hidden] { display: none !important; }` so we also need the `!important` here to be able to override the default hidden behavior on the sphinx rendered scikit-learn.org. See: https://github.com/scikit-learn/scikit-learn/issues/21755 */display: inline-block !important;position: relative;}#sk-container-id-3 div.sk-text-repr-fallback {display: none;}</style><div id=\"sk-container-id-3\" class=\"sk-top-container\"><div class=\"sk-text-repr-fallback\"><pre>MLPClassifier(max_iter=1000, verbose=True)</pre><b>In a Jupyter environment, please rerun this cell to show the HTML representation or trust the notebook. <br />On GitHub, the HTML representation is unable to render, please try loading this page with nbviewer.org.</b></div><div class=\"sk-container\" hidden><div class=\"sk-item\"><div class=\"sk-estimator sk-toggleable\"><input class=\"sk-toggleable__control sk-hidden--visually\" id=\"sk-estimator-id-3\" type=\"checkbox\" checked><label for=\"sk-estimator-id-3\" class=\"sk-toggleable__label sk-toggleable__label-arrow\">MLPClassifier</label><div class=\"sk-toggleable__content\"><pre>MLPClassifier(max_iter=1000, verbose=True)</pre></div></div></div></div></div>"
            ],
            "text/plain": [
              "MLPClassifier(max_iter=1000, verbose=True)"
            ]
          },
          "execution_count": 37,
          "metadata": {},
          "output_type": "execute_result"
        }
      ],
      "source": [
        "#Entrenamos el modelo\n",
        "mlp.fit(X_train, y_train)"
      ]
    },
    {
      "cell_type": "code",
      "execution_count": null,
      "metadata": {
        "id": "3IplsMQdLyZC"
      },
      "outputs": [],
      "source": [
        "# Hacemos predicciones con los datos de test\n",
        "y_pred = mlp.predict(no_outliers_X)"
      ]
    },
    {
      "cell_type": "code",
      "execution_count": null,
      "metadata": {
        "id": "kVAfhafjLyZC",
        "outputId": "41f1b789-42fa-4d27-c032-02723d72db1d"
      },
      "outputs": [
        {
          "name": "stdout",
          "output_type": "stream",
          "text": [
            "Accuracy: 0.9869402985074627\n"
          ]
        }
      ],
      "source": [
        "accuracy = mlp.score(no_outliers_X, no_outliers)\n",
        "print(\"Accuracy:\", accuracy)"
      ]
    },
    {
      "cell_type": "markdown",
      "metadata": {
        "id": "eueFdL0lLyZC"
      },
      "source": [
        "Observamos que el accuracy del modelo mejora hasta convertirse practicamente en un modelo perfecto, con un accuracy de 98,6%"
      ]
    },
    {
      "cell_type": "markdown",
      "metadata": {
        "id": "38MT925OLyZD"
      },
      "source": [
        "En caso de eliminar los outliers en el conjunto de train, podría tener un impacto tanto positivo como negativo, ya que podría mejorar evitando que el modelo aprenda patrones erróneos, pero también podría reducir la capacidad del modelo para generalizar y predecir datos futuros."
      ]
    },
    {
      "cell_type": "markdown",
      "metadata": {
        "id": "-sUx7BsbLyZD"
      },
      "source": [
        "## (Extra) Evalúa tus propias imágenes con el modelo entrenado\n",
        "\n",
        "Genera una imagen de 32x32 píxels y escribe un número en ella. A continuación reconócelo con el mejor modelo que hayas\n",
        "obtenido en los pasos anteriores.\n",
        "\n",
        "Recuerda que en la descripción del dataset se especifica como deben ser los números de entrada:\n",
        "\n",
        "* Imágenes de 8x8 con valores en escala de grises entre 0 y 16\n",
        "* Número en blanco sobre un fondo negro.\n",
        "\n",
        "Por último:\n",
        "\n",
        "* Evalua los resultados obtenidos. ¿cómo podríamos mejorarlos?"
      ]
    },
    {
      "cell_type": "code",
      "execution_count": null,
      "metadata": {
        "id": "3aGABG1qLyZD"
      },
      "outputs": [],
      "source": [
        "from skimage import data, io, filters\n",
        "img = io.imread(\"tu_digito.png\")"
      ]
    },
    {
      "cell_type": "code",
      "execution_count": null,
      "metadata": {
        "id": "oD8kk408LyZD"
      },
      "outputs": [],
      "source": [
        "io.imshow(img)\n",
        "io.show()"
      ]
    },
    {
      "cell_type": "code",
      "execution_count": null,
      "metadata": {
        "id": "_leMPZFGLyZD"
      },
      "outputs": [],
      "source": []
    }
  ],
  "metadata": {
    "anaconda-cloud": {},
    "kernelspec": {
      "display_name": "Python 3 (ipykernel)",
      "language": "python",
      "name": "python3"
    },
    "language_info": {
      "codemirror_mode": {
        "name": "ipython",
        "version": 3
      },
      "file_extension": ".py",
      "mimetype": "text/x-python",
      "name": "python",
      "nbconvert_exporter": "python",
      "pygments_lexer": "ipython3",
      "version": "3.9.12"
    },
    "colab": {
      "provenance": [],
      "include_colab_link": true
    }
  },
  "nbformat": 4,
  "nbformat_minor": 0
}